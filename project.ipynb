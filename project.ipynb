{
 "cells": [
  {
   "cell_type": "markdown",
   "metadata": {},
   "source": [
    "# Import the Libraries"
   ]
  },
  {
   "cell_type": "code",
   "execution_count": 7,
   "metadata": {},
   "outputs": [],
   "source": [
    "# Data Manipulation and Pre-Processing\n",
    "import pandas as pd\n",
    "import numpy as np\n",
    "from functools import reduce\n",
    "import re\n",
    "from sklearn.model_selection import train_test_split\n",
    "from sklearn.preprocessing import StandardScaler\n",
    "from sklearn.utils import shuffle\n",
    "import time\n",
    "from tqdm.auto import tqdm\n",
    "\n",
    "# Data Visualization\n",
    "import matplotlib.pyplot as plt\n",
    "import seaborn as sns\n",
    "from matplotlib.lines import Line2D\n",
    "\n",
    "# Classification Models\n",
    "from sklearn.dummy import DummyClassifier\n",
    "from sklearn.linear_model import LogisticRegression\n",
    "from sklearn.tree import DecisionTreeClassifier\n",
    "from lightgbm import LGBMClassifier\n",
    "from catboost import CatBoostClassifier\n",
    "from xgboost import XGBClassifier\n",
    "\n",
    "# Model selection and evalution\n",
    "from sklearn.metrics import roc_auc_score, roc_curve, accuracy_score\n",
    "from sklearn.metrics import confusion_matrix, classification_report\n",
    "import optuna\n",
    "\n",
    "# Model saving\n",
    "import os\n",
    "import pickle\n",
    "\n",
    "# Suppress warning messages\n",
    "import warnings\n",
    "warnings.filterwarnings('ignore')"
   ]
  },
  {
   "cell_type": "markdown",
   "metadata": {},
   "source": [
    "# Import the Data"
   ]
  },
  {
   "cell_type": "code",
   "execution_count": 8,
   "metadata": {},
   "outputs": [],
   "source": [
    "# Import the data\n",
    "\n",
    "data_names = ['contract', 'internet', 'personal', 'phone']\n",
    "\n",
    "for name in data_names:\n",
    "    try:\n",
    "        globals()[f'df_{name}'] = pd.read_csv(f'{name}.csv')\n",
    "    except:\n",
    "        globals()[f'df_{name}'] = pd.read_csv(f'/datasets/final_provider/{name}.csv')"
   ]
  },
  {
   "cell_type": "markdown",
   "metadata": {},
   "source": [
    "## Data Analysis"
   ]
  },
  {
   "cell_type": "code",
   "execution_count": 9,
   "metadata": {},
   "outputs": [],
   "source": [
    "def data_analysis(df):\n",
    "    \"\"\"\n",
    "    Extract all information we want from a dataframe\n",
    "    \"\"\"\n",
    "    display(df.head(5))\n",
    "    print('-'*60)\n",
    "    df.info()\n",
    "    print('-'*60)\n",
    "    print('Number of Duplicated Lines:', df.duplicated().sum())\n",
    "    print('-'*60)\n",
    "    print('Number of Missing data', df.isna().sum())\n",
    "    print('-'*60)\n",
    "    print('Size of DataFrame', df.shape)\n",
    "    print('-'*60)\n",
    "    display(df.describe(include='all'))"
   ]
  },
  {
   "cell_type": "markdown",
   "metadata": {},
   "source": [
    "### Contract Data"
   ]
  },
  {
   "cell_type": "code",
   "execution_count": 10,
   "metadata": {},
   "outputs": [
    {
     "data": {
      "text/html": [
       "<div>\n",
       "<style scoped>\n",
       "    .dataframe tbody tr th:only-of-type {\n",
       "        vertical-align: middle;\n",
       "    }\n",
       "\n",
       "    .dataframe tbody tr th {\n",
       "        vertical-align: top;\n",
       "    }\n",
       "\n",
       "    .dataframe thead th {\n",
       "        text-align: right;\n",
       "    }\n",
       "</style>\n",
       "<table border=\"1\" class=\"dataframe\">\n",
       "  <thead>\n",
       "    <tr style=\"text-align: right;\">\n",
       "      <th></th>\n",
       "      <th>customerID</th>\n",
       "      <th>BeginDate</th>\n",
       "      <th>EndDate</th>\n",
       "      <th>Type</th>\n",
       "      <th>PaperlessBilling</th>\n",
       "      <th>PaymentMethod</th>\n",
       "      <th>MonthlyCharges</th>\n",
       "      <th>TotalCharges</th>\n",
       "    </tr>\n",
       "  </thead>\n",
       "  <tbody>\n",
       "    <tr>\n",
       "      <th>0</th>\n",
       "      <td>7590-VHVEG</td>\n",
       "      <td>2020-01-01</td>\n",
       "      <td>No</td>\n",
       "      <td>Month-to-month</td>\n",
       "      <td>Yes</td>\n",
       "      <td>Electronic check</td>\n",
       "      <td>29.85</td>\n",
       "      <td>29.85</td>\n",
       "    </tr>\n",
       "    <tr>\n",
       "      <th>1</th>\n",
       "      <td>5575-GNVDE</td>\n",
       "      <td>2017-04-01</td>\n",
       "      <td>No</td>\n",
       "      <td>One year</td>\n",
       "      <td>No</td>\n",
       "      <td>Mailed check</td>\n",
       "      <td>56.95</td>\n",
       "      <td>1889.5</td>\n",
       "    </tr>\n",
       "    <tr>\n",
       "      <th>2</th>\n",
       "      <td>3668-QPYBK</td>\n",
       "      <td>2019-10-01</td>\n",
       "      <td>2019-12-01 00:00:00</td>\n",
       "      <td>Month-to-month</td>\n",
       "      <td>Yes</td>\n",
       "      <td>Mailed check</td>\n",
       "      <td>53.85</td>\n",
       "      <td>108.15</td>\n",
       "    </tr>\n",
       "    <tr>\n",
       "      <th>3</th>\n",
       "      <td>7795-CFOCW</td>\n",
       "      <td>2016-05-01</td>\n",
       "      <td>No</td>\n",
       "      <td>One year</td>\n",
       "      <td>No</td>\n",
       "      <td>Bank transfer (automatic)</td>\n",
       "      <td>42.30</td>\n",
       "      <td>1840.75</td>\n",
       "    </tr>\n",
       "    <tr>\n",
       "      <th>4</th>\n",
       "      <td>9237-HQITU</td>\n",
       "      <td>2019-09-01</td>\n",
       "      <td>2019-11-01 00:00:00</td>\n",
       "      <td>Month-to-month</td>\n",
       "      <td>Yes</td>\n",
       "      <td>Electronic check</td>\n",
       "      <td>70.70</td>\n",
       "      <td>151.65</td>\n",
       "    </tr>\n",
       "  </tbody>\n",
       "</table>\n",
       "</div>"
      ],
      "text/plain": [
       "   customerID   BeginDate              EndDate            Type  \\\n",
       "0  7590-VHVEG  2020-01-01                   No  Month-to-month   \n",
       "1  5575-GNVDE  2017-04-01                   No        One year   \n",
       "2  3668-QPYBK  2019-10-01  2019-12-01 00:00:00  Month-to-month   \n",
       "3  7795-CFOCW  2016-05-01                   No        One year   \n",
       "4  9237-HQITU  2019-09-01  2019-11-01 00:00:00  Month-to-month   \n",
       "\n",
       "  PaperlessBilling              PaymentMethod  MonthlyCharges TotalCharges  \n",
       "0              Yes           Electronic check           29.85        29.85  \n",
       "1               No               Mailed check           56.95       1889.5  \n",
       "2              Yes               Mailed check           53.85       108.15  \n",
       "3               No  Bank transfer (automatic)           42.30      1840.75  \n",
       "4              Yes           Electronic check           70.70       151.65  "
      ]
     },
     "metadata": {},
     "output_type": "display_data"
    },
    {
     "name": "stdout",
     "output_type": "stream",
     "text": [
      "------------------------------------------------------------\n",
      "<class 'pandas.core.frame.DataFrame'>\n",
      "RangeIndex: 7043 entries, 0 to 7042\n",
      "Data columns (total 8 columns):\n",
      " #   Column            Non-Null Count  Dtype  \n",
      "---  ------            --------------  -----  \n",
      " 0   customerID        7043 non-null   object \n",
      " 1   BeginDate         7043 non-null   object \n",
      " 2   EndDate           7043 non-null   object \n",
      " 3   Type              7043 non-null   object \n",
      " 4   PaperlessBilling  7043 non-null   object \n",
      " 5   PaymentMethod     7043 non-null   object \n",
      " 6   MonthlyCharges    7043 non-null   float64\n",
      " 7   TotalCharges      7043 non-null   object \n",
      "dtypes: float64(1), object(7)\n",
      "memory usage: 440.3+ KB\n",
      "------------------------------------------------------------\n",
      "Number of Duplicated Lines: 0\n",
      "------------------------------------------------------------\n",
      "Number of Missing data customerID          0\n",
      "BeginDate           0\n",
      "EndDate             0\n",
      "Type                0\n",
      "PaperlessBilling    0\n",
      "PaymentMethod       0\n",
      "MonthlyCharges      0\n",
      "TotalCharges        0\n",
      "dtype: int64\n",
      "------------------------------------------------------------\n",
      "Size of DataFrame (7043, 8)\n",
      "------------------------------------------------------------\n"
     ]
    },
    {
     "data": {
      "text/html": [
       "<div>\n",
       "<style scoped>\n",
       "    .dataframe tbody tr th:only-of-type {\n",
       "        vertical-align: middle;\n",
       "    }\n",
       "\n",
       "    .dataframe tbody tr th {\n",
       "        vertical-align: top;\n",
       "    }\n",
       "\n",
       "    .dataframe thead th {\n",
       "        text-align: right;\n",
       "    }\n",
       "</style>\n",
       "<table border=\"1\" class=\"dataframe\">\n",
       "  <thead>\n",
       "    <tr style=\"text-align: right;\">\n",
       "      <th></th>\n",
       "      <th>customerID</th>\n",
       "      <th>BeginDate</th>\n",
       "      <th>EndDate</th>\n",
       "      <th>Type</th>\n",
       "      <th>PaperlessBilling</th>\n",
       "      <th>PaymentMethod</th>\n",
       "      <th>MonthlyCharges</th>\n",
       "      <th>TotalCharges</th>\n",
       "    </tr>\n",
       "  </thead>\n",
       "  <tbody>\n",
       "    <tr>\n",
       "      <th>count</th>\n",
       "      <td>7043</td>\n",
       "      <td>7043</td>\n",
       "      <td>7043</td>\n",
       "      <td>7043</td>\n",
       "      <td>7043</td>\n",
       "      <td>7043</td>\n",
       "      <td>7043.000000</td>\n",
       "      <td>7043</td>\n",
       "    </tr>\n",
       "    <tr>\n",
       "      <th>unique</th>\n",
       "      <td>7043</td>\n",
       "      <td>77</td>\n",
       "      <td>5</td>\n",
       "      <td>3</td>\n",
       "      <td>2</td>\n",
       "      <td>4</td>\n",
       "      <td>NaN</td>\n",
       "      <td>6531</td>\n",
       "    </tr>\n",
       "    <tr>\n",
       "      <th>top</th>\n",
       "      <td>7590-VHVEG</td>\n",
       "      <td>2014-02-01</td>\n",
       "      <td>No</td>\n",
       "      <td>Month-to-month</td>\n",
       "      <td>Yes</td>\n",
       "      <td>Electronic check</td>\n",
       "      <td>NaN</td>\n",
       "      <td></td>\n",
       "    </tr>\n",
       "    <tr>\n",
       "      <th>freq</th>\n",
       "      <td>1</td>\n",
       "      <td>366</td>\n",
       "      <td>5174</td>\n",
       "      <td>3875</td>\n",
       "      <td>4171</td>\n",
       "      <td>2365</td>\n",
       "      <td>NaN</td>\n",
       "      <td>11</td>\n",
       "    </tr>\n",
       "    <tr>\n",
       "      <th>mean</th>\n",
       "      <td>NaN</td>\n",
       "      <td>NaN</td>\n",
       "      <td>NaN</td>\n",
       "      <td>NaN</td>\n",
       "      <td>NaN</td>\n",
       "      <td>NaN</td>\n",
       "      <td>64.761692</td>\n",
       "      <td>NaN</td>\n",
       "    </tr>\n",
       "    <tr>\n",
       "      <th>std</th>\n",
       "      <td>NaN</td>\n",
       "      <td>NaN</td>\n",
       "      <td>NaN</td>\n",
       "      <td>NaN</td>\n",
       "      <td>NaN</td>\n",
       "      <td>NaN</td>\n",
       "      <td>30.090047</td>\n",
       "      <td>NaN</td>\n",
       "    </tr>\n",
       "    <tr>\n",
       "      <th>min</th>\n",
       "      <td>NaN</td>\n",
       "      <td>NaN</td>\n",
       "      <td>NaN</td>\n",
       "      <td>NaN</td>\n",
       "      <td>NaN</td>\n",
       "      <td>NaN</td>\n",
       "      <td>18.250000</td>\n",
       "      <td>NaN</td>\n",
       "    </tr>\n",
       "    <tr>\n",
       "      <th>25%</th>\n",
       "      <td>NaN</td>\n",
       "      <td>NaN</td>\n",
       "      <td>NaN</td>\n",
       "      <td>NaN</td>\n",
       "      <td>NaN</td>\n",
       "      <td>NaN</td>\n",
       "      <td>35.500000</td>\n",
       "      <td>NaN</td>\n",
       "    </tr>\n",
       "    <tr>\n",
       "      <th>50%</th>\n",
       "      <td>NaN</td>\n",
       "      <td>NaN</td>\n",
       "      <td>NaN</td>\n",
       "      <td>NaN</td>\n",
       "      <td>NaN</td>\n",
       "      <td>NaN</td>\n",
       "      <td>70.350000</td>\n",
       "      <td>NaN</td>\n",
       "    </tr>\n",
       "    <tr>\n",
       "      <th>75%</th>\n",
       "      <td>NaN</td>\n",
       "      <td>NaN</td>\n",
       "      <td>NaN</td>\n",
       "      <td>NaN</td>\n",
       "      <td>NaN</td>\n",
       "      <td>NaN</td>\n",
       "      <td>89.850000</td>\n",
       "      <td>NaN</td>\n",
       "    </tr>\n",
       "    <tr>\n",
       "      <th>max</th>\n",
       "      <td>NaN</td>\n",
       "      <td>NaN</td>\n",
       "      <td>NaN</td>\n",
       "      <td>NaN</td>\n",
       "      <td>NaN</td>\n",
       "      <td>NaN</td>\n",
       "      <td>118.750000</td>\n",
       "      <td>NaN</td>\n",
       "    </tr>\n",
       "  </tbody>\n",
       "</table>\n",
       "</div>"
      ],
      "text/plain": [
       "        customerID   BeginDate EndDate            Type PaperlessBilling  \\\n",
       "count         7043        7043    7043            7043             7043   \n",
       "unique        7043          77       5               3                2   \n",
       "top     7590-VHVEG  2014-02-01      No  Month-to-month              Yes   \n",
       "freq             1         366    5174            3875             4171   \n",
       "mean           NaN         NaN     NaN             NaN              NaN   \n",
       "std            NaN         NaN     NaN             NaN              NaN   \n",
       "min            NaN         NaN     NaN             NaN              NaN   \n",
       "25%            NaN         NaN     NaN             NaN              NaN   \n",
       "50%            NaN         NaN     NaN             NaN              NaN   \n",
       "75%            NaN         NaN     NaN             NaN              NaN   \n",
       "max            NaN         NaN     NaN             NaN              NaN   \n",
       "\n",
       "           PaymentMethod  MonthlyCharges TotalCharges  \n",
       "count               7043     7043.000000         7043  \n",
       "unique                 4             NaN         6531  \n",
       "top     Electronic check             NaN               \n",
       "freq                2365             NaN           11  \n",
       "mean                 NaN       64.761692          NaN  \n",
       "std                  NaN       30.090047          NaN  \n",
       "min                  NaN       18.250000          NaN  \n",
       "25%                  NaN       35.500000          NaN  \n",
       "50%                  NaN       70.350000          NaN  \n",
       "75%                  NaN       89.850000          NaN  \n",
       "max                  NaN      118.750000          NaN  "
      ]
     },
     "metadata": {},
     "output_type": "display_data"
    }
   ],
   "source": [
    "# Analysis of df_contract\n",
    "data_analysis(df_contract)"
   ]
  },
  {
   "cell_type": "code",
   "execution_count": 11,
   "metadata": {},
   "outputs": [
    {
     "data": {
      "text/html": [
       "<div>\n",
       "<style scoped>\n",
       "    .dataframe tbody tr th:only-of-type {\n",
       "        vertical-align: middle;\n",
       "    }\n",
       "\n",
       "    .dataframe tbody tr th {\n",
       "        vertical-align: top;\n",
       "    }\n",
       "\n",
       "    .dataframe thead th {\n",
       "        text-align: right;\n",
       "    }\n",
       "</style>\n",
       "<table border=\"1\" class=\"dataframe\">\n",
       "  <thead>\n",
       "    <tr style=\"text-align: right;\">\n",
       "      <th></th>\n",
       "      <th>customerID</th>\n",
       "      <th>BeginDate</th>\n",
       "      <th>EndDate</th>\n",
       "      <th>Type</th>\n",
       "      <th>PaperlessBilling</th>\n",
       "      <th>PaymentMethod</th>\n",
       "      <th>MonthlyCharges</th>\n",
       "      <th>TotalCharges</th>\n",
       "    </tr>\n",
       "  </thead>\n",
       "  <tbody>\n",
       "    <tr>\n",
       "      <th>488</th>\n",
       "      <td>4472-LVYGI</td>\n",
       "      <td>2020-02-01</td>\n",
       "      <td>No</td>\n",
       "      <td>Two year</td>\n",
       "      <td>Yes</td>\n",
       "      <td>Bank transfer (automatic)</td>\n",
       "      <td>52.55</td>\n",
       "      <td></td>\n",
       "    </tr>\n",
       "    <tr>\n",
       "      <th>753</th>\n",
       "      <td>3115-CZMZD</td>\n",
       "      <td>2020-02-01</td>\n",
       "      <td>No</td>\n",
       "      <td>Two year</td>\n",
       "      <td>No</td>\n",
       "      <td>Mailed check</td>\n",
       "      <td>20.25</td>\n",
       "      <td></td>\n",
       "    </tr>\n",
       "    <tr>\n",
       "      <th>936</th>\n",
       "      <td>5709-LVOEQ</td>\n",
       "      <td>2020-02-01</td>\n",
       "      <td>No</td>\n",
       "      <td>Two year</td>\n",
       "      <td>No</td>\n",
       "      <td>Mailed check</td>\n",
       "      <td>80.85</td>\n",
       "      <td></td>\n",
       "    </tr>\n",
       "    <tr>\n",
       "      <th>1082</th>\n",
       "      <td>4367-NUYAO</td>\n",
       "      <td>2020-02-01</td>\n",
       "      <td>No</td>\n",
       "      <td>Two year</td>\n",
       "      <td>No</td>\n",
       "      <td>Mailed check</td>\n",
       "      <td>25.75</td>\n",
       "      <td></td>\n",
       "    </tr>\n",
       "    <tr>\n",
       "      <th>1340</th>\n",
       "      <td>1371-DWPAZ</td>\n",
       "      <td>2020-02-01</td>\n",
       "      <td>No</td>\n",
       "      <td>Two year</td>\n",
       "      <td>No</td>\n",
       "      <td>Credit card (automatic)</td>\n",
       "      <td>56.05</td>\n",
       "      <td></td>\n",
       "    </tr>\n",
       "    <tr>\n",
       "      <th>3331</th>\n",
       "      <td>7644-OMVMY</td>\n",
       "      <td>2020-02-01</td>\n",
       "      <td>No</td>\n",
       "      <td>Two year</td>\n",
       "      <td>No</td>\n",
       "      <td>Mailed check</td>\n",
       "      <td>19.85</td>\n",
       "      <td></td>\n",
       "    </tr>\n",
       "    <tr>\n",
       "      <th>3826</th>\n",
       "      <td>3213-VVOLG</td>\n",
       "      <td>2020-02-01</td>\n",
       "      <td>No</td>\n",
       "      <td>Two year</td>\n",
       "      <td>No</td>\n",
       "      <td>Mailed check</td>\n",
       "      <td>25.35</td>\n",
       "      <td></td>\n",
       "    </tr>\n",
       "    <tr>\n",
       "      <th>4380</th>\n",
       "      <td>2520-SGTTA</td>\n",
       "      <td>2020-02-01</td>\n",
       "      <td>No</td>\n",
       "      <td>Two year</td>\n",
       "      <td>No</td>\n",
       "      <td>Mailed check</td>\n",
       "      <td>20.00</td>\n",
       "      <td></td>\n",
       "    </tr>\n",
       "    <tr>\n",
       "      <th>5218</th>\n",
       "      <td>2923-ARZLG</td>\n",
       "      <td>2020-02-01</td>\n",
       "      <td>No</td>\n",
       "      <td>One year</td>\n",
       "      <td>Yes</td>\n",
       "      <td>Mailed check</td>\n",
       "      <td>19.70</td>\n",
       "      <td></td>\n",
       "    </tr>\n",
       "    <tr>\n",
       "      <th>6670</th>\n",
       "      <td>4075-WKNIU</td>\n",
       "      <td>2020-02-01</td>\n",
       "      <td>No</td>\n",
       "      <td>Two year</td>\n",
       "      <td>No</td>\n",
       "      <td>Mailed check</td>\n",
       "      <td>73.35</td>\n",
       "      <td></td>\n",
       "    </tr>\n",
       "    <tr>\n",
       "      <th>6754</th>\n",
       "      <td>2775-SEFEE</td>\n",
       "      <td>2020-02-01</td>\n",
       "      <td>No</td>\n",
       "      <td>Two year</td>\n",
       "      <td>Yes</td>\n",
       "      <td>Bank transfer (automatic)</td>\n",
       "      <td>61.90</td>\n",
       "      <td></td>\n",
       "    </tr>\n",
       "  </tbody>\n",
       "</table>\n",
       "</div>"
      ],
      "text/plain": [
       "      customerID   BeginDate EndDate      Type PaperlessBilling  \\\n",
       "488   4472-LVYGI  2020-02-01      No  Two year              Yes   \n",
       "753   3115-CZMZD  2020-02-01      No  Two year               No   \n",
       "936   5709-LVOEQ  2020-02-01      No  Two year               No   \n",
       "1082  4367-NUYAO  2020-02-01      No  Two year               No   \n",
       "1340  1371-DWPAZ  2020-02-01      No  Two year               No   \n",
       "3331  7644-OMVMY  2020-02-01      No  Two year               No   \n",
       "3826  3213-VVOLG  2020-02-01      No  Two year               No   \n",
       "4380  2520-SGTTA  2020-02-01      No  Two year               No   \n",
       "5218  2923-ARZLG  2020-02-01      No  One year              Yes   \n",
       "6670  4075-WKNIU  2020-02-01      No  Two year               No   \n",
       "6754  2775-SEFEE  2020-02-01      No  Two year              Yes   \n",
       "\n",
       "                  PaymentMethod  MonthlyCharges TotalCharges  \n",
       "488   Bank transfer (automatic)           52.55               \n",
       "753                Mailed check           20.25               \n",
       "936                Mailed check           80.85               \n",
       "1082               Mailed check           25.75               \n",
       "1340    Credit card (automatic)           56.05               \n",
       "3331               Mailed check           19.85               \n",
       "3826               Mailed check           25.35               \n",
       "4380               Mailed check           20.00               \n",
       "5218               Mailed check           19.70               \n",
       "6670               Mailed check           73.35               \n",
       "6754  Bank transfer (automatic)           61.90               "
      ]
     },
     "execution_count": 11,
     "metadata": {},
     "output_type": "execute_result"
    }
   ],
   "source": [
    "df_contract.query('TotalCharges == \" \"')"
   ]
  },
  {
   "cell_type": "markdown",
   "metadata": {},
   "source": [
    "- We will rename all the columns to snake case\n",
    "- The size of dataframe: (7043,8)\n",
    "- There are no missing value or duplicated row\n",
    "- We will need to change the type of BeginDate, EndDate and TotalCharge\n",
    "- The total charge column has a empty value: \" \".\n",
    "- All the TotalCharges with BeginDate in 2020-02-01 are missing."
   ]
  },
  {
   "cell_type": "markdown",
   "metadata": {},
   "source": [
    "### Internet Data"
   ]
  },
  {
   "cell_type": "code",
   "execution_count": 12,
   "metadata": {},
   "outputs": [
    {
     "data": {
      "text/html": [
       "<div>\n",
       "<style scoped>\n",
       "    .dataframe tbody tr th:only-of-type {\n",
       "        vertical-align: middle;\n",
       "    }\n",
       "\n",
       "    .dataframe tbody tr th {\n",
       "        vertical-align: top;\n",
       "    }\n",
       "\n",
       "    .dataframe thead th {\n",
       "        text-align: right;\n",
       "    }\n",
       "</style>\n",
       "<table border=\"1\" class=\"dataframe\">\n",
       "  <thead>\n",
       "    <tr style=\"text-align: right;\">\n",
       "      <th></th>\n",
       "      <th>customerID</th>\n",
       "      <th>InternetService</th>\n",
       "      <th>OnlineSecurity</th>\n",
       "      <th>OnlineBackup</th>\n",
       "      <th>DeviceProtection</th>\n",
       "      <th>TechSupport</th>\n",
       "      <th>StreamingTV</th>\n",
       "      <th>StreamingMovies</th>\n",
       "    </tr>\n",
       "  </thead>\n",
       "  <tbody>\n",
       "    <tr>\n",
       "      <th>0</th>\n",
       "      <td>7590-VHVEG</td>\n",
       "      <td>DSL</td>\n",
       "      <td>No</td>\n",
       "      <td>Yes</td>\n",
       "      <td>No</td>\n",
       "      <td>No</td>\n",
       "      <td>No</td>\n",
       "      <td>No</td>\n",
       "    </tr>\n",
       "    <tr>\n",
       "      <th>1</th>\n",
       "      <td>5575-GNVDE</td>\n",
       "      <td>DSL</td>\n",
       "      <td>Yes</td>\n",
       "      <td>No</td>\n",
       "      <td>Yes</td>\n",
       "      <td>No</td>\n",
       "      <td>No</td>\n",
       "      <td>No</td>\n",
       "    </tr>\n",
       "    <tr>\n",
       "      <th>2</th>\n",
       "      <td>3668-QPYBK</td>\n",
       "      <td>DSL</td>\n",
       "      <td>Yes</td>\n",
       "      <td>Yes</td>\n",
       "      <td>No</td>\n",
       "      <td>No</td>\n",
       "      <td>No</td>\n",
       "      <td>No</td>\n",
       "    </tr>\n",
       "    <tr>\n",
       "      <th>3</th>\n",
       "      <td>7795-CFOCW</td>\n",
       "      <td>DSL</td>\n",
       "      <td>Yes</td>\n",
       "      <td>No</td>\n",
       "      <td>Yes</td>\n",
       "      <td>Yes</td>\n",
       "      <td>No</td>\n",
       "      <td>No</td>\n",
       "    </tr>\n",
       "    <tr>\n",
       "      <th>4</th>\n",
       "      <td>9237-HQITU</td>\n",
       "      <td>Fiber optic</td>\n",
       "      <td>No</td>\n",
       "      <td>No</td>\n",
       "      <td>No</td>\n",
       "      <td>No</td>\n",
       "      <td>No</td>\n",
       "      <td>No</td>\n",
       "    </tr>\n",
       "  </tbody>\n",
       "</table>\n",
       "</div>"
      ],
      "text/plain": [
       "   customerID InternetService OnlineSecurity OnlineBackup DeviceProtection  \\\n",
       "0  7590-VHVEG             DSL             No          Yes               No   \n",
       "1  5575-GNVDE             DSL            Yes           No              Yes   \n",
       "2  3668-QPYBK             DSL            Yes          Yes               No   \n",
       "3  7795-CFOCW             DSL            Yes           No              Yes   \n",
       "4  9237-HQITU     Fiber optic             No           No               No   \n",
       "\n",
       "  TechSupport StreamingTV StreamingMovies  \n",
       "0          No          No              No  \n",
       "1          No          No              No  \n",
       "2          No          No              No  \n",
       "3         Yes          No              No  \n",
       "4          No          No              No  "
      ]
     },
     "metadata": {},
     "output_type": "display_data"
    },
    {
     "name": "stdout",
     "output_type": "stream",
     "text": [
      "------------------------------------------------------------\n",
      "<class 'pandas.core.frame.DataFrame'>\n",
      "RangeIndex: 5517 entries, 0 to 5516\n",
      "Data columns (total 8 columns):\n",
      " #   Column            Non-Null Count  Dtype \n",
      "---  ------            --------------  ----- \n",
      " 0   customerID        5517 non-null   object\n",
      " 1   InternetService   5517 non-null   object\n",
      " 2   OnlineSecurity    5517 non-null   object\n",
      " 3   OnlineBackup      5517 non-null   object\n",
      " 4   DeviceProtection  5517 non-null   object\n",
      " 5   TechSupport       5517 non-null   object\n",
      " 6   StreamingTV       5517 non-null   object\n",
      " 7   StreamingMovies   5517 non-null   object\n",
      "dtypes: object(8)\n",
      "memory usage: 344.9+ KB\n",
      "------------------------------------------------------------\n",
      "Number of Duplicated Lines: 0\n",
      "------------------------------------------------------------\n",
      "Number of Missing data customerID          0\n",
      "InternetService     0\n",
      "OnlineSecurity      0\n",
      "OnlineBackup        0\n",
      "DeviceProtection    0\n",
      "TechSupport         0\n",
      "StreamingTV         0\n",
      "StreamingMovies     0\n",
      "dtype: int64\n",
      "------------------------------------------------------------\n",
      "Size of DataFrame (5517, 8)\n",
      "------------------------------------------------------------\n"
     ]
    },
    {
     "data": {
      "text/html": [
       "<div>\n",
       "<style scoped>\n",
       "    .dataframe tbody tr th:only-of-type {\n",
       "        vertical-align: middle;\n",
       "    }\n",
       "\n",
       "    .dataframe tbody tr th {\n",
       "        vertical-align: top;\n",
       "    }\n",
       "\n",
       "    .dataframe thead th {\n",
       "        text-align: right;\n",
       "    }\n",
       "</style>\n",
       "<table border=\"1\" class=\"dataframe\">\n",
       "  <thead>\n",
       "    <tr style=\"text-align: right;\">\n",
       "      <th></th>\n",
       "      <th>customerID</th>\n",
       "      <th>InternetService</th>\n",
       "      <th>OnlineSecurity</th>\n",
       "      <th>OnlineBackup</th>\n",
       "      <th>DeviceProtection</th>\n",
       "      <th>TechSupport</th>\n",
       "      <th>StreamingTV</th>\n",
       "      <th>StreamingMovies</th>\n",
       "    </tr>\n",
       "  </thead>\n",
       "  <tbody>\n",
       "    <tr>\n",
       "      <th>count</th>\n",
       "      <td>5517</td>\n",
       "      <td>5517</td>\n",
       "      <td>5517</td>\n",
       "      <td>5517</td>\n",
       "      <td>5517</td>\n",
       "      <td>5517</td>\n",
       "      <td>5517</td>\n",
       "      <td>5517</td>\n",
       "    </tr>\n",
       "    <tr>\n",
       "      <th>unique</th>\n",
       "      <td>5517</td>\n",
       "      <td>2</td>\n",
       "      <td>2</td>\n",
       "      <td>2</td>\n",
       "      <td>2</td>\n",
       "      <td>2</td>\n",
       "      <td>2</td>\n",
       "      <td>2</td>\n",
       "    </tr>\n",
       "    <tr>\n",
       "      <th>top</th>\n",
       "      <td>7590-VHVEG</td>\n",
       "      <td>Fiber optic</td>\n",
       "      <td>No</td>\n",
       "      <td>No</td>\n",
       "      <td>No</td>\n",
       "      <td>No</td>\n",
       "      <td>No</td>\n",
       "      <td>No</td>\n",
       "    </tr>\n",
       "    <tr>\n",
       "      <th>freq</th>\n",
       "      <td>1</td>\n",
       "      <td>3096</td>\n",
       "      <td>3498</td>\n",
       "      <td>3088</td>\n",
       "      <td>3095</td>\n",
       "      <td>3473</td>\n",
       "      <td>2810</td>\n",
       "      <td>2785</td>\n",
       "    </tr>\n",
       "  </tbody>\n",
       "</table>\n",
       "</div>"
      ],
      "text/plain": [
       "        customerID InternetService OnlineSecurity OnlineBackup  \\\n",
       "count         5517            5517           5517         5517   \n",
       "unique        5517               2              2            2   \n",
       "top     7590-VHVEG     Fiber optic             No           No   \n",
       "freq             1            3096           3498         3088   \n",
       "\n",
       "       DeviceProtection TechSupport StreamingTV StreamingMovies  \n",
       "count              5517        5517        5517            5517  \n",
       "unique                2           2           2               2  \n",
       "top                  No          No          No              No  \n",
       "freq               3095        3473        2810            2785  "
      ]
     },
     "metadata": {},
     "output_type": "display_data"
    }
   ],
   "source": [
    "# Analysis of df_contract\n",
    "data_analysis(df_internet)"
   ]
  },
  {
   "cell_type": "markdown",
   "metadata": {},
   "source": [
    "- We will rename all the columns to snake case\n",
    "- The size of dataframe: (5517,8)\n",
    "- There are no missing value or duplicated row"
   ]
  },
  {
   "cell_type": "markdown",
   "metadata": {},
   "source": [
    "### Personal Data"
   ]
  },
  {
   "cell_type": "code",
   "execution_count": 13,
   "metadata": {},
   "outputs": [
    {
     "data": {
      "text/html": [
       "<div>\n",
       "<style scoped>\n",
       "    .dataframe tbody tr th:only-of-type {\n",
       "        vertical-align: middle;\n",
       "    }\n",
       "\n",
       "    .dataframe tbody tr th {\n",
       "        vertical-align: top;\n",
       "    }\n",
       "\n",
       "    .dataframe thead th {\n",
       "        text-align: right;\n",
       "    }\n",
       "</style>\n",
       "<table border=\"1\" class=\"dataframe\">\n",
       "  <thead>\n",
       "    <tr style=\"text-align: right;\">\n",
       "      <th></th>\n",
       "      <th>customerID</th>\n",
       "      <th>gender</th>\n",
       "      <th>SeniorCitizen</th>\n",
       "      <th>Partner</th>\n",
       "      <th>Dependents</th>\n",
       "    </tr>\n",
       "  </thead>\n",
       "  <tbody>\n",
       "    <tr>\n",
       "      <th>0</th>\n",
       "      <td>7590-VHVEG</td>\n",
       "      <td>Female</td>\n",
       "      <td>0</td>\n",
       "      <td>Yes</td>\n",
       "      <td>No</td>\n",
       "    </tr>\n",
       "    <tr>\n",
       "      <th>1</th>\n",
       "      <td>5575-GNVDE</td>\n",
       "      <td>Male</td>\n",
       "      <td>0</td>\n",
       "      <td>No</td>\n",
       "      <td>No</td>\n",
       "    </tr>\n",
       "    <tr>\n",
       "      <th>2</th>\n",
       "      <td>3668-QPYBK</td>\n",
       "      <td>Male</td>\n",
       "      <td>0</td>\n",
       "      <td>No</td>\n",
       "      <td>No</td>\n",
       "    </tr>\n",
       "    <tr>\n",
       "      <th>3</th>\n",
       "      <td>7795-CFOCW</td>\n",
       "      <td>Male</td>\n",
       "      <td>0</td>\n",
       "      <td>No</td>\n",
       "      <td>No</td>\n",
       "    </tr>\n",
       "    <tr>\n",
       "      <th>4</th>\n",
       "      <td>9237-HQITU</td>\n",
       "      <td>Female</td>\n",
       "      <td>0</td>\n",
       "      <td>No</td>\n",
       "      <td>No</td>\n",
       "    </tr>\n",
       "  </tbody>\n",
       "</table>\n",
       "</div>"
      ],
      "text/plain": [
       "   customerID  gender  SeniorCitizen Partner Dependents\n",
       "0  7590-VHVEG  Female              0     Yes         No\n",
       "1  5575-GNVDE    Male              0      No         No\n",
       "2  3668-QPYBK    Male              0      No         No\n",
       "3  7795-CFOCW    Male              0      No         No\n",
       "4  9237-HQITU  Female              0      No         No"
      ]
     },
     "metadata": {},
     "output_type": "display_data"
    },
    {
     "name": "stdout",
     "output_type": "stream",
     "text": [
      "------------------------------------------------------------\n",
      "<class 'pandas.core.frame.DataFrame'>\n",
      "RangeIndex: 7043 entries, 0 to 7042\n",
      "Data columns (total 5 columns):\n",
      " #   Column         Non-Null Count  Dtype \n",
      "---  ------         --------------  ----- \n",
      " 0   customerID     7043 non-null   object\n",
      " 1   gender         7043 non-null   object\n",
      " 2   SeniorCitizen  7043 non-null   int64 \n",
      " 3   Partner        7043 non-null   object\n",
      " 4   Dependents     7043 non-null   object\n",
      "dtypes: int64(1), object(4)\n",
      "memory usage: 275.2+ KB\n",
      "------------------------------------------------------------\n",
      "Number of Duplicated Lines: 0\n",
      "------------------------------------------------------------\n",
      "Number of Missing data customerID       0\n",
      "gender           0\n",
      "SeniorCitizen    0\n",
      "Partner          0\n",
      "Dependents       0\n",
      "dtype: int64\n",
      "------------------------------------------------------------\n",
      "Size of DataFrame (7043, 5)\n",
      "------------------------------------------------------------\n"
     ]
    },
    {
     "data": {
      "text/html": [
       "<div>\n",
       "<style scoped>\n",
       "    .dataframe tbody tr th:only-of-type {\n",
       "        vertical-align: middle;\n",
       "    }\n",
       "\n",
       "    .dataframe tbody tr th {\n",
       "        vertical-align: top;\n",
       "    }\n",
       "\n",
       "    .dataframe thead th {\n",
       "        text-align: right;\n",
       "    }\n",
       "</style>\n",
       "<table border=\"1\" class=\"dataframe\">\n",
       "  <thead>\n",
       "    <tr style=\"text-align: right;\">\n",
       "      <th></th>\n",
       "      <th>customerID</th>\n",
       "      <th>gender</th>\n",
       "      <th>SeniorCitizen</th>\n",
       "      <th>Partner</th>\n",
       "      <th>Dependents</th>\n",
       "    </tr>\n",
       "  </thead>\n",
       "  <tbody>\n",
       "    <tr>\n",
       "      <th>count</th>\n",
       "      <td>7043</td>\n",
       "      <td>7043</td>\n",
       "      <td>7043.000000</td>\n",
       "      <td>7043</td>\n",
       "      <td>7043</td>\n",
       "    </tr>\n",
       "    <tr>\n",
       "      <th>unique</th>\n",
       "      <td>7043</td>\n",
       "      <td>2</td>\n",
       "      <td>NaN</td>\n",
       "      <td>2</td>\n",
       "      <td>2</td>\n",
       "    </tr>\n",
       "    <tr>\n",
       "      <th>top</th>\n",
       "      <td>7590-VHVEG</td>\n",
       "      <td>Male</td>\n",
       "      <td>NaN</td>\n",
       "      <td>No</td>\n",
       "      <td>No</td>\n",
       "    </tr>\n",
       "    <tr>\n",
       "      <th>freq</th>\n",
       "      <td>1</td>\n",
       "      <td>3555</td>\n",
       "      <td>NaN</td>\n",
       "      <td>3641</td>\n",
       "      <td>4933</td>\n",
       "    </tr>\n",
       "    <tr>\n",
       "      <th>mean</th>\n",
       "      <td>NaN</td>\n",
       "      <td>NaN</td>\n",
       "      <td>0.162147</td>\n",
       "      <td>NaN</td>\n",
       "      <td>NaN</td>\n",
       "    </tr>\n",
       "    <tr>\n",
       "      <th>std</th>\n",
       "      <td>NaN</td>\n",
       "      <td>NaN</td>\n",
       "      <td>0.368612</td>\n",
       "      <td>NaN</td>\n",
       "      <td>NaN</td>\n",
       "    </tr>\n",
       "    <tr>\n",
       "      <th>min</th>\n",
       "      <td>NaN</td>\n",
       "      <td>NaN</td>\n",
       "      <td>0.000000</td>\n",
       "      <td>NaN</td>\n",
       "      <td>NaN</td>\n",
       "    </tr>\n",
       "    <tr>\n",
       "      <th>25%</th>\n",
       "      <td>NaN</td>\n",
       "      <td>NaN</td>\n",
       "      <td>0.000000</td>\n",
       "      <td>NaN</td>\n",
       "      <td>NaN</td>\n",
       "    </tr>\n",
       "    <tr>\n",
       "      <th>50%</th>\n",
       "      <td>NaN</td>\n",
       "      <td>NaN</td>\n",
       "      <td>0.000000</td>\n",
       "      <td>NaN</td>\n",
       "      <td>NaN</td>\n",
       "    </tr>\n",
       "    <tr>\n",
       "      <th>75%</th>\n",
       "      <td>NaN</td>\n",
       "      <td>NaN</td>\n",
       "      <td>0.000000</td>\n",
       "      <td>NaN</td>\n",
       "      <td>NaN</td>\n",
       "    </tr>\n",
       "    <tr>\n",
       "      <th>max</th>\n",
       "      <td>NaN</td>\n",
       "      <td>NaN</td>\n",
       "      <td>1.000000</td>\n",
       "      <td>NaN</td>\n",
       "      <td>NaN</td>\n",
       "    </tr>\n",
       "  </tbody>\n",
       "</table>\n",
       "</div>"
      ],
      "text/plain": [
       "        customerID gender  SeniorCitizen Partner Dependents\n",
       "count         7043   7043    7043.000000    7043       7043\n",
       "unique        7043      2            NaN       2          2\n",
       "top     7590-VHVEG   Male            NaN      No         No\n",
       "freq             1   3555            NaN    3641       4933\n",
       "mean           NaN    NaN       0.162147     NaN        NaN\n",
       "std            NaN    NaN       0.368612     NaN        NaN\n",
       "min            NaN    NaN       0.000000     NaN        NaN\n",
       "25%            NaN    NaN       0.000000     NaN        NaN\n",
       "50%            NaN    NaN       0.000000     NaN        NaN\n",
       "75%            NaN    NaN       0.000000     NaN        NaN\n",
       "max            NaN    NaN       1.000000     NaN        NaN"
      ]
     },
     "metadata": {},
     "output_type": "display_data"
    }
   ],
   "source": [
    "# Analysis of df_personal\n",
    "data_analysis(df_personal)"
   ]
  },
  {
   "cell_type": "markdown",
   "metadata": {},
   "source": [
    "- We will rename all the columns to snake case\n",
    "- The size of dataframe: (7043,8)\n",
    "- There are no missing value or duplicated row"
   ]
  },
  {
   "cell_type": "markdown",
   "metadata": {},
   "source": [
    "### Phone Data"
   ]
  },
  {
   "cell_type": "code",
   "execution_count": 14,
   "metadata": {},
   "outputs": [
    {
     "data": {
      "text/html": [
       "<div>\n",
       "<style scoped>\n",
       "    .dataframe tbody tr th:only-of-type {\n",
       "        vertical-align: middle;\n",
       "    }\n",
       "\n",
       "    .dataframe tbody tr th {\n",
       "        vertical-align: top;\n",
       "    }\n",
       "\n",
       "    .dataframe thead th {\n",
       "        text-align: right;\n",
       "    }\n",
       "</style>\n",
       "<table border=\"1\" class=\"dataframe\">\n",
       "  <thead>\n",
       "    <tr style=\"text-align: right;\">\n",
       "      <th></th>\n",
       "      <th>customerID</th>\n",
       "      <th>MultipleLines</th>\n",
       "    </tr>\n",
       "  </thead>\n",
       "  <tbody>\n",
       "    <tr>\n",
       "      <th>0</th>\n",
       "      <td>5575-GNVDE</td>\n",
       "      <td>No</td>\n",
       "    </tr>\n",
       "    <tr>\n",
       "      <th>1</th>\n",
       "      <td>3668-QPYBK</td>\n",
       "      <td>No</td>\n",
       "    </tr>\n",
       "    <tr>\n",
       "      <th>2</th>\n",
       "      <td>9237-HQITU</td>\n",
       "      <td>No</td>\n",
       "    </tr>\n",
       "    <tr>\n",
       "      <th>3</th>\n",
       "      <td>9305-CDSKC</td>\n",
       "      <td>Yes</td>\n",
       "    </tr>\n",
       "    <tr>\n",
       "      <th>4</th>\n",
       "      <td>1452-KIOVK</td>\n",
       "      <td>Yes</td>\n",
       "    </tr>\n",
       "  </tbody>\n",
       "</table>\n",
       "</div>"
      ],
      "text/plain": [
       "   customerID MultipleLines\n",
       "0  5575-GNVDE            No\n",
       "1  3668-QPYBK            No\n",
       "2  9237-HQITU            No\n",
       "3  9305-CDSKC           Yes\n",
       "4  1452-KIOVK           Yes"
      ]
     },
     "metadata": {},
     "output_type": "display_data"
    },
    {
     "name": "stdout",
     "output_type": "stream",
     "text": [
      "------------------------------------------------------------\n",
      "<class 'pandas.core.frame.DataFrame'>\n",
      "RangeIndex: 6361 entries, 0 to 6360\n",
      "Data columns (total 2 columns):\n",
      " #   Column         Non-Null Count  Dtype \n",
      "---  ------         --------------  ----- \n",
      " 0   customerID     6361 non-null   object\n",
      " 1   MultipleLines  6361 non-null   object\n",
      "dtypes: object(2)\n",
      "memory usage: 99.5+ KB\n",
      "------------------------------------------------------------\n",
      "Number of Duplicated Lines: 0\n",
      "------------------------------------------------------------\n",
      "Number of Missing data customerID       0\n",
      "MultipleLines    0\n",
      "dtype: int64\n",
      "------------------------------------------------------------\n",
      "Size of DataFrame (6361, 2)\n",
      "------------------------------------------------------------\n"
     ]
    },
    {
     "data": {
      "text/html": [
       "<div>\n",
       "<style scoped>\n",
       "    .dataframe tbody tr th:only-of-type {\n",
       "        vertical-align: middle;\n",
       "    }\n",
       "\n",
       "    .dataframe tbody tr th {\n",
       "        vertical-align: top;\n",
       "    }\n",
       "\n",
       "    .dataframe thead th {\n",
       "        text-align: right;\n",
       "    }\n",
       "</style>\n",
       "<table border=\"1\" class=\"dataframe\">\n",
       "  <thead>\n",
       "    <tr style=\"text-align: right;\">\n",
       "      <th></th>\n",
       "      <th>customerID</th>\n",
       "      <th>MultipleLines</th>\n",
       "    </tr>\n",
       "  </thead>\n",
       "  <tbody>\n",
       "    <tr>\n",
       "      <th>count</th>\n",
       "      <td>6361</td>\n",
       "      <td>6361</td>\n",
       "    </tr>\n",
       "    <tr>\n",
       "      <th>unique</th>\n",
       "      <td>6361</td>\n",
       "      <td>2</td>\n",
       "    </tr>\n",
       "    <tr>\n",
       "      <th>top</th>\n",
       "      <td>5575-GNVDE</td>\n",
       "      <td>No</td>\n",
       "    </tr>\n",
       "    <tr>\n",
       "      <th>freq</th>\n",
       "      <td>1</td>\n",
       "      <td>3390</td>\n",
       "    </tr>\n",
       "  </tbody>\n",
       "</table>\n",
       "</div>"
      ],
      "text/plain": [
       "        customerID MultipleLines\n",
       "count         6361          6361\n",
       "unique        6361             2\n",
       "top     5575-GNVDE            No\n",
       "freq             1          3390"
      ]
     },
     "metadata": {},
     "output_type": "display_data"
    }
   ],
   "source": [
    "# Analysis of df_phone\n",
    "data_analysis(df_phone)"
   ]
  },
  {
   "cell_type": "markdown",
   "metadata": {},
   "source": [
    "- We will rename all the columns to snake case\n",
    "- The size of dataframe: (6361,2)\n",
    "- There are no missing value or duplicated row"
   ]
  },
  {
   "cell_type": "markdown",
   "metadata": {},
   "source": [
    "### Findings:\n",
    "\n",
    "- There are no missing or duplicate data in any dataframe.  \n",
    "- The number of rows is different **across** the dataframes:  \n",
    "    - `df_contract`: (7043, 8)  \n",
    "    - `df_internet`: (5517, 8)  \n",
    "    - `df_personal`: (7043, 5)  \n",
    "    - `df_phone`: (6361, 2)  \n",
    "- It is necessary to change the data type of some columns in `df_contract` to *datetime*.  \n",
    "- The column names in all dataframes will be standardized to *snake_case*.  \n",
    "- There are 11 rows with empty spaces in the **`TotalCharges`** column in `df_contract`. Since all 11 clients have the same **`BeginDate`**, it is possible that this group of clients has not been billed yet.\n",
    "- The column **`TotalCharges`** is a object type and need to be changed to float\n",
    "- All 4 dataframes will be merged in one, because all of then have a `costumer_id` column that can be used to merge.\n",
    "\n"
   ]
  },
  {
   "cell_type": "markdown",
   "metadata": {},
   "source": [
    "## Data Transformation\n",
    "\n",
    "- We will fix some issues identified in the last session and create some features. All the steps are described above:\n",
    "    1. Change the columns name to snake case\n",
    "    2. Change empty values\n",
    "    3. Merge the 4 dataframes in one by customer_id\n",
    "    4. Change the type os some columns.\n",
    "    5. Create a target column\n",
    "    6. Create some features to auxiliate our analysis\n",
    "    "
   ]
  },
  {
   "cell_type": "markdown",
   "metadata": {},
   "source": [
    "### df_contract"
   ]
  },
  {
   "cell_type": "code",
   "execution_count": 15,
   "metadata": {},
   "outputs": [],
   "source": [
    "# Changing the columns name\n",
    "df_contract.columns = ['customer_id', 'begin_date', 'end_date', 'type', 'paperless_billing',\n",
    "                       'payment_method', 'monthly_charges', 'total_charges']\n",
    "\n",
    "# Changing values in total_charges column\n",
    "df_contract['total_charges'] = df_contract['total_charges'].replace(' ', 0)\n",
    "df_contract['total_charges'] = df_contract['total_charges'].astype(float)"
   ]
  },
  {
   "cell_type": "markdown",
   "metadata": {},
   "source": [
    "### df_internet"
   ]
  },
  {
   "cell_type": "code",
   "execution_count": 16,
   "metadata": {},
   "outputs": [],
   "source": [
    "# Changing the columns name\n",
    "df_internet.columns = ['customer_id', 'internet_service', 'online_security', 'online_backup',\n",
    "       'device_protection', 'tech_support', 'streaming_tv', 'streaming_movies']"
   ]
  },
  {
   "cell_type": "markdown",
   "metadata": {},
   "source": [
    "### df_personal"
   ]
  },
  {
   "cell_type": "code",
   "execution_count": 17,
   "metadata": {},
   "outputs": [],
   "source": [
    "# Fixing the columns name\n",
    "df_personal.columns = ['customer_id', 'gender', 'senior_citizen', 'partner', 'dependents']\n",
    "\n"
   ]
  },
  {
   "cell_type": "markdown",
   "metadata": {},
   "source": [
    "### df_phone"
   ]
  },
  {
   "cell_type": "code",
   "execution_count": 18,
   "metadata": {},
   "outputs": [],
   "source": [
    "# Fixing the columns name\n",
    "df_phone.columns = ['customer_id','multiple_lines']"
   ]
  },
  {
   "cell_type": "markdown",
   "metadata": {},
   "source": [
    "### Merging all 4 dataframes"
   ]
  },
  {
   "cell_type": "code",
   "execution_count": 19,
   "metadata": {},
   "outputs": [],
   "source": [
    "\n",
    "def merge_dataframes(dataframes, key='customer_id', how='outer'):\n",
    "    \"\"\"\n",
    "    Merges multiple DataFrames on a common key, handling duplicate columns.\n",
    "    \n",
    "    \"\"\"\n",
    "\n",
    "    # Ensure the key column is in the same format (string) in all DataFrames\n",
    "    for df in dataframes:\n",
    "        df[key] = df[key].astype(str)\n",
    "    \n",
    "    # Perform sequential merging using functools.reduce\n",
    "    merged_df = reduce(lambda left, right: pd.merge(left, \n",
    "                                                    right, \n",
    "                                                    on=key, \n",
    "                                                    how=how), \n",
    "                        dataframes)\n",
    "    \n",
    "    return merged_df\n"
   ]
  },
  {
   "cell_type": "code",
   "execution_count": 20,
   "metadata": {},
   "outputs": [
    {
     "data": {
      "text/html": [
       "<div>\n",
       "<style scoped>\n",
       "    .dataframe tbody tr th:only-of-type {\n",
       "        vertical-align: middle;\n",
       "    }\n",
       "\n",
       "    .dataframe tbody tr th {\n",
       "        vertical-align: top;\n",
       "    }\n",
       "\n",
       "    .dataframe thead th {\n",
       "        text-align: right;\n",
       "    }\n",
       "</style>\n",
       "<table border=\"1\" class=\"dataframe\">\n",
       "  <thead>\n",
       "    <tr style=\"text-align: right;\">\n",
       "      <th></th>\n",
       "      <th>customer_id</th>\n",
       "      <th>begin_date</th>\n",
       "      <th>end_date</th>\n",
       "      <th>type</th>\n",
       "      <th>paperless_billing</th>\n",
       "      <th>payment_method</th>\n",
       "      <th>monthly_charges</th>\n",
       "      <th>total_charges</th>\n",
       "      <th>internet_service</th>\n",
       "      <th>online_security</th>\n",
       "      <th>online_backup</th>\n",
       "      <th>device_protection</th>\n",
       "      <th>tech_support</th>\n",
       "      <th>streaming_tv</th>\n",
       "      <th>streaming_movies</th>\n",
       "      <th>gender</th>\n",
       "      <th>senior_citizen</th>\n",
       "      <th>partner</th>\n",
       "      <th>dependents</th>\n",
       "      <th>multiple_lines</th>\n",
       "    </tr>\n",
       "  </thead>\n",
       "  <tbody>\n",
       "    <tr>\n",
       "      <th>0</th>\n",
       "      <td>0002-ORFBO</td>\n",
       "      <td>2019-05-01</td>\n",
       "      <td>No</td>\n",
       "      <td>One year</td>\n",
       "      <td>Yes</td>\n",
       "      <td>Mailed check</td>\n",
       "      <td>65.6</td>\n",
       "      <td>593.30</td>\n",
       "      <td>DSL</td>\n",
       "      <td>No</td>\n",
       "      <td>Yes</td>\n",
       "      <td>No</td>\n",
       "      <td>Yes</td>\n",
       "      <td>Yes</td>\n",
       "      <td>No</td>\n",
       "      <td>Female</td>\n",
       "      <td>0</td>\n",
       "      <td>Yes</td>\n",
       "      <td>Yes</td>\n",
       "      <td>No</td>\n",
       "    </tr>\n",
       "    <tr>\n",
       "      <th>1</th>\n",
       "      <td>0003-MKNFE</td>\n",
       "      <td>2019-05-01</td>\n",
       "      <td>No</td>\n",
       "      <td>Month-to-month</td>\n",
       "      <td>No</td>\n",
       "      <td>Mailed check</td>\n",
       "      <td>59.9</td>\n",
       "      <td>542.40</td>\n",
       "      <td>DSL</td>\n",
       "      <td>No</td>\n",
       "      <td>No</td>\n",
       "      <td>No</td>\n",
       "      <td>No</td>\n",
       "      <td>No</td>\n",
       "      <td>Yes</td>\n",
       "      <td>Male</td>\n",
       "      <td>0</td>\n",
       "      <td>No</td>\n",
       "      <td>No</td>\n",
       "      <td>Yes</td>\n",
       "    </tr>\n",
       "    <tr>\n",
       "      <th>2</th>\n",
       "      <td>0004-TLHLJ</td>\n",
       "      <td>2019-09-01</td>\n",
       "      <td>2020-01-01 00:00:00</td>\n",
       "      <td>Month-to-month</td>\n",
       "      <td>Yes</td>\n",
       "      <td>Electronic check</td>\n",
       "      <td>73.9</td>\n",
       "      <td>280.85</td>\n",
       "      <td>Fiber optic</td>\n",
       "      <td>No</td>\n",
       "      <td>No</td>\n",
       "      <td>Yes</td>\n",
       "      <td>No</td>\n",
       "      <td>No</td>\n",
       "      <td>No</td>\n",
       "      <td>Male</td>\n",
       "      <td>0</td>\n",
       "      <td>No</td>\n",
       "      <td>No</td>\n",
       "      <td>No</td>\n",
       "    </tr>\n",
       "    <tr>\n",
       "      <th>3</th>\n",
       "      <td>0011-IGKFF</td>\n",
       "      <td>2018-12-01</td>\n",
       "      <td>2020-01-01 00:00:00</td>\n",
       "      <td>Month-to-month</td>\n",
       "      <td>Yes</td>\n",
       "      <td>Electronic check</td>\n",
       "      <td>98.0</td>\n",
       "      <td>1237.85</td>\n",
       "      <td>Fiber optic</td>\n",
       "      <td>No</td>\n",
       "      <td>Yes</td>\n",
       "      <td>Yes</td>\n",
       "      <td>No</td>\n",
       "      <td>Yes</td>\n",
       "      <td>Yes</td>\n",
       "      <td>Male</td>\n",
       "      <td>1</td>\n",
       "      <td>Yes</td>\n",
       "      <td>No</td>\n",
       "      <td>No</td>\n",
       "    </tr>\n",
       "    <tr>\n",
       "      <th>4</th>\n",
       "      <td>0013-EXCHZ</td>\n",
       "      <td>2019-09-01</td>\n",
       "      <td>2019-12-01 00:00:00</td>\n",
       "      <td>Month-to-month</td>\n",
       "      <td>Yes</td>\n",
       "      <td>Mailed check</td>\n",
       "      <td>83.9</td>\n",
       "      <td>267.40</td>\n",
       "      <td>Fiber optic</td>\n",
       "      <td>No</td>\n",
       "      <td>No</td>\n",
       "      <td>No</td>\n",
       "      <td>Yes</td>\n",
       "      <td>Yes</td>\n",
       "      <td>No</td>\n",
       "      <td>Female</td>\n",
       "      <td>1</td>\n",
       "      <td>Yes</td>\n",
       "      <td>No</td>\n",
       "      <td>No</td>\n",
       "    </tr>\n",
       "  </tbody>\n",
       "</table>\n",
       "</div>"
      ],
      "text/plain": [
       "  customer_id  begin_date             end_date            type  \\\n",
       "0  0002-ORFBO  2019-05-01                   No        One year   \n",
       "1  0003-MKNFE  2019-05-01                   No  Month-to-month   \n",
       "2  0004-TLHLJ  2019-09-01  2020-01-01 00:00:00  Month-to-month   \n",
       "3  0011-IGKFF  2018-12-01  2020-01-01 00:00:00  Month-to-month   \n",
       "4  0013-EXCHZ  2019-09-01  2019-12-01 00:00:00  Month-to-month   \n",
       "\n",
       "  paperless_billing    payment_method  monthly_charges  total_charges  \\\n",
       "0               Yes      Mailed check             65.6         593.30   \n",
       "1                No      Mailed check             59.9         542.40   \n",
       "2               Yes  Electronic check             73.9         280.85   \n",
       "3               Yes  Electronic check             98.0        1237.85   \n",
       "4               Yes      Mailed check             83.9         267.40   \n",
       "\n",
       "  internet_service online_security online_backup device_protection  \\\n",
       "0              DSL              No           Yes                No   \n",
       "1              DSL              No            No                No   \n",
       "2      Fiber optic              No            No               Yes   \n",
       "3      Fiber optic              No           Yes               Yes   \n",
       "4      Fiber optic              No            No                No   \n",
       "\n",
       "  tech_support streaming_tv streaming_movies  gender  senior_citizen partner  \\\n",
       "0          Yes          Yes               No  Female               0     Yes   \n",
       "1           No           No              Yes    Male               0      No   \n",
       "2           No           No               No    Male               0      No   \n",
       "3           No          Yes              Yes    Male               1     Yes   \n",
       "4          Yes          Yes               No  Female               1     Yes   \n",
       "\n",
       "  dependents multiple_lines  \n",
       "0        Yes             No  \n",
       "1         No            Yes  \n",
       "2         No             No  \n",
       "3         No             No  \n",
       "4         No             No  "
      ]
     },
     "execution_count": 20,
     "metadata": {},
     "output_type": "execute_result"
    }
   ],
   "source": [
    "# List of DataFrames to merge\n",
    "dataframes_list = [df_contract, df_internet, df_personal, df_phone]\n",
    "\n",
    "# Merging DataFrames\n",
    "final_df = merge_dataframes(dataframes_list, key='customer_id', how='outer')\n",
    "\n",
    "# Check the merged DataFrame\n",
    "final_df.head(5)\n"
   ]
  },
  {
   "cell_type": "code",
   "execution_count": 21,
   "metadata": {},
   "outputs": [
    {
     "data": {
      "text/plain": [
       "internet_service     1526\n",
       "online_security      1526\n",
       "online_backup        1526\n",
       "device_protection    1526\n",
       "tech_support         1526\n",
       "streaming_tv         1526\n",
       "streaming_movies     1526\n",
       "multiple_lines        682\n",
       "customer_id             0\n",
       "begin_date              0\n",
       "dtype: int64"
      ]
     },
     "execution_count": 21,
     "metadata": {},
     "output_type": "execute_result"
    }
   ],
   "source": [
    "# Check the missing values\n",
    "final_df.isna().sum().nlargest(10)"
   ]
  },
  {
   "cell_type": "markdown",
   "metadata": {},
   "source": [
    "- The missing values for services will be replaced with `not_subscribed`, this will represent clients that has not been subscribed in the service yet\n",
    "- The missing values in `end_date` represent active clients. Those values will be used to represent a new columns: `churn`"
   ]
  },
  {
   "cell_type": "code",
   "execution_count": 22,
   "metadata": {},
   "outputs": [
    {
     "data": {
      "text/plain": [
       "internet_service\n",
       "Fiber optic       3096\n",
       "DSL               2421\n",
       "not_subscribed    1526\n",
       "Name: count, dtype: int64"
      ]
     },
     "metadata": {},
     "output_type": "display_data"
    },
    {
     "name": "stdout",
     "output_type": "stream",
     "text": [
      "\n"
     ]
    },
    {
     "data": {
      "text/plain": [
       "online_security\n",
       "No                3498\n",
       "Yes               2019\n",
       "not_subscribed    1526\n",
       "Name: count, dtype: int64"
      ]
     },
     "metadata": {},
     "output_type": "display_data"
    },
    {
     "name": "stdout",
     "output_type": "stream",
     "text": [
      "\n"
     ]
    },
    {
     "data": {
      "text/plain": [
       "online_backup\n",
       "No                3088\n",
       "Yes               2429\n",
       "not_subscribed    1526\n",
       "Name: count, dtype: int64"
      ]
     },
     "metadata": {},
     "output_type": "display_data"
    },
    {
     "name": "stdout",
     "output_type": "stream",
     "text": [
      "\n"
     ]
    },
    {
     "data": {
      "text/plain": [
       "device_protection\n",
       "No                3095\n",
       "Yes               2422\n",
       "not_subscribed    1526\n",
       "Name: count, dtype: int64"
      ]
     },
     "metadata": {},
     "output_type": "display_data"
    },
    {
     "name": "stdout",
     "output_type": "stream",
     "text": [
      "\n"
     ]
    },
    {
     "data": {
      "text/plain": [
       "tech_support\n",
       "No                3473\n",
       "Yes               2044\n",
       "not_subscribed    1526\n",
       "Name: count, dtype: int64"
      ]
     },
     "metadata": {},
     "output_type": "display_data"
    },
    {
     "name": "stdout",
     "output_type": "stream",
     "text": [
      "\n"
     ]
    },
    {
     "data": {
      "text/plain": [
       "streaming_tv\n",
       "No                2810\n",
       "Yes               2707\n",
       "not_subscribed    1526\n",
       "Name: count, dtype: int64"
      ]
     },
     "metadata": {},
     "output_type": "display_data"
    },
    {
     "name": "stdout",
     "output_type": "stream",
     "text": [
      "\n"
     ]
    },
    {
     "data": {
      "text/plain": [
       "streaming_movies\n",
       "No                2785\n",
       "Yes               2732\n",
       "not_subscribed    1526\n",
       "Name: count, dtype: int64"
      ]
     },
     "metadata": {},
     "output_type": "display_data"
    },
    {
     "name": "stdout",
     "output_type": "stream",
     "text": [
      "\n"
     ]
    },
    {
     "data": {
      "text/plain": [
       "multiple_lines\n",
       "No                3390\n",
       "Yes               2971\n",
       "not_subscribed     682\n",
       "Name: count, dtype: int64"
      ]
     },
     "metadata": {},
     "output_type": "display_data"
    },
    {
     "name": "stdout",
     "output_type": "stream",
     "text": [
      "\n"
     ]
    }
   ],
   "source": [
    "# Get the columns with missing values\n",
    "na_columns = [col for col in final_df.columns if final_df[col].isna().sum() > 0]\n",
    "\n",
    "# Fill the missing values with `not_subscribed`.\n",
    "final_df[na_columns] = final_df[na_columns].fillna('not_subscribed')\n",
    "\n",
    "# Check the unqiue values in these columns\n",
    "for col in na_columns:\n",
    "    display(final_df[col].value_counts())\n",
    "    print()"
   ]
  },
  {
   "cell_type": "code",
   "execution_count": 23,
   "metadata": {},
   "outputs": [
    {
     "data": {
      "text/plain": [
       "customer_id          0\n",
       "begin_date           0\n",
       "end_date             0\n",
       "type                 0\n",
       "paperless_billing    0\n",
       "payment_method       0\n",
       "monthly_charges      0\n",
       "total_charges        0\n",
       "internet_service     0\n",
       "online_security      0\n",
       "online_backup        0\n",
       "device_protection    0\n",
       "tech_support         0\n",
       "streaming_tv         0\n",
       "streaming_movies     0\n",
       "gender               0\n",
       "senior_citizen       0\n",
       "partner              0\n",
       "dependents           0\n",
       "multiple_lines       0\n",
       "dtype: int64"
      ]
     },
     "execution_count": 23,
     "metadata": {},
     "output_type": "execute_result"
    }
   ],
   "source": [
    "final_df.isna().sum()"
   ]
  },
  {
   "cell_type": "markdown",
   "metadata": {},
   "source": [
    "- All missing data was filled with 'not_subscribed'. "
   ]
  },
  {
   "cell_type": "markdown",
   "metadata": {},
   "source": [
    "### Create of target column"
   ]
  },
  {
   "cell_type": "markdown",
   "metadata": {},
   "source": [
    "- We will create an additional column churn using the end_date column. \n",
    "- The `No` values indicate the customers are still active\n",
    "- Other values indicate the service terminated date."
   ]
  },
  {
   "cell_type": "code",
   "execution_count": 24,
   "metadata": {},
   "outputs": [
    {
     "data": {
      "text/html": [
       "<div>\n",
       "<style scoped>\n",
       "    .dataframe tbody tr th:only-of-type {\n",
       "        vertical-align: middle;\n",
       "    }\n",
       "\n",
       "    .dataframe tbody tr th {\n",
       "        vertical-align: top;\n",
       "    }\n",
       "\n",
       "    .dataframe thead th {\n",
       "        text-align: right;\n",
       "    }\n",
       "</style>\n",
       "<table border=\"1\" class=\"dataframe\">\n",
       "  <thead>\n",
       "    <tr style=\"text-align: right;\">\n",
       "      <th></th>\n",
       "      <th>end_date</th>\n",
       "      <th>churn</th>\n",
       "    </tr>\n",
       "  </thead>\n",
       "  <tbody>\n",
       "    <tr>\n",
       "      <th>0</th>\n",
       "      <td>No</td>\n",
       "      <td>0</td>\n",
       "    </tr>\n",
       "    <tr>\n",
       "      <th>1</th>\n",
       "      <td>No</td>\n",
       "      <td>0</td>\n",
       "    </tr>\n",
       "    <tr>\n",
       "      <th>2</th>\n",
       "      <td>2020-01-01 00:00:00</td>\n",
       "      <td>1</td>\n",
       "    </tr>\n",
       "    <tr>\n",
       "      <th>3</th>\n",
       "      <td>2020-01-01 00:00:00</td>\n",
       "      <td>1</td>\n",
       "    </tr>\n",
       "    <tr>\n",
       "      <th>4</th>\n",
       "      <td>2019-12-01 00:00:00</td>\n",
       "      <td>1</td>\n",
       "    </tr>\n",
       "  </tbody>\n",
       "</table>\n",
       "</div>"
      ],
      "text/plain": [
       "              end_date  churn\n",
       "0                   No      0\n",
       "1                   No      0\n",
       "2  2020-01-01 00:00:00      1\n",
       "3  2020-01-01 00:00:00      1\n",
       "4  2019-12-01 00:00:00      1"
      ]
     },
     "execution_count": 24,
     "metadata": {},
     "output_type": "execute_result"
    }
   ],
   "source": [
    "# Create the target `churn` by using the `end_date` column\n",
    "final_df['churn'] = final_df['end_date'].map(lambda date: 0 if date == 'No' else 1)\n",
    "\n",
    "# Check if the column is correctly created\n",
    "final_df[['end_date', 'churn']].head()"
   ]
  },
  {
   "cell_type": "markdown",
   "metadata": {},
   "source": [
    "### Correction of total_charges empty space problem"
   ]
  },
  {
   "cell_type": "code",
   "execution_count": 25,
   "metadata": {},
   "outputs": [
    {
     "data": {
      "text/plain": [
       "0                    NaN\n",
       "1                    NaN\n",
       "2    2020-01-01 00:00:00\n",
       "3    2020-01-01 00:00:00\n",
       "4    2019-12-01 00:00:00\n",
       "Name: end_date, dtype: object"
      ]
     },
     "execution_count": 25,
     "metadata": {},
     "output_type": "execute_result"
    }
   ],
   "source": [
    "# Replace the `No` in `end_date` with None\n",
    "final_df['end_date'].replace('No', np.nan, inplace=True)\n",
    "\n",
    "# Check if the replacement has been made\n",
    "final_df['end_date'].head()"
   ]
  },
  {
   "cell_type": "code",
   "execution_count": 26,
   "metadata": {},
   "outputs": [
    {
     "data": {
      "text/plain": [
       "11"
      ]
     },
     "execution_count": 26,
     "metadata": {},
     "output_type": "execute_result"
    }
   ],
   "source": [
    "# Replace the blank value in `total_charges` with `0`\n",
    "final_df['total_charges'].replace(' ', 0, inplace=True)\n",
    "\n",
    "# Check if there are 11 rows with `0` in `total_charges`\n",
    "len(final_df.query('total_charges == 0'))"
   ]
  },
  {
   "cell_type": "markdown",
   "metadata": {},
   "source": [
    "### Convert Columns to Date type"
   ]
  },
  {
   "cell_type": "code",
   "execution_count": 27,
   "metadata": {},
   "outputs": [],
   "source": [
    "# Convert the data types\n",
    "final_df['begin_date'] = pd.to_datetime(final_df['begin_date'], format='%Y-%m-%d')\n",
    "final_df['end_date'] = pd.to_datetime(final_df['end_date'], format='%Y-%m-%d %H:%M:%S')\n",
    "final_df['total_charges'] = final_df['total_charges'].astype(float)"
   ]
  },
  {
   "cell_type": "code",
   "execution_count": 28,
   "metadata": {},
   "outputs": [
    {
     "name": "stdout",
     "output_type": "stream",
     "text": [
      "<class 'pandas.core.frame.DataFrame'>\n",
      "RangeIndex: 7043 entries, 0 to 7042\n",
      "Data columns (total 3 columns):\n",
      " #   Column         Non-Null Count  Dtype         \n",
      "---  ------         --------------  -----         \n",
      " 0   begin_date     7043 non-null   datetime64[ns]\n",
      " 1   end_date       1869 non-null   datetime64[ns]\n",
      " 2   total_charges  7043 non-null   float64       \n",
      "dtypes: datetime64[ns](2), float64(1)\n",
      "memory usage: 165.2 KB\n"
     ]
    }
   ],
   "source": [
    "final_df[['begin_date', 'end_date', 'total_charges']].info()"
   ]
  },
  {
   "cell_type": "markdown",
   "metadata": {},
   "source": [
    "- Convertion was done correctly."
   ]
  },
  {
   "cell_type": "markdown",
   "metadata": {},
   "source": [
    "### Correction in Total_charges Value Problem"
   ]
  },
  {
   "cell_type": "markdown",
   "metadata": {},
   "source": [
    "- The monthly_charges for February 2020 has not been added to the total_charges since the 11 new customers do not have any payment record in the total_charges. \n",
    "- We will add the monthly_charges to the total_charges for the active customers."
   ]
  },
  {
   "cell_type": "code",
   "execution_count": 693,
   "metadata": {},
   "outputs": [
    {
     "data": {
      "text/html": [
       "<div>\n",
       "<style scoped>\n",
       "    .dataframe tbody tr th:only-of-type {\n",
       "        vertical-align: middle;\n",
       "    }\n",
       "\n",
       "    .dataframe tbody tr th {\n",
       "        vertical-align: top;\n",
       "    }\n",
       "\n",
       "    .dataframe thead th {\n",
       "        text-align: right;\n",
       "    }\n",
       "</style>\n",
       "<table border=\"1\" class=\"dataframe\">\n",
       "  <thead>\n",
       "    <tr style=\"text-align: right;\">\n",
       "      <th></th>\n",
       "      <th>customer_id</th>\n",
       "      <th>begin_date</th>\n",
       "      <th>end_date</th>\n",
       "      <th>type</th>\n",
       "      <th>paperless_billing</th>\n",
       "      <th>payment_method</th>\n",
       "      <th>monthly_charges</th>\n",
       "      <th>total_charges</th>\n",
       "      <th>internet_service</th>\n",
       "      <th>online_security</th>\n",
       "      <th>...</th>\n",
       "      <th>device_protection</th>\n",
       "      <th>tech_support</th>\n",
       "      <th>streaming_tv</th>\n",
       "      <th>streaming_movies</th>\n",
       "      <th>gender</th>\n",
       "      <th>senior_citizen</th>\n",
       "      <th>partner</th>\n",
       "      <th>dependents</th>\n",
       "      <th>multiple_lines</th>\n",
       "      <th>churn</th>\n",
       "    </tr>\n",
       "  </thead>\n",
       "  <tbody>\n",
       "    <tr>\n",
       "      <th>945</th>\n",
       "      <td>1371-DWPAZ</td>\n",
       "      <td>2020-02-01</td>\n",
       "      <td>NaT</td>\n",
       "      <td>Two year</td>\n",
       "      <td>No</td>\n",
       "      <td>Credit card (automatic)</td>\n",
       "      <td>56.05</td>\n",
       "      <td>0.0</td>\n",
       "      <td>DSL</td>\n",
       "      <td>Yes</td>\n",
       "      <td>...</td>\n",
       "      <td>Yes</td>\n",
       "      <td>Yes</td>\n",
       "      <td>Yes</td>\n",
       "      <td>No</td>\n",
       "      <td>Female</td>\n",
       "      <td>0</td>\n",
       "      <td>Yes</td>\n",
       "      <td>Yes</td>\n",
       "      <td>not_subscribed</td>\n",
       "      <td>0</td>\n",
       "    </tr>\n",
       "    <tr>\n",
       "      <th>1731</th>\n",
       "      <td>2520-SGTTA</td>\n",
       "      <td>2020-02-01</td>\n",
       "      <td>NaT</td>\n",
       "      <td>Two year</td>\n",
       "      <td>No</td>\n",
       "      <td>Mailed check</td>\n",
       "      <td>20.00</td>\n",
       "      <td>0.0</td>\n",
       "      <td>not_subscribed</td>\n",
       "      <td>not_subscribed</td>\n",
       "      <td>...</td>\n",
       "      <td>not_subscribed</td>\n",
       "      <td>not_subscribed</td>\n",
       "      <td>not_subscribed</td>\n",
       "      <td>not_subscribed</td>\n",
       "      <td>Female</td>\n",
       "      <td>0</td>\n",
       "      <td>Yes</td>\n",
       "      <td>Yes</td>\n",
       "      <td>No</td>\n",
       "      <td>0</td>\n",
       "    </tr>\n",
       "    <tr>\n",
       "      <th>1906</th>\n",
       "      <td>2775-SEFEE</td>\n",
       "      <td>2020-02-01</td>\n",
       "      <td>NaT</td>\n",
       "      <td>Two year</td>\n",
       "      <td>Yes</td>\n",
       "      <td>Bank transfer (automatic)</td>\n",
       "      <td>61.90</td>\n",
       "      <td>0.0</td>\n",
       "      <td>DSL</td>\n",
       "      <td>Yes</td>\n",
       "      <td>...</td>\n",
       "      <td>No</td>\n",
       "      <td>Yes</td>\n",
       "      <td>No</td>\n",
       "      <td>No</td>\n",
       "      <td>Male</td>\n",
       "      <td>0</td>\n",
       "      <td>No</td>\n",
       "      <td>Yes</td>\n",
       "      <td>Yes</td>\n",
       "      <td>0</td>\n",
       "    </tr>\n",
       "    <tr>\n",
       "      <th>2025</th>\n",
       "      <td>2923-ARZLG</td>\n",
       "      <td>2020-02-01</td>\n",
       "      <td>NaT</td>\n",
       "      <td>One year</td>\n",
       "      <td>Yes</td>\n",
       "      <td>Mailed check</td>\n",
       "      <td>19.70</td>\n",
       "      <td>0.0</td>\n",
       "      <td>not_subscribed</td>\n",
       "      <td>not_subscribed</td>\n",
       "      <td>...</td>\n",
       "      <td>not_subscribed</td>\n",
       "      <td>not_subscribed</td>\n",
       "      <td>not_subscribed</td>\n",
       "      <td>not_subscribed</td>\n",
       "      <td>Male</td>\n",
       "      <td>0</td>\n",
       "      <td>Yes</td>\n",
       "      <td>Yes</td>\n",
       "      <td>No</td>\n",
       "      <td>0</td>\n",
       "    </tr>\n",
       "    <tr>\n",
       "      <th>2176</th>\n",
       "      <td>3115-CZMZD</td>\n",
       "      <td>2020-02-01</td>\n",
       "      <td>NaT</td>\n",
       "      <td>Two year</td>\n",
       "      <td>No</td>\n",
       "      <td>Mailed check</td>\n",
       "      <td>20.25</td>\n",
       "      <td>0.0</td>\n",
       "      <td>not_subscribed</td>\n",
       "      <td>not_subscribed</td>\n",
       "      <td>...</td>\n",
       "      <td>not_subscribed</td>\n",
       "      <td>not_subscribed</td>\n",
       "      <td>not_subscribed</td>\n",
       "      <td>not_subscribed</td>\n",
       "      <td>Male</td>\n",
       "      <td>0</td>\n",
       "      <td>No</td>\n",
       "      <td>Yes</td>\n",
       "      <td>No</td>\n",
       "      <td>0</td>\n",
       "    </tr>\n",
       "  </tbody>\n",
       "</table>\n",
       "<p>5 rows × 21 columns</p>\n",
       "</div>"
      ],
      "text/plain": [
       "     customer_id begin_date end_date      type paperless_billing  \\\n",
       "945   1371-DWPAZ 2020-02-01      NaT  Two year                No   \n",
       "1731  2520-SGTTA 2020-02-01      NaT  Two year                No   \n",
       "1906  2775-SEFEE 2020-02-01      NaT  Two year               Yes   \n",
       "2025  2923-ARZLG 2020-02-01      NaT  One year               Yes   \n",
       "2176  3115-CZMZD 2020-02-01      NaT  Two year                No   \n",
       "\n",
       "                 payment_method  monthly_charges  total_charges  \\\n",
       "945     Credit card (automatic)            56.05            0.0   \n",
       "1731               Mailed check            20.00            0.0   \n",
       "1906  Bank transfer (automatic)            61.90            0.0   \n",
       "2025               Mailed check            19.70            0.0   \n",
       "2176               Mailed check            20.25            0.0   \n",
       "\n",
       "     internet_service online_security  ... device_protection    tech_support  \\\n",
       "945               DSL             Yes  ...               Yes             Yes   \n",
       "1731   not_subscribed  not_subscribed  ...    not_subscribed  not_subscribed   \n",
       "1906              DSL             Yes  ...                No             Yes   \n",
       "2025   not_subscribed  not_subscribed  ...    not_subscribed  not_subscribed   \n",
       "2176   not_subscribed  not_subscribed  ...    not_subscribed  not_subscribed   \n",
       "\n",
       "        streaming_tv streaming_movies  gender senior_citizen  partner  \\\n",
       "945              Yes               No  Female              0      Yes   \n",
       "1731  not_subscribed   not_subscribed  Female              0      Yes   \n",
       "1906              No               No    Male              0       No   \n",
       "2025  not_subscribed   not_subscribed    Male              0      Yes   \n",
       "2176  not_subscribed   not_subscribed    Male              0       No   \n",
       "\n",
       "     dependents  multiple_lines churn  \n",
       "945         Yes  not_subscribed     0  \n",
       "1731        Yes              No     0  \n",
       "1906        Yes             Yes     0  \n",
       "2025        Yes              No     0  \n",
       "2176        Yes              No     0  \n",
       "\n",
       "[5 rows x 21 columns]"
      ]
     },
     "execution_count": 693,
     "metadata": {},
     "output_type": "execute_result"
    }
   ],
   "source": [
    "# Before correction\n",
    "\n",
    "final_df.query('begin_date == \"02-01-2020\"').head()"
   ]
  },
  {
   "cell_type": "code",
   "execution_count": 694,
   "metadata": {},
   "outputs": [],
   "source": [
    "final_df['total_charges'] = (final_df['total_charges'] + final_df['monthly_charges']).where(final_df['churn'] == 0, final_df['total_charges'])"
   ]
  },
  {
   "cell_type": "code",
   "execution_count": 695,
   "metadata": {},
   "outputs": [
    {
     "data": {
      "text/html": [
       "<div>\n",
       "<style scoped>\n",
       "    .dataframe tbody tr th:only-of-type {\n",
       "        vertical-align: middle;\n",
       "    }\n",
       "\n",
       "    .dataframe tbody tr th {\n",
       "        vertical-align: top;\n",
       "    }\n",
       "\n",
       "    .dataframe thead th {\n",
       "        text-align: right;\n",
       "    }\n",
       "</style>\n",
       "<table border=\"1\" class=\"dataframe\">\n",
       "  <thead>\n",
       "    <tr style=\"text-align: right;\">\n",
       "      <th></th>\n",
       "      <th>customer_id</th>\n",
       "      <th>begin_date</th>\n",
       "      <th>end_date</th>\n",
       "      <th>type</th>\n",
       "      <th>paperless_billing</th>\n",
       "      <th>payment_method</th>\n",
       "      <th>monthly_charges</th>\n",
       "      <th>total_charges</th>\n",
       "      <th>internet_service</th>\n",
       "      <th>online_security</th>\n",
       "      <th>...</th>\n",
       "      <th>device_protection</th>\n",
       "      <th>tech_support</th>\n",
       "      <th>streaming_tv</th>\n",
       "      <th>streaming_movies</th>\n",
       "      <th>gender</th>\n",
       "      <th>senior_citizen</th>\n",
       "      <th>partner</th>\n",
       "      <th>dependents</th>\n",
       "      <th>multiple_lines</th>\n",
       "      <th>churn</th>\n",
       "    </tr>\n",
       "  </thead>\n",
       "  <tbody>\n",
       "    <tr>\n",
       "      <th>945</th>\n",
       "      <td>1371-DWPAZ</td>\n",
       "      <td>2020-02-01</td>\n",
       "      <td>NaT</td>\n",
       "      <td>Two year</td>\n",
       "      <td>No</td>\n",
       "      <td>Credit card (automatic)</td>\n",
       "      <td>56.05</td>\n",
       "      <td>56.05</td>\n",
       "      <td>DSL</td>\n",
       "      <td>Yes</td>\n",
       "      <td>...</td>\n",
       "      <td>Yes</td>\n",
       "      <td>Yes</td>\n",
       "      <td>Yes</td>\n",
       "      <td>No</td>\n",
       "      <td>Female</td>\n",
       "      <td>0</td>\n",
       "      <td>Yes</td>\n",
       "      <td>Yes</td>\n",
       "      <td>not_subscribed</td>\n",
       "      <td>0</td>\n",
       "    </tr>\n",
       "    <tr>\n",
       "      <th>1731</th>\n",
       "      <td>2520-SGTTA</td>\n",
       "      <td>2020-02-01</td>\n",
       "      <td>NaT</td>\n",
       "      <td>Two year</td>\n",
       "      <td>No</td>\n",
       "      <td>Mailed check</td>\n",
       "      <td>20.00</td>\n",
       "      <td>20.00</td>\n",
       "      <td>not_subscribed</td>\n",
       "      <td>not_subscribed</td>\n",
       "      <td>...</td>\n",
       "      <td>not_subscribed</td>\n",
       "      <td>not_subscribed</td>\n",
       "      <td>not_subscribed</td>\n",
       "      <td>not_subscribed</td>\n",
       "      <td>Female</td>\n",
       "      <td>0</td>\n",
       "      <td>Yes</td>\n",
       "      <td>Yes</td>\n",
       "      <td>No</td>\n",
       "      <td>0</td>\n",
       "    </tr>\n",
       "    <tr>\n",
       "      <th>1906</th>\n",
       "      <td>2775-SEFEE</td>\n",
       "      <td>2020-02-01</td>\n",
       "      <td>NaT</td>\n",
       "      <td>Two year</td>\n",
       "      <td>Yes</td>\n",
       "      <td>Bank transfer (automatic)</td>\n",
       "      <td>61.90</td>\n",
       "      <td>61.90</td>\n",
       "      <td>DSL</td>\n",
       "      <td>Yes</td>\n",
       "      <td>...</td>\n",
       "      <td>No</td>\n",
       "      <td>Yes</td>\n",
       "      <td>No</td>\n",
       "      <td>No</td>\n",
       "      <td>Male</td>\n",
       "      <td>0</td>\n",
       "      <td>No</td>\n",
       "      <td>Yes</td>\n",
       "      <td>Yes</td>\n",
       "      <td>0</td>\n",
       "    </tr>\n",
       "    <tr>\n",
       "      <th>2025</th>\n",
       "      <td>2923-ARZLG</td>\n",
       "      <td>2020-02-01</td>\n",
       "      <td>NaT</td>\n",
       "      <td>One year</td>\n",
       "      <td>Yes</td>\n",
       "      <td>Mailed check</td>\n",
       "      <td>19.70</td>\n",
       "      <td>19.70</td>\n",
       "      <td>not_subscribed</td>\n",
       "      <td>not_subscribed</td>\n",
       "      <td>...</td>\n",
       "      <td>not_subscribed</td>\n",
       "      <td>not_subscribed</td>\n",
       "      <td>not_subscribed</td>\n",
       "      <td>not_subscribed</td>\n",
       "      <td>Male</td>\n",
       "      <td>0</td>\n",
       "      <td>Yes</td>\n",
       "      <td>Yes</td>\n",
       "      <td>No</td>\n",
       "      <td>0</td>\n",
       "    </tr>\n",
       "    <tr>\n",
       "      <th>2176</th>\n",
       "      <td>3115-CZMZD</td>\n",
       "      <td>2020-02-01</td>\n",
       "      <td>NaT</td>\n",
       "      <td>Two year</td>\n",
       "      <td>No</td>\n",
       "      <td>Mailed check</td>\n",
       "      <td>20.25</td>\n",
       "      <td>20.25</td>\n",
       "      <td>not_subscribed</td>\n",
       "      <td>not_subscribed</td>\n",
       "      <td>...</td>\n",
       "      <td>not_subscribed</td>\n",
       "      <td>not_subscribed</td>\n",
       "      <td>not_subscribed</td>\n",
       "      <td>not_subscribed</td>\n",
       "      <td>Male</td>\n",
       "      <td>0</td>\n",
       "      <td>No</td>\n",
       "      <td>Yes</td>\n",
       "      <td>No</td>\n",
       "      <td>0</td>\n",
       "    </tr>\n",
       "  </tbody>\n",
       "</table>\n",
       "<p>5 rows × 21 columns</p>\n",
       "</div>"
      ],
      "text/plain": [
       "     customer_id begin_date end_date      type paperless_billing  \\\n",
       "945   1371-DWPAZ 2020-02-01      NaT  Two year                No   \n",
       "1731  2520-SGTTA 2020-02-01      NaT  Two year                No   \n",
       "1906  2775-SEFEE 2020-02-01      NaT  Two year               Yes   \n",
       "2025  2923-ARZLG 2020-02-01      NaT  One year               Yes   \n",
       "2176  3115-CZMZD 2020-02-01      NaT  Two year                No   \n",
       "\n",
       "                 payment_method  monthly_charges  total_charges  \\\n",
       "945     Credit card (automatic)            56.05          56.05   \n",
       "1731               Mailed check            20.00          20.00   \n",
       "1906  Bank transfer (automatic)            61.90          61.90   \n",
       "2025               Mailed check            19.70          19.70   \n",
       "2176               Mailed check            20.25          20.25   \n",
       "\n",
       "     internet_service online_security  ... device_protection    tech_support  \\\n",
       "945               DSL             Yes  ...               Yes             Yes   \n",
       "1731   not_subscribed  not_subscribed  ...    not_subscribed  not_subscribed   \n",
       "1906              DSL             Yes  ...                No             Yes   \n",
       "2025   not_subscribed  not_subscribed  ...    not_subscribed  not_subscribed   \n",
       "2176   not_subscribed  not_subscribed  ...    not_subscribed  not_subscribed   \n",
       "\n",
       "        streaming_tv streaming_movies  gender senior_citizen  partner  \\\n",
       "945              Yes               No  Female              0      Yes   \n",
       "1731  not_subscribed   not_subscribed  Female              0      Yes   \n",
       "1906              No               No    Male              0       No   \n",
       "2025  not_subscribed   not_subscribed    Male              0      Yes   \n",
       "2176  not_subscribed   not_subscribed    Male              0       No   \n",
       "\n",
       "     dependents  multiple_lines churn  \n",
       "945         Yes  not_subscribed     0  \n",
       "1731        Yes              No     0  \n",
       "1906        Yes             Yes     0  \n",
       "2025        Yes              No     0  \n",
       "2176        Yes              No     0  \n",
       "\n",
       "[5 rows x 21 columns]"
      ]
     },
     "execution_count": 695,
     "metadata": {},
     "output_type": "execute_result"
    }
   ],
   "source": [
    "# After correction\n",
    "\n",
    "final_df.query('begin_date == \"02-01-2020\"').head()"
   ]
  },
  {
   "cell_type": "markdown",
   "metadata": {},
   "source": [
    "- The values in total_charges were fixed"
   ]
  },
  {
   "cell_type": "markdown",
   "metadata": {},
   "source": [
    "### Creating Features"
   ]
  },
  {
   "cell_type": "markdown",
   "metadata": {},
   "source": [
    "- We expected that custumers with long subscription duration and use more services are less likely to churn. Therefore, we will create new features to analyse costumers behavior."
   ]
  },
  {
   "cell_type": "markdown",
   "metadata": {},
   "source": [
    "#### Number of days and Years Subscribed"
   ]
  },
  {
   "cell_type": "code",
   "execution_count": 696,
   "metadata": {},
   "outputs": [
    {
     "data": {
      "text/html": [
       "<div>\n",
       "<style scoped>\n",
       "    .dataframe tbody tr th:only-of-type {\n",
       "        vertical-align: middle;\n",
       "    }\n",
       "\n",
       "    .dataframe tbody tr th {\n",
       "        vertical-align: top;\n",
       "    }\n",
       "\n",
       "    .dataframe thead th {\n",
       "        text-align: right;\n",
       "    }\n",
       "</style>\n",
       "<table border=\"1\" class=\"dataframe\">\n",
       "  <thead>\n",
       "    <tr style=\"text-align: right;\">\n",
       "      <th></th>\n",
       "      <th>churn</th>\n",
       "      <th>begin_date</th>\n",
       "      <th>end_date</th>\n",
       "      <th>subscribed_days</th>\n",
       "      <th>subscribed_years</th>\n",
       "    </tr>\n",
       "  </thead>\n",
       "  <tbody>\n",
       "    <tr>\n",
       "      <th>0</th>\n",
       "      <td>0</td>\n",
       "      <td>2019-05-01</td>\n",
       "      <td>NaT</td>\n",
       "      <td>276</td>\n",
       "      <td>1.0</td>\n",
       "    </tr>\n",
       "    <tr>\n",
       "      <th>1</th>\n",
       "      <td>0</td>\n",
       "      <td>2019-05-01</td>\n",
       "      <td>NaT</td>\n",
       "      <td>276</td>\n",
       "      <td>1.0</td>\n",
       "    </tr>\n",
       "    <tr>\n",
       "      <th>2</th>\n",
       "      <td>1</td>\n",
       "      <td>2019-09-01</td>\n",
       "      <td>2020-01-01</td>\n",
       "      <td>122</td>\n",
       "      <td>1.0</td>\n",
       "    </tr>\n",
       "    <tr>\n",
       "      <th>3</th>\n",
       "      <td>1</td>\n",
       "      <td>2018-12-01</td>\n",
       "      <td>2020-01-01</td>\n",
       "      <td>396</td>\n",
       "      <td>2.0</td>\n",
       "    </tr>\n",
       "    <tr>\n",
       "      <th>4</th>\n",
       "      <td>1</td>\n",
       "      <td>2019-09-01</td>\n",
       "      <td>2019-12-01</td>\n",
       "      <td>91</td>\n",
       "      <td>0.0</td>\n",
       "    </tr>\n",
       "  </tbody>\n",
       "</table>\n",
       "</div>"
      ],
      "text/plain": [
       "   churn begin_date   end_date  subscribed_days  subscribed_years\n",
       "0      0 2019-05-01        NaT              276               1.0\n",
       "1      0 2019-05-01        NaT              276               1.0\n",
       "2      1 2019-09-01 2020-01-01              122               1.0\n",
       "3      1 2018-12-01 2020-01-01              396               2.0\n",
       "4      1 2019-09-01 2019-12-01               91               0.0"
      ]
     },
     "execution_count": 696,
     "metadata": {},
     "output_type": "execute_result"
    }
   ],
   "source": [
    "# Create the datetime value when the data was extracted\n",
    "extract_date = pd.to_datetime('2020-02-01', format='%Y-%m-%d')\n",
    "\n",
    "# Calculate the total days of subscription\n",
    "final_df['subscribed_days'] = (final_df['end_date'] - final_df['begin_date']) \\\n",
    "                            .where(final_df['churn'] == 1, extract_date - final_df['begin_date']) \\\n",
    "                            .dt.days\n",
    "\n",
    "# Calculate the total years of subscription\n",
    "final_df['subscribed_years'] = (final_df['end_date'].dt.year - final_df['begin_date'].dt.year) \\\n",
    "                             .where(final_df['churn'] == 1, 2020 - final_df['begin_date'].dt.year)\n",
    "\n",
    "final_df[['churn', 'begin_date', 'end_date', 'subscribed_days', 'subscribed_years']].head()"
   ]
  },
  {
   "cell_type": "markdown",
   "metadata": {},
   "source": [
    "#### Number of Services and Internet Services Subscribed"
   ]
  },
  {
   "cell_type": "code",
   "execution_count": 697,
   "metadata": {},
   "outputs": [],
   "source": [
    "# Create a list of internet services provided by the telecom operator\n",
    "internet_services = ['online_security', 'online_backup', 'device_protection',\n",
    "                     'tech_support', 'streaming_tv', 'streaming_movies']\n",
    "\n",
    "# Define a function to calculate `total_internet_services` for each customer\n",
    "def calc_total_internet_services(row):\n",
    "    '''\n",
    "    Calculate and return total number of subsribed internet services of a customer\n",
    "    '''\n",
    "    count = 0\n",
    "\n",
    "    for service in internet_services:\n",
    "        if row[service] == 'Yes':\n",
    "            count += 1\n",
    "\n",
    "    return count"
   ]
  },
  {
   "cell_type": "code",
   "execution_count": 698,
   "metadata": {},
   "outputs": [],
   "source": [
    "# Calculate the `total_internet_services`\n",
    "final_df['total_internet_services'] = final_df.apply(calc_total_internet_services, axis=1)"
   ]
  },
  {
   "cell_type": "code",
   "execution_count": 699,
   "metadata": {},
   "outputs": [
    {
     "data": {
      "text/html": [
       "<div>\n",
       "<style scoped>\n",
       "    .dataframe tbody tr th:only-of-type {\n",
       "        vertical-align: middle;\n",
       "    }\n",
       "\n",
       "    .dataframe tbody tr th {\n",
       "        vertical-align: top;\n",
       "    }\n",
       "\n",
       "    .dataframe thead th {\n",
       "        text-align: right;\n",
       "    }\n",
       "</style>\n",
       "<table border=\"1\" class=\"dataframe\">\n",
       "  <thead>\n",
       "    <tr style=\"text-align: right;\">\n",
       "      <th></th>\n",
       "      <th>online_security</th>\n",
       "      <th>online_backup</th>\n",
       "      <th>device_protection</th>\n",
       "      <th>tech_support</th>\n",
       "      <th>streaming_tv</th>\n",
       "      <th>streaming_movies</th>\n",
       "      <th>total_internet_services</th>\n",
       "    </tr>\n",
       "  </thead>\n",
       "  <tbody>\n",
       "    <tr>\n",
       "      <th>984</th>\n",
       "      <td>Yes</td>\n",
       "      <td>No</td>\n",
       "      <td>Yes</td>\n",
       "      <td>Yes</td>\n",
       "      <td>Yes</td>\n",
       "      <td>Yes</td>\n",
       "      <td>5</td>\n",
       "    </tr>\n",
       "    <tr>\n",
       "      <th>1362</th>\n",
       "      <td>No</td>\n",
       "      <td>No</td>\n",
       "      <td>No</td>\n",
       "      <td>No</td>\n",
       "      <td>No</td>\n",
       "      <td>Yes</td>\n",
       "      <td>1</td>\n",
       "    </tr>\n",
       "    <tr>\n",
       "      <th>5938</th>\n",
       "      <td>No</td>\n",
       "      <td>Yes</td>\n",
       "      <td>No</td>\n",
       "      <td>No</td>\n",
       "      <td>Yes</td>\n",
       "      <td>Yes</td>\n",
       "      <td>3</td>\n",
       "    </tr>\n",
       "    <tr>\n",
       "      <th>5508</th>\n",
       "      <td>No</td>\n",
       "      <td>No</td>\n",
       "      <td>No</td>\n",
       "      <td>Yes</td>\n",
       "      <td>Yes</td>\n",
       "      <td>No</td>\n",
       "      <td>2</td>\n",
       "    </tr>\n",
       "    <tr>\n",
       "      <th>3965</th>\n",
       "      <td>Yes</td>\n",
       "      <td>Yes</td>\n",
       "      <td>No</td>\n",
       "      <td>No</td>\n",
       "      <td>Yes</td>\n",
       "      <td>Yes</td>\n",
       "      <td>4</td>\n",
       "    </tr>\n",
       "  </tbody>\n",
       "</table>\n",
       "</div>"
      ],
      "text/plain": [
       "     online_security online_backup device_protection tech_support  \\\n",
       "984              Yes            No               Yes          Yes   \n",
       "1362              No            No                No           No   \n",
       "5938              No           Yes                No           No   \n",
       "5508              No            No                No          Yes   \n",
       "3965             Yes           Yes                No           No   \n",
       "\n",
       "     streaming_tv streaming_movies  total_internet_services  \n",
       "984           Yes              Yes                        5  \n",
       "1362           No              Yes                        1  \n",
       "5938          Yes              Yes                        3  \n",
       "5508          Yes               No                        2  \n",
       "3965          Yes              Yes                        4  "
      ]
     },
     "execution_count": 699,
     "metadata": {},
     "output_type": "execute_result"
    }
   ],
   "source": [
    "# Have a check on the `total_internet_services` column\n",
    "final_df[internet_services + ['total_internet_services']].sample(5)"
   ]
  },
  {
   "cell_type": "code",
   "execution_count": 700,
   "metadata": {},
   "outputs": [],
   "source": [
    "# Define a funtion to calculate `total_services` for each customer\n",
    "def assign_service_type(row):\n",
    "    '''\n",
    "    Assign the type of service subscribed by a customer.\n",
    "    '''\n",
    "    if row['internet_service'] != 'not_subscribed' and row['multiple_lines'] == 'not_subscribed':\n",
    "        return 'internet_service'\n",
    "    elif row['internet_service'] == 'not_subscribed' and row['multiple_lines'] != 'not_subscribed':\n",
    "        return 'landline_communication'\n",
    "    else:\n",
    "        return 'both'"
   ]
  },
  {
   "cell_type": "code",
   "execution_count": 701,
   "metadata": {},
   "outputs": [
    {
     "data": {
      "text/html": [
       "<div>\n",
       "<style scoped>\n",
       "    .dataframe tbody tr th:only-of-type {\n",
       "        vertical-align: middle;\n",
       "    }\n",
       "\n",
       "    .dataframe tbody tr th {\n",
       "        vertical-align: top;\n",
       "    }\n",
       "\n",
       "    .dataframe thead th {\n",
       "        text-align: right;\n",
       "    }\n",
       "</style>\n",
       "<table border=\"1\" class=\"dataframe\">\n",
       "  <thead>\n",
       "    <tr style=\"text-align: right;\">\n",
       "      <th></th>\n",
       "      <th>internet_service</th>\n",
       "      <th>multiple_lines</th>\n",
       "      <th>subscribed_service</th>\n",
       "    </tr>\n",
       "  </thead>\n",
       "  <tbody>\n",
       "    <tr>\n",
       "      <th>5010</th>\n",
       "      <td>DSL</td>\n",
       "      <td>Yes</td>\n",
       "      <td>both</td>\n",
       "    </tr>\n",
       "    <tr>\n",
       "      <th>1071</th>\n",
       "      <td>not_subscribed</td>\n",
       "      <td>No</td>\n",
       "      <td>landline_communication</td>\n",
       "    </tr>\n",
       "    <tr>\n",
       "      <th>5382</th>\n",
       "      <td>not_subscribed</td>\n",
       "      <td>No</td>\n",
       "      <td>landline_communication</td>\n",
       "    </tr>\n",
       "    <tr>\n",
       "      <th>3535</th>\n",
       "      <td>DSL</td>\n",
       "      <td>not_subscribed</td>\n",
       "      <td>internet_service</td>\n",
       "    </tr>\n",
       "    <tr>\n",
       "      <th>2468</th>\n",
       "      <td>not_subscribed</td>\n",
       "      <td>No</td>\n",
       "      <td>landline_communication</td>\n",
       "    </tr>\n",
       "  </tbody>\n",
       "</table>\n",
       "</div>"
      ],
      "text/plain": [
       "     internet_service  multiple_lines      subscribed_service\n",
       "5010              DSL             Yes                    both\n",
       "1071   not_subscribed              No  landline_communication\n",
       "5382   not_subscribed              No  landline_communication\n",
       "3535              DSL  not_subscribed        internet_service\n",
       "2468   not_subscribed              No  landline_communication"
      ]
     },
     "execution_count": 701,
     "metadata": {},
     "output_type": "execute_result"
    }
   ],
   "source": [
    "# Assign the `subscribed_services`\n",
    "final_df['subscribed_service'] = final_df.apply(assign_service_type, axis=1)\n",
    "\n",
    "final_df[['internet_service', 'multiple_lines', 'subscribed_service']].sample(5)"
   ]
  },
  {
   "cell_type": "markdown",
   "metadata": {},
   "source": [
    "# Exploratory Data Analysis"
   ]
  },
  {
   "cell_type": "code",
   "execution_count": 702,
   "metadata": {},
   "outputs": [],
   "source": [
    "def plot_filled_bar_chart(data, x, title, legend=True):\n",
    "    '''\n",
    "    Plot a filled bar chart to show the distribution of active customers \n",
    "    and customer who have left given a feature\n",
    "    '''\n",
    "    palette = ['steelblue', 'tomato']\n",
    "    sns.histplot(data=data, x=x, hue='churn', multiple='fill', discrete=True, \n",
    "                 palette=palette, legend=legend, ax=ax)\n",
    "    ax.set_title(title, fontweight='bold', y=1.0)\n",
    "    ax.set_xlabel('')    \n",
    "    ax.set_ylabel('Percentage', fontweight='bold')\n",
    "    ax.set_yticks(np.linspace(0, 1, 6), np.arange(0, 101, 20))\n",
    "    \n",
    "    if legend == True:\n",
    "        legend_labels = ['active', 'churn']\n",
    "        legend_handles = [Line2D([0], [0], color=palette[0], lw=3),\n",
    "                          Line2D([0], [0], color=palette[1], lw=3)]\n",
    "        ax.legend(legend_handles, legend_labels, loc='upper left', bbox_to_anchor=(1, 1))"
   ]
  },
  {
   "cell_type": "markdown",
   "metadata": {},
   "source": [
    "## Monthly Payment for Active Customers and Churn"
   ]
  },
  {
   "cell_type": "code",
   "execution_count": 703,
   "metadata": {},
   "outputs": [
    {
     "name": "stdout",
     "output_type": "stream",
     "text": [
      "Active Customers:\n"
     ]
    },
    {
     "data": {
      "text/plain": [
       "count    5174.000000\n",
       "mean       61.265124\n",
       "std        31.092648\n",
       "min        18.250000\n",
       "25%        25.100000\n",
       "50%        64.425000\n",
       "75%        88.400000\n",
       "max       118.750000\n",
       "Name: monthly_charges, dtype: float64"
      ]
     },
     "metadata": {},
     "output_type": "display_data"
    },
    {
     "name": "stdout",
     "output_type": "stream",
     "text": [
      "------------------------------------------------------------\n",
      "Churn Customers:\n"
     ]
    },
    {
     "data": {
      "text/plain": [
       "count    1869.000000\n",
       "mean       74.441332\n",
       "std        24.666053\n",
       "min        18.850000\n",
       "25%        56.150000\n",
       "50%        79.650000\n",
       "75%        94.200000\n",
       "max       118.350000\n",
       "Name: monthly_charges, dtype: float64"
      ]
     },
     "metadata": {},
     "output_type": "display_data"
    }
   ],
   "source": [
    "active_customers = final_df.query('churn == 0')\n",
    "churn_customers = final_df.query('churn == 1')\n",
    "\n",
    "print('Active Customers:')\n",
    "display(active_customers['monthly_charges'].describe())\n",
    "print('-'*60)\n",
    "print('Churn Customers:')\n",
    "display(churn_customers['monthly_charges'].describe())"
   ]
  },
  {
   "cell_type": "markdown",
   "metadata": {},
   "source": [
    "- Both groups have similar minimum and maximum values\n",
    "- The mean monthly payment for the churn group (74.44) is higher than the active customers (61.26)\n",
    "- There are significantly differences between the quartiles of both groups"
   ]
  },
  {
   "cell_type": "code",
   "execution_count": 704,
   "metadata": {},
   "outputs": [
    {
     "data": {
      "image/png": "[encoded data removed]",
      "text/plain": [
       "<Figure size 1200x800 with 3 Axes>"
      ]
     },
     "metadata": {},
     "output_type": "display_data"
    }
   ],
   "source": [
    "# Plot of histogram and boxplot to visualise distributions\n",
    "\n",
    "sns.set_style('darkgrid')\n",
    " \n",
    "layout = '''\n",
    "    aa\n",
    "    bc\n",
    "'''\n",
    "\n",
    "fig, axd = plt.subplot_mosaic(layout,height_ratios=[1.0, 1.5], figsize = (12,8))\n",
    "\n",
    "fig.suptitle('Distribution of Monthly Payment for Active Customers and Churn', fontsize = 14, fontweight = 'bold')\n",
    "\n",
    "# Plot the Boxplot\n",
    "ax = axd['a']\n",
    "sns.boxplot(data = final_df, x='churn', y='monthly_charges', hue='churn',\n",
    "            palette=['steelblue', 'tomato'], legend=None, ax=ax)\n",
    "ax.set_title('Boxplots (Active and Left)', fontweight='bold')\n",
    "ax.set_xticks([0, 1], ['Active', 'Churn'])\n",
    "ax.set_xlabel('')\n",
    "ax.set_ylabel('Monthly Payment')\n",
    "\n",
    "# Plot the Histogram\n",
    "ax = axd['b']\n",
    "sns.histplot(data = active_customers, x='monthly_charges', ax=ax,\n",
    "             bins=np.arange(0, 121, 10), color = 'steelblue')\n",
    "ax.set_title('Histogram (Active)', fontweight = 'bold')\n",
    "ax.set_xlabel('Montly Payment')\n",
    "ax.set_ylabel('Number of Customers')\n",
    "\n",
    "ax = axd['c']\n",
    "sns.histplot(data = churn_customers, x='monthly_charges', ax=ax, \n",
    "             bins=np.arange(0, 121, 10), color = 'tomato')\n",
    "ax.set_title('Histogram (Churn)', fontweight = 'bold')\n",
    "ax.set_xlabel('Montly Payment')\n",
    "ax.set_ylabel('Number of Customers')\n",
    "\n",
    "\n",
    "\n",
    "plt.tight_layout()\n",
    "plt.show()"
   ]
  },
  {
   "cell_type": "markdown",
   "metadata": {},
   "source": [
    "- The boxplot shows that churn happens with higher payments than the active clients\n",
    "- We can divide the custumers in groups based in monthly payment to understand what group has the more chance to churn:\n",
    "    - 0 to 40\n",
    "    - 40 to 70\n",
    "    - 70 to 100\n",
    "    - 100 and above"
   ]
  },
  {
   "cell_type": "code",
   "execution_count": 705,
   "metadata": {},
   "outputs": [
    {
     "data": {
      "text/html": [
       "<div>\n",
       "<style scoped>\n",
       "    .dataframe tbody tr th:only-of-type {\n",
       "        vertical-align: middle;\n",
       "    }\n",
       "\n",
       "    .dataframe tbody tr th {\n",
       "        vertical-align: top;\n",
       "    }\n",
       "\n",
       "    .dataframe thead th {\n",
       "        text-align: right;\n",
       "    }\n",
       "</style>\n",
       "<table border=\"1\" class=\"dataframe\">\n",
       "  <thead>\n",
       "    <tr style=\"text-align: right;\">\n",
       "      <th>churn</th>\n",
       "      <th>0</th>\n",
       "      <th>1</th>\n",
       "    </tr>\n",
       "    <tr>\n",
       "      <th>monthly_charges</th>\n",
       "      <th></th>\n",
       "      <th></th>\n",
       "    </tr>\n",
       "  </thead>\n",
       "  <tbody>\n",
       "    <tr>\n",
       "      <th>0 to 40</th>\n",
       "      <td>88.36</td>\n",
       "      <td>11.64</td>\n",
       "    </tr>\n",
       "    <tr>\n",
       "      <th>0 to 70</th>\n",
       "      <td>76.08</td>\n",
       "      <td>23.92</td>\n",
       "    </tr>\n",
       "    <tr>\n",
       "      <th>70 to 100</th>\n",
       "      <td>62.18</td>\n",
       "      <td>37.82</td>\n",
       "    </tr>\n",
       "    <tr>\n",
       "      <th>100 and above</th>\n",
       "      <td>71.95</td>\n",
       "      <td>28.05</td>\n",
       "    </tr>\n",
       "  </tbody>\n",
       "</table>\n",
       "</div>"
      ],
      "text/plain": [
       "churn                0      1\n",
       "monthly_charges              \n",
       "0 to 40          88.36  11.64\n",
       "0 to 70          76.08  23.92\n",
       "70 to 100        62.18  37.82\n",
       "100 and above    71.95  28.05"
      ]
     },
     "execution_count": 705,
     "metadata": {},
     "output_type": "execute_result"
    }
   ],
   "source": [
    "customers_groups = pd.cut(\n",
    "    final_df['monthly_charges'],\n",
    "    bins=[0, 40, 70, 100, 120],\n",
    "    labels=['0 to 40', '0 to 70', '70 to 100', '100 and above']\n",
    ").to_frame()\n",
    "\n",
    "customers_groups['churn'] = final_df['churn']\n",
    "\n",
    "pivot = customers_groups.pivot_table(\n",
    "    index='monthly_charges',\n",
    "    columns='churn',\n",
    "    aggfunc='size'\n",
    ")\n",
    "\n",
    "pivot_perc = (pivot.div(pivot.sum(axis=1), axis=0)*100).round(2)\n",
    "\n",
    "pivot_perc"
   ]
  },
  {
   "cell_type": "code",
   "execution_count": 706,
   "metadata": {},
   "outputs": [
    {
     "data": {
      "image/png": "[encoded data removed]",
      "text/plain": [
       "<Figure size 400x300 with 1 Axes>"
      ]
     },
     "metadata": {},
     "output_type": "display_data"
    }
   ],
   "source": [
    "sns.set_style('darkgrid')\n",
    "plt.figure(figsize=(4,3))\n",
    "\n",
    "ax = plt.gca()\n",
    "plot_filled_bar_chart(data=customers_groups,\n",
    "                      x= 'monthly_charges',\n",
    "                      title='Percentage of Active Customers and Churn per groups of Monthly Payment')"
   ]
  },
  {
   "cell_type": "markdown",
   "metadata": {},
   "source": [
    "- The group who pay 70 to 100 per month has the highest churn rate --> 37.82%\n",
    "- It is possible to focus on that group to avoid churn"
   ]
  },
  {
   "cell_type": "markdown",
   "metadata": {},
   "source": [
    "## Active and Churn Share Per Services"
   ]
  },
  {
   "cell_type": "code",
   "execution_count": 707,
   "metadata": {},
   "outputs": [
    {
     "data": {
      "text/html": [
       "<div>\n",
       "<style scoped>\n",
       "    .dataframe tbody tr th:only-of-type {\n",
       "        vertical-align: middle;\n",
       "    }\n",
       "\n",
       "    .dataframe tbody tr th {\n",
       "        vertical-align: top;\n",
       "    }\n",
       "\n",
       "    .dataframe thead th {\n",
       "        text-align: right;\n",
       "    }\n",
       "</style>\n",
       "<table border=\"1\" class=\"dataframe\">\n",
       "  <thead>\n",
       "    <tr style=\"text-align: right;\">\n",
       "      <th>churn</th>\n",
       "      <th>0</th>\n",
       "      <th>1</th>\n",
       "    </tr>\n",
       "    <tr>\n",
       "      <th>subscribed_service</th>\n",
       "      <th></th>\n",
       "      <th></th>\n",
       "    </tr>\n",
       "  </thead>\n",
       "  <tbody>\n",
       "    <tr>\n",
       "      <th>both</th>\n",
       "      <td>67.20</td>\n",
       "      <td>32.80</td>\n",
       "    </tr>\n",
       "    <tr>\n",
       "      <th>internet_service</th>\n",
       "      <td>75.07</td>\n",
       "      <td>24.93</td>\n",
       "    </tr>\n",
       "    <tr>\n",
       "      <th>landline_communication</th>\n",
       "      <td>92.60</td>\n",
       "      <td>7.40</td>\n",
       "    </tr>\n",
       "  </tbody>\n",
       "</table>\n",
       "</div>"
      ],
      "text/plain": [
       "churn                       0      1\n",
       "subscribed_service                  \n",
       "both                    67.20  32.80\n",
       "internet_service        75.07  24.93\n",
       "landline_communication  92.60   7.40"
      ]
     },
     "execution_count": 707,
     "metadata": {},
     "output_type": "execute_result"
    }
   ],
   "source": [
    "pivot = final_df.pivot_table(\n",
    "    index='subscribed_service',\n",
    "    columns='churn',\n",
    "    aggfunc='size'\n",
    ")\n",
    "\n",
    "pivot_perc = (pivot.div(pivot.sum(axis=1), axis=0)*100).round(2)\n",
    "\n",
    "pivot_perc"
   ]
  },
  {
   "cell_type": "markdown",
   "metadata": {},
   "source": [
    "- Customers that are subscribed only in **`landline_communication`** have the lowest rate of churn\n",
    "- Clients subscribed only in Internet Services or in Both Services have almost the same rate of churn\n",
    "- It is possible that the Internet Service is the reason of churn"
   ]
  },
  {
   "cell_type": "markdown",
   "metadata": {},
   "source": [
    "## Customer Subscription and Churn by date"
   ]
  },
  {
   "cell_type": "code",
   "execution_count": 708,
   "metadata": {},
   "outputs": [
    {
     "data": {
      "image/png": "[encoded data removed]",
      "text/plain": [
       "<Figure size 1500x500 with 2 Axes>"
      ]
     },
     "metadata": {},
     "output_type": "display_data"
    }
   ],
   "source": [
    "# Plot bar charts to view the customer joining and leaving dates\n",
    "sns.set_style('darkgrid')\n",
    "\n",
    "fig, axs = plt.subplots(1, 2, width_ratios=[5.0, 1.0], sharey=True, figsize=(15, 5))\n",
    "\n",
    "# The joining dates\n",
    "df_t = final_df['begin_date'].value_counts().sort_index()\n",
    "ax = axs[0]\n",
    "sns.barplot(x=df_t.index, y=df_t.values, color='steelblue', ax=ax)\n",
    "ax.set_title('Customer Subscription', fontsize=14, fontweight='bold')\n",
    "ax.set_xlabel('Begin Date', fontsize=12, fontweight='bold')\n",
    "ax.set_ylabel('Number of Customer', fontsize=12, fontweight='bold')\n",
    "ax.set_xticks(ax.get_xticks(), ax.get_xticklabels(), rotation=90)\n",
    "\n",
    "# The churn dates\n",
    "df_t = final_df['end_date'].value_counts().sort_index()\n",
    "ax = axs[1]\n",
    "sns.barplot(x=df_t.index, y=df_t.values, color='tomato', width=0.3, ax=ax)\n",
    "ax.set_title('Customer Churn', fontsize=13, fontweight='bold')\n",
    "ax.set_xlabel('End Date', fontsize=12, fontweight='bold')\n",
    "ax.set_xticks(ax.get_xticks(), ax.get_xticklabels(), rotation=90)\n",
    "\n",
    "plt.tight_layout()\n",
    "plt.show()"
   ]
  },
  {
   "cell_type": "markdown",
   "metadata": {},
   "source": [
    "- The churn is concentrated in 4 months: octuber/2019 and january/2020.\n",
    "- It is possible that the data was colected in february/2020, so the churn rate could be the same.\n",
    "- The customers outflow is almost the doble of inflow in the same time period"
   ]
  },
  {
   "cell_type": "markdown",
   "metadata": {},
   "source": [
    "## Churn rate per Type of Contract"
   ]
  },
  {
   "cell_type": "code",
   "execution_count": 709,
   "metadata": {},
   "outputs": [
    {
     "data": {
      "image/png": "[encoded data removed]",
      "text/plain": [
       "<Figure size 400x300 with 1 Axes>"
      ]
     },
     "metadata": {},
     "output_type": "display_data"
    }
   ],
   "source": [
    "# Plot a filled bar chart\n",
    "sns.set_style('white')\n",
    "plt.figure(figsize=(4, 3))\n",
    "\n",
    "ax = plt.gca()\n",
    "plot_filled_bar_chart(data=final_df,\n",
    "                      x='type',\n",
    "                      title='Active Customers and Customers who Have Churn\\nPer Contract Type')\n",
    "\n",
    "plt.show()"
   ]
  },
  {
   "cell_type": "markdown",
   "metadata": {},
   "source": [
    "- Custumers with Month-to-Month contracts have the highest churn rate\n",
    "- The business department could work on convert this costumers in annual subscribers"
   ]
  },
  {
   "cell_type": "markdown",
   "metadata": {},
   "source": [
    "### Churn Rate per Number of Services "
   ]
  },
  {
   "cell_type": "code",
   "execution_count": 710,
   "metadata": {},
   "outputs": [
    {
     "data": {
      "image/png": "[encoded data removed]",
      "text/plain": [
       "<Figure size 640x480 with 1 Axes>"
      ]
     },
     "metadata": {},
     "output_type": "display_data"
    }
   ],
   "source": [
    "# Plot  filled bar charts\n",
    "ax = plt.gca()\n",
    "plot_filled_bar_chart(data=final_df.query('internet_service != \"not_subscribed\"'),\n",
    "                      x='total_internet_services',\n",
    "                      title='Total Subscribed Internet Services',\n",
    "                      legend=True)\n",
    "\n",
    "ax.set_xticks(np.arange(0, 7))\n",
    "ax.set_xticklabels(np.arange(0, 7))\n",
    "ax.set_xlim(-0.5, 6.5)\n",
    "\n",
    "plt.tight_layout()\n",
    "plt.show()"
   ]
  },
  {
   "cell_type": "markdown",
   "metadata": {},
   "source": [
    "- Customers with more services have the lowest rate of churn\n",
    "- The business department could offer more services to clients"
   ]
  },
  {
   "cell_type": "markdown",
   "metadata": {},
   "source": [
    "## Churn Rate Per Additional Internet Services"
   ]
  },
  {
   "cell_type": "code",
   "execution_count": 711,
   "metadata": {},
   "outputs": [
    {
     "data": {
      "image/png": "[encoded data removed]",
      "text/plain": [
       "<Figure size 800x700 with 6 Axes>"
      ]
     },
     "metadata": {},
     "output_type": "display_data"
    }
   ],
   "source": [
    "internet_services = ['online_security', 'online_backup', 'device_protection',\n",
    "                     'tech_support', 'streaming_tv', 'streaming_movies']\n",
    "\n",
    "# Plot filled bar charts\n",
    "nrows, ncols = 3, 2\n",
    "sns.set_style('darkgrid')\n",
    "fig, axs = plt.subplots(nrows, ncols, figsize=(8, 7))\n",
    "\n",
    "plt.suptitle('Active Customers and Customers who Have Churn', x=0.48, fontsize=15, fontweight='bold')\n",
    "\n",
    "for i in range(nrows):\n",
    "    for j in range(ncols):\n",
    "        ax = axs[i][j]\n",
    "        # Get the service column name\n",
    "        service = internet_services[i*ncols + j]\n",
    "        title = ' '.join([word.capitalize() for word in service.split('_')])\n",
    "\n",
    "        # Plot the filled bar charts, show legend only for right-hand side bar chart\n",
    "        if j == 0:            \n",
    "            plot_filled_bar_chart(data=final_df,\n",
    "                                  x=service,\n",
    "                                  title=title,                                  \n",
    "                                  legend=False)\n",
    "        if j == 1:            \n",
    "            plot_filled_bar_chart(data=final_df,\n",
    "                                  x=service,\n",
    "                                  title=title,                                  \n",
    "                                  legend=True)\n",
    "\n",
    "plt.tight_layout()\n",
    "plt.show()"
   ]
  },
  {
   "cell_type": "markdown",
   "metadata": {},
   "source": [
    "- Costumers who are subscribed in `Online Security`, `Online Backup`,`Tech Support`, `Device Protection` have the lowest churn rate. This services could be used by the business department to retain costumers.\n",
    "- Costumers who use or don't use `Streaming TV` and `Streaming Movies` services presents no representative difference "
   ]
  },
  {
   "cell_type": "markdown",
   "metadata": {},
   "source": [
    "## Churn rate Per Payment Methods"
   ]
  },
  {
   "cell_type": "code",
   "execution_count": 712,
   "metadata": {},
   "outputs": [
    {
     "data": {
      "image/png": "[encoded data removed]",
      "text/plain": [
       "<Figure size 800x300 with 2 Axes>"
      ]
     },
     "metadata": {},
     "output_type": "display_data"
    }
   ],
   "source": [
    "# Plot  filled bar charts\n",
    "sns.set_style('white')\n",
    "fig, axs = plt.subplots(1, 2, figsize=(8, 3))\n",
    "\n",
    "plt.suptitle('Active Customers and Customers who Have Left', fontsize=15, fontweight='bold')\n",
    "\n",
    "ax = axs[0]\n",
    "plot_filled_bar_chart(data=final_df,\n",
    "                      x='payment_method',\n",
    "                      title='Payment Method',\n",
    "                      legend=False)\n",
    "ax.set_xticks(ax.get_xticks(), ax.get_xticklabels(), rotation=20)\n",
    "\n",
    "ax = axs[1]\n",
    "plot_filled_bar_chart(data=final_df,\n",
    "                      x='paperless_billing',\n",
    "                      title='Paperless Billing',\n",
    "                      legend=True)\n",
    "ax.set_xticks(np.arange(0, 2), ['No', 'Yes'])\n",
    "\n",
    "\n",
    "plt.tight_layout()\n",
    "plt.show()"
   ]
  },
  {
   "cell_type": "markdown",
   "metadata": {},
   "source": [
    "\n",
    "- Costumers who use Electronic check and Paperless Billing have the highest rate of churn\n",
    "- Costumers who use Automatic Methods of payment have the lowest rate of churn"
   ]
  },
  {
   "cell_type": "markdown",
   "metadata": {},
   "source": [
    "## Churn Rate by Personal Characteristc"
   ]
  },
  {
   "cell_type": "code",
   "execution_count": 713,
   "metadata": {},
   "outputs": [
    {
     "data": {
      "image/png": "[encoded data removed]",
      "text/plain": [
       "<Figure size 800x500 with 4 Axes>"
      ]
     },
     "metadata": {},
     "output_type": "display_data"
    }
   ],
   "source": [
    "personal_columns = ['gender', 'senior_citizen', 'partner', 'dependents']\n",
    "\n",
    "# Plot filled bar charts\n",
    "nrows, ncols = 2, 2\n",
    "sns.set_style('white')\n",
    "fig, axs = plt.subplots(nrows, ncols, figsize=(8, 5))\n",
    "\n",
    "plt.suptitle('Active Customers and Customers who Have Left', x=0.48, fontsize=15, fontweight='bold')\n",
    "\n",
    "for i in range(nrows):\n",
    "    for j in range(ncols):\n",
    "        ax = axs[i][j]\n",
    "        # Get the service column name\n",
    "        personal = personal_columns[i*ncols + j]\n",
    "        title = ' '.join([word.capitalize() for word in personal.split('_')])\n",
    "\n",
    "        # Plot the filled bar charts, show legend only for right-hand side bar chart\n",
    "        if j == 0:            \n",
    "            plot_filled_bar_chart(data=final_df,\n",
    "                                  x=personal,\n",
    "                                  title=title,\n",
    "                                  legend=False)\n",
    "        if j == 1:\n",
    "            service = internet_services[i*ncols + j]\n",
    "            plot_filled_bar_chart(data=final_df,\n",
    "                                  x=personal,\n",
    "                                  title=title,\n",
    "                                  legend=True)\n",
    "\n",
    "axs[0][1].set_xticks(np.arange(0, 2), ['No', 'Yes'])\n",
    "axs[1][0].set_xticks(np.arange(0, 2), ['No', 'Yes'])\n",
    "axs[1][1].set_xticks(np.arange(0, 2), ['No', 'Yes'])\n",
    "\n",
    "plt.tight_layout()\n",
    "plt.show()"
   ]
  },
  {
   "cell_type": "markdown",
   "metadata": {},
   "source": [
    "- Gender has no significance in churn rate\n",
    "- Senior Citizen have the highest churn rate\n",
    "- Churn rate are lower when costumers have partner or dependents \n",
    "- Business department could offer more family plans"
   ]
  },
  {
   "cell_type": "markdown",
   "metadata": {},
   "source": [
    "## Correlation Between Features and Target"
   ]
  },
  {
   "cell_type": "code",
   "execution_count": 714,
   "metadata": {},
   "outputs": [
    {
     "data": {
      "image/png": "[encoded data removed]",
      "text/plain": [
       "<Figure size 400x400 with 1 Axes>"
      ]
     },
     "metadata": {},
     "output_type": "display_data"
    }
   ],
   "source": [
    "numerical_features = ['monthly_charges', 'total_charges', 'subscribed_days',\n",
    "                      'subscribed_years', 'total_internet_services']\n",
    "\n",
    "# Plot the heatmap of correlation coefficients\n",
    "sns.set_style('white')\n",
    "plt.figure(figsize=(4, 4))\n",
    "\n",
    "corr_data = final_df[['churn'] + numerical_features].corr()\n",
    "\n",
    "sns.heatmap(corr_data, annot=True, fmt='.2f',\n",
    "            cmap='mako', square=True, cbar=False)\n",
    "\n",
    "plt.title('Correlation between Numerical Features and Target',\n",
    "          fontsize=12, fontweight='bold')\n",
    "plt.xticks(fontweight='bold')\n",
    "plt.yticks(fontweight='bold')\n",
    "\n",
    "plt.show()"
   ]
  },
  {
   "cell_type": "markdown",
   "metadata": {},
   "source": [
    "- There is a negative correlation between churn and the columns **subscribed_days** and **subscribe_year**. This indicates that the longer a customer remains a subscriber, the lower the likelihood of churn.  \n",
    "- There is a positive correlation between churn and **monthly_charges**, meaning that customers who pay higher monthly fees are more likely to churn.  \n",
    "- There is a negative correlation between churn and **total_charges**, suggesting that customers who have spent more money over the years are less likely to churn."
   ]
  },
  {
   "cell_type": "markdown",
   "metadata": {},
   "source": [
    "# Intermediate Conclusions"
   ]
  },
  {
   "cell_type": "markdown",
   "metadata": {},
   "source": [
    "### **General Conclusion on Churn Analysis**\n",
    "\n",
    "1. **Data Quality and Preprocessing**:  \n",
    "   - No missing or duplicate data were found across the dataframes, ensuring data integrity.\n",
    "   - Data types and column names were standardized, and missing values were handled appropriately.\n",
    "   - Customers with missing `TotalCharges` values likely had not been billed yet, and these records required correction.\n",
    "\n",
    "2. **Merging and Feature Engineering**:  \n",
    "   - The four datasets were merged using `customer_id`, allowing for a more comprehensive analysis.\n",
    "   - New features were created to capture customer behavior, including subscription classification and churn prediction.\n",
    "   - A `churn` feature was derived from missing `end_date` values.\n",
    "\n",
    "3. **Churn Behavior Insights**:  \n",
    "   - Customers who pay **higher monthly fees (above $70)** are more likely to churn, suggesting pricing sensitivity.\n",
    "   - Customers who **stay longer** (higher total charges and subscription duration) are less likely to churn.\n",
    "   - The highest churn rate (37.82%) is concentrated among customers who pay between **$70 to $100** per month.\n",
    "\n",
    "4. **Service Subscription Patterns**:  \n",
    "   - Customers subscribed only to **Multiple Lines** have the **lowest churn rate**.\n",
    "   - Internet Service alone or in combination with other services has a **higher churn rate**, suggesting dissatisfaction.\n",
    "   - Streaming services (`Streaming TV`, `Streaming Movies`) have **no significant impact** on churn.\n",
    "   - Customers subscribed to **Online Security, Online Backup, Tech Support, and Device Protection** have **the lowest churn rate**. These services could be leveraged to increase retention.\n",
    "\n",
    "5. **Billing and Payment Methods**:  \n",
    "   - Customers using **Electronic Check and Paperless Billing** have **higher churn rates**.\n",
    "   - Customers using **automatic payment methods** (credit card, bank transfer) have the **lowest churn rate**.\n",
    "\n",
    "6. **Customer Demographics and Engagement**:  \n",
    "   - **Gender does not impact churn rate**.\n",
    "   - **Senior citizens churn at a higher rate**.\n",
    "   - Customers with **partners or dependents** are less likely to churn, indicating that family-oriented plans may improve retention.\n",
    "\n",
    "7. **Contract Type and Business Opportunities**:  \n",
    "   - Customers on **Month-to-Month contracts** have the **highest churn rate**.\n",
    "   - **Encouraging customers to switch to annual contracts** could reduce churn.\n",
    "   - **Offering more bundled services** could improve retention since customers with multiple services tend to stay longer."
   ]
  },
  {
   "cell_type": "markdown",
   "metadata": {},
   "source": [
    "# PROJECT WORK:"
   ]
  },
  {
   "cell_type": "markdown",
   "metadata": {},
   "source": [
    "### **General Task Resolution Plan**  \n",
    "\n",
    "1. **Review the Exploratory Data Analysis (EDA) and Key Insights**  \n",
    "   - Summarize the main findings from the EDA to ensure all relevant patterns and correlations are considered.  \n",
    "   - Identify the most important factors contributing to customer churn, such as pricing, contract type, service usage, and payment methods.  \n",
    "\n",
    "2. **Data Preprocessing and Feature Engineering**  \n",
    "   - Clean and transform the data to ensure it is suitable for machine learning models.  \n",
    "   - Encode categorical variables, standardize numerical features, and handle missing values appropriately.  \n",
    "   - Engineer new features based on the insights from EDA, such as subscription duration, service usage categories, and payment patterns.  \n",
    "\n",
    "3. **Model Selection and Training**  \n",
    "   - Choose appropriate machine learning algorithms to predict churn.  \n",
    "   - Split the data into training and testing sets to evaluate model performance.  \n",
    "   - Tune hyperparameters and compare model accuracy, precision, recall, and F1-score to select the best-performing model.  \n",
    "\n",
    "4. **Model Evaluation and Interpretation**  \n",
    "   - Assess model performance using key metrics such as ROC-AUC, precision-recall curves, and feature importance analysis.  \n",
    "   - Interpret the most influential features driving customer churn and validate them against business logic.  \n",
    "   - Conduct error analysis to identify common misclassifications and potential improvements.  \n",
    "\n",
    "5. **Final Insights**  \n",
    "   - Summarize the most critical insights from the predictive model, highlighting key factors influencing churn.\n",
    "   - Identify customer segments at the highest risk of churn and their characteristics.\n",
    "   - Provide a data-driven understanding of why customers leave and which variables are most strongly correlated with churn.\n",
    "   - Highlight unexpected findings or trends that could impact business strategies."
   ]
  },
  {
   "cell_type": "markdown",
   "metadata": {},
   "source": [
    "# Modeling"
   ]
  },
  {
   "cell_type": "code",
   "execution_count": 715,
   "metadata": {},
   "outputs": [],
   "source": [
    "def optimise_model(model, objective, X_train, y_train, X_val, y_val, n_trials, model_name):    \n",
    "    '''\n",
    "    Optimise a scikit-learn model with the Optuna library.\n",
    "\n",
    "    The model is optimised based on a user-defined objective function.\n",
    "    '''\n",
    "    # Set the optuna verbosity level to warning only\n",
    "    optuna.logging.set_verbosity(optuna.logging.WARNING)\n",
    "    \n",
    "    # Create the optimisation study\n",
    "    study = optuna.create_study(sampler=optuna.samplers.TPESampler(seed=42),\n",
    "                                direction='maximize',\n",
    "                                study_name=f'{model_name}_study')    \n",
    "\n",
    "    # Optimise the model and show the progress bar\n",
    "    with tqdm(total=n_trials, desc=f'Optimising {model_name}... ') as pbar:\n",
    "        def callback(study, trial):\n",
    "            pbar.update(1)    \n",
    "        study.optimize(objective, n_trials=n_trials, callbacks=[callback])\n",
    "\n",
    "    # Print the best hyperparameter found\n",
    "    print('Best hyperparameters:')\n",
    "    display(study.best_params)    \n",
    "    print()\n",
    "    \n",
    "    # Recreate the best model\n",
    "    best_model = model(**study.best_params) \n",
    "\n",
    "    # Train the model and record the training time          \n",
    "    train_start = time.time()\n",
    "    best_model.fit(X_train, y_train)\n",
    "    train_end = time.time()\n",
    "    train_time = round((train_end - train_start) * 1000, 2)\n",
    "\n",
    "    return best_model, train_time"
   ]
  },
  {
   "cell_type": "code",
   "execution_count": 716,
   "metadata": {},
   "outputs": [],
   "source": [
    "def evaluate_model(model, X_train, y_train, X_test, y_test, test_set=False):\n",
    "    '''\n",
    "    Evaluate the performance of a binary classification model.\n",
    "\n",
    "    Evaluate the model performance on the training and test sets.\n",
    "    Display the scores including ROC AUC score and accuracy score.\n",
    "    Plot the ROC curve and confusion matrix.\n",
    "    '''\n",
    "    # Create a dictionary to store the evaluation stats\n",
    "    eval_stats = {}\n",
    "\n",
    "    # Plot the ROC curve and confusion matrix\n",
    "    sns.set_style('darkgrid')\n",
    "    fig, axs = plt.subplots(1, 2, figsize=(6, 3))\n",
    "\n",
    "    for data_type, X, y in (('train', X_train, y_train), ('test', X_test, y_test)):     \n",
    "        # Create dict to store the train and test stats\n",
    "        eval_stats[data_type] = {}\n",
    "\n",
    "        # Get the predict probability and predictions\n",
    "        # Calculate the prediction time\n",
    "        pred_proba = model.predict_proba(X)[:, 1]\n",
    "        pred_start = time.time()\n",
    "        y_pred = model.predict(X)\n",
    "        pred_end = time.time()\n",
    "\n",
    "        # Store the prediction time on the test set\n",
    "        if data_type == 'test':\n",
    "            pred_time = round((pred_end - pred_start) * 1000, 2)\n",
    "\n",
    "        # Get the required data to plot the ROC curve\n",
    "        fpr, tpr, roc_thresholds = roc_curve(y, pred_proba)\n",
    "        roc_auc = roc_auc_score(y, pred_proba)        \n",
    "                \n",
    "        # Assign colours for train and test sets in the graph\n",
    "        if data_type == 'train':\n",
    "            color = 'blue'\n",
    "        else:\n",
    "            color = 'green'\n",
    "\n",
    "        # Plot the ROC curve\n",
    "        ax = axs[0]\n",
    "        if data_type == 'train':\n",
    "            ax.plot(fpr, tpr, color=color, label=f'train, ROC AUC={roc_auc:.4f}')\n",
    "        else:\n",
    "            if not test_set:\n",
    "                ax.plot(fpr, tpr, color=color, label=f'val, ROC AUC={roc_auc:.4f}')\n",
    "            else:\n",
    "                ax.plot(fpr, tpr, color=color, label=f'test, ROC AUC={roc_auc:.4f}')\n",
    "        ax.plot([0, 1], [0, 1], color='grey', linestyle='--')\n",
    "        ax.set_title('ROC Curve', fontsize=12, fontweight='bold')\n",
    "        ax.set_xlabel('FPR', fontweight='bold')\n",
    "        ax.set_ylabel('TPR', fontweight='bold')\n",
    "        ax.set_xlim([-0.02, 1.02])\n",
    "        ax.set_ylim([-0.02, 1.02])\n",
    "        ax.legend(loc='lower center', prop={'size': 8, 'weight': 'bold'})\n",
    "        \n",
    "        # Make a few point on the curve with selected thresholds\n",
    "        for threshold in (0.2, 0.4, 0.5, 0.6, 0.8):\n",
    "            closest_value_idx = np.argmin(np.abs(roc_thresholds - threshold))\n",
    "            marker_color = 'orange' if threshold != 0.5 else 'red'\n",
    "            ax.plot(fpr[closest_value_idx], tpr[closest_value_idx],\n",
    "                    color=marker_color, marker='X', markersize=7)\n",
    "\n",
    "        # Plot the confusion matrix on the test set\n",
    "        if data_type == 'test':\n",
    "            ax = axs[1]\n",
    "            sns.heatmap(confusion_matrix(y, y_pred), cmap='Blues', annot=True, square=True,\n",
    "                        fmt='.0f', annot_kws={'fontsize': 12, 'fontweight': 'bold'}, cbar=False, ax=ax)\n",
    "            ax.set_title('Confusion Matrix', fontsize=12, fontweight='bold')\n",
    "            ax.set_xlabel('Predicted', fontweight='bold')\n",
    "            ax.set_ylabel('Actual', fontweight='bold')\n",
    "            ax.set_xticks([0.5, 1.5], ['Active', 'Left'])\n",
    "            ax.set_yticks([0.5, 1.5], ['Active', 'Left'])\n",
    "        \n",
    "        # Store the ROC AUC score and accuracy_score\n",
    "        eval_stats[data_type]['ROC AUC'] = roc_auc\n",
    "        eval_stats[data_type]['Accuracy'] = accuracy_score(y, y_pred)\n",
    "\n",
    "    plt.tight_layout()\n",
    "    plt.show()\n",
    "    \n",
    "    # Get the evaluation result to be shown\n",
    "    eval_stats_df = pd.DataFrame(eval_stats)\n",
    "    eval_stats_df = eval_stats_df.round(4).reindex(index=('ROC AUC', 'Accuracy'))    \n",
    "\n",
    "    # Return the evaluation result as necessary\n",
    "    if not test_set:\n",
    "        result = {\n",
    "            'train_roc_auc': eval_stats_df.loc['ROC AUC', 'train'],\n",
    "            'val_roc_auc': eval_stats_df.loc['ROC AUC', 'test'],\n",
    "            'train_acc': eval_stats_df.loc['Accuracy', 'train'],\n",
    "            'val_acc': eval_stats_df.loc['Accuracy', 'test'],\n",
    "            'prediction_time (ms)': pred_time\n",
    "        }\n",
    "\n",
    "        # Adjust the column names and show the evaluation result\n",
    "        eval_stats_df.columns = ['train', 'validation']\n",
    "        display(eval_stats_df)\n",
    "        \n",
    "        return result        \n",
    "    else:\n",
    "        # Show the evaluation result\n",
    "        display(eval_stats_df)\n"
   ]
  },
  {
   "cell_type": "code",
   "execution_count": 717,
   "metadata": {},
   "outputs": [],
   "source": [
    "def save_model(model, model_path, model_name):\n",
    "    '''\n",
    "    Save the trained model.\n",
    "    '''\n",
    "    # Delete the model if it exists\n",
    "    if os.path.isfile(model_path):\n",
    "        os.remove(model_path)\n",
    "\n",
    "    # Save the model\n",
    "    try:\n",
    "        pickle.dump(model, open(model_path, 'wb'))        \n",
    "    except Exception as e:\n",
    "        print('Failed to save the model.')\n",
    "        print(f'Unexpected Error: {e}')\n",
    "    else:\n",
    "        print(f'The {model_name} model has been successfully saved.')"
   ]
  },
  {
   "cell_type": "markdown",
   "metadata": {},
   "source": [
    "## Features and Target\n",
    "\n",
    "- To predict churn we will train 6 models:\n",
    "    - Baseline Model: Constant Model\n",
    "    - Linear Model: Logistic Regression\n",
    "    - Tree-based Model: Decision Tree\n",
    "    - Gradient Boosting: LightGBM, CatBoost, XGBoost\n",
    "\n",
    "- The first step to training the models is separate the dataset into _features_ and _target_ and remove any unnecessary feature from the dataset, like `costumer_id`,`begin_date`, `end_date`"
   ]
  },
  {
   "cell_type": "code",
   "execution_count": 718,
   "metadata": {},
   "outputs": [
    {
     "name": "stdout",
     "output_type": "stream",
     "text": [
      "Shape of X: (7043, 21)\n",
      "Shape of y: (7043,)\n"
     ]
    }
   ],
   "source": [
    "X = final_df.drop(columns=['customer_id', 'begin_date', 'end_date', 'churn'])\n",
    "y = final_df['churn']\n",
    "\n",
    "# Check the shapes of X and y\n",
    "print('Shape of X:', X.shape)\n",
    "print('Shape of y:', y.shape)"
   ]
  },
  {
   "cell_type": "markdown",
   "metadata": {},
   "source": [
    "## One-Hot Encoding\n",
    "\n",
    "- To ensure that all models can be trained properly, we will perform one-hot encoding on the categorical features"
   ]
  },
  {
   "cell_type": "code",
   "execution_count": 719,
   "metadata": {},
   "outputs": [
    {
     "name": "stdout",
     "output_type": "stream",
     "text": [
      "Shape of X after one-hot encoding: (7043, 33)\n"
     ]
    }
   ],
   "source": [
    "# One-hot encode the categorical features\n",
    "X_ohe = pd.get_dummies(X, drop_first=True, dtype=int)\n",
    "\n",
    "# Check the shape of X_ohe\n",
    "print('Shape of X after one-hot encoding:', X_ohe.shape)"
   ]
  },
  {
   "cell_type": "markdown",
   "metadata": {},
   "source": [
    "## Split the Dataset into Training, Validation and Test Sets\n",
    "\n",
    "- Our dataset will be divided into:\n",
    "    - 80% -> Training\n",
    "    - 10% -> Validation\n",
    "    - 10% -> Test"
   ]
  },
  {
   "cell_type": "code",
   "execution_count": 720,
   "metadata": {},
   "outputs": [
    {
     "name": "stdout",
     "output_type": "stream",
     "text": [
      "Shape of X_train (5634, 33)\n",
      "Shape of y_train (5634,)\n",
      "Shape of X_val (704, 33)\n",
      "Shape of y_val (704,)\n",
      "Shape of X_test (705, 33)\n",
      "Shape of y_test (705,)\n"
     ]
    }
   ],
   "source": [
    "# Split the dataset into train:val:test = 80:10:10\n",
    "X_train, X_test, y_train, y_test = train_test_split(X_ohe, y, test_size=0.2, random_state=12345)\n",
    "X_val, X_test, y_val, y_test = train_test_split(X_test, y_test, test_size=0.5, random_state=12345)\n",
    "\n",
    "# Check the shapes\n",
    "print('Shape of X_train', X_train.shape)\n",
    "print('Shape of y_train', y_train.shape)\n",
    "print('Shape of X_val', X_val.shape)\n",
    "print('Shape of y_val', y_val.shape)\n",
    "print('Shape of X_test', X_test.shape)\n",
    "print('Shape of y_test', y_test.shape)"
   ]
  },
  {
   "cell_type": "code",
   "execution_count": 721,
   "metadata": {},
   "outputs": [
    {
     "data": {
      "text/plain": [
       "churn\n",
       "0    4125\n",
       "1    1509\n",
       "Name: count, dtype: int64"
      ]
     },
     "execution_count": 721,
     "metadata": {},
     "output_type": "execute_result"
    }
   ],
   "source": [
    "# Check for target imbalance\n",
    "y_train.value_counts()"
   ]
  },
  {
   "cell_type": "markdown",
   "metadata": {},
   "source": [
    "- The dataset was separate into training, validation and test with proportion 80:10:10\n",
    "- There are imbalance in our dataset, therefore is necessary upsample the minority class"
   ]
  },
  {
   "cell_type": "markdown",
   "metadata": {},
   "source": [
    "## Features Scaling \n",
    "\n",
    "- Features scaling will be performed to auxiliate the gradient boosting models to converge better and faster"
   ]
  },
  {
   "cell_type": "code",
   "execution_count": 722,
   "metadata": {},
   "outputs": [],
   "source": [
    "numerical_features = ['monthly_charges', 'total_charges', 'subscribed_days', 'subscribed_years', 'total_internet_services']"
   ]
  },
  {
   "cell_type": "code",
   "execution_count": 723,
   "metadata": {},
   "outputs": [
    {
     "data": {
      "text/html": [
       "<div>\n",
       "<style scoped>\n",
       "    .dataframe tbody tr th:only-of-type {\n",
       "        vertical-align: middle;\n",
       "    }\n",
       "\n",
       "    .dataframe tbody tr th {\n",
       "        vertical-align: top;\n",
       "    }\n",
       "\n",
       "    .dataframe thead th {\n",
       "        text-align: right;\n",
       "    }\n",
       "</style>\n",
       "<table border=\"1\" class=\"dataframe\">\n",
       "  <thead>\n",
       "    <tr style=\"text-align: right;\">\n",
       "      <th></th>\n",
       "      <th>monthly_charges</th>\n",
       "      <th>total_charges</th>\n",
       "      <th>subscribed_days</th>\n",
       "      <th>subscribed_years</th>\n",
       "      <th>total_internet_services</th>\n",
       "    </tr>\n",
       "  </thead>\n",
       "  <tbody>\n",
       "    <tr>\n",
       "      <th>1580</th>\n",
       "      <td>0.580083</td>\n",
       "      <td>1.551754</td>\n",
       "      <td>1.620431</td>\n",
       "      <td>1.472133</td>\n",
       "      <td>1.065020</td>\n",
       "    </tr>\n",
       "    <tr>\n",
       "      <th>2902</th>\n",
       "      <td>-0.124219</td>\n",
       "      <td>-0.206204</td>\n",
       "      <td>-0.175387</td>\n",
       "      <td>0.040817</td>\n",
       "      <td>0.524061</td>\n",
       "    </tr>\n",
       "  </tbody>\n",
       "</table>\n",
       "</div>"
      ],
      "text/plain": [
       "      monthly_charges  total_charges  subscribed_days  subscribed_years  \\\n",
       "1580         0.580083       1.551754         1.620431          1.472133   \n",
       "2902        -0.124219      -0.206204        -0.175387          0.040817   \n",
       "\n",
       "      total_internet_services  \n",
       "1580                 1.065020  \n",
       "2902                 0.524061  "
      ]
     },
     "metadata": {},
     "output_type": "display_data"
    },
    {
     "data": {
      "text/html": [
       "<div>\n",
       "<style scoped>\n",
       "    .dataframe tbody tr th:only-of-type {\n",
       "        vertical-align: middle;\n",
       "    }\n",
       "\n",
       "    .dataframe tbody tr th {\n",
       "        vertical-align: top;\n",
       "    }\n",
       "\n",
       "    .dataframe thead th {\n",
       "        text-align: right;\n",
       "    }\n",
       "</style>\n",
       "<table border=\"1\" class=\"dataframe\">\n",
       "  <thead>\n",
       "    <tr style=\"text-align: right;\">\n",
       "      <th></th>\n",
       "      <th>monthly_charges</th>\n",
       "      <th>total_charges</th>\n",
       "      <th>subscribed_days</th>\n",
       "      <th>subscribed_years</th>\n",
       "      <th>total_internet_services</th>\n",
       "    </tr>\n",
       "  </thead>\n",
       "  <tbody>\n",
       "    <tr>\n",
       "      <th>3546</th>\n",
       "      <td>0.155845</td>\n",
       "      <td>-0.816454</td>\n",
       "      <td>-1.033031</td>\n",
       "      <td>-0.913393</td>\n",
       "      <td>-1.098818</td>\n",
       "    </tr>\n",
       "    <tr>\n",
       "      <th>4268</th>\n",
       "      <td>-1.309103</td>\n",
       "      <td>-0.153967</td>\n",
       "      <td>1.541244</td>\n",
       "      <td>1.472133</td>\n",
       "      <td>-1.098818</td>\n",
       "    </tr>\n",
       "  </tbody>\n",
       "</table>\n",
       "</div>"
      ],
      "text/plain": [
       "      monthly_charges  total_charges  subscribed_days  subscribed_years  \\\n",
       "3546         0.155845      -0.816454        -1.033031         -0.913393   \n",
       "4268        -1.309103      -0.153967         1.541244          1.472133   \n",
       "\n",
       "      total_internet_services  \n",
       "3546                -1.098818  \n",
       "4268                -1.098818  "
      ]
     },
     "metadata": {},
     "output_type": "display_data"
    },
    {
     "data": {
      "text/html": [
       "<div>\n",
       "<style scoped>\n",
       "    .dataframe tbody tr th:only-of-type {\n",
       "        vertical-align: middle;\n",
       "    }\n",
       "\n",
       "    .dataframe tbody tr th {\n",
       "        vertical-align: top;\n",
       "    }\n",
       "\n",
       "    .dataframe thead th {\n",
       "        text-align: right;\n",
       "    }\n",
       "</style>\n",
       "<table border=\"1\" class=\"dataframe\">\n",
       "  <thead>\n",
       "    <tr style=\"text-align: right;\">\n",
       "      <th></th>\n",
       "      <th>monthly_charges</th>\n",
       "      <th>total_charges</th>\n",
       "      <th>subscribed_days</th>\n",
       "      <th>subscribed_years</th>\n",
       "      <th>total_internet_services</th>\n",
       "    </tr>\n",
       "  </thead>\n",
       "  <tbody>\n",
       "    <tr>\n",
       "      <th>5705</th>\n",
       "      <td>-0.145762</td>\n",
       "      <td>0.786148</td>\n",
       "      <td>1.500979</td>\n",
       "      <td>1.472133</td>\n",
       "      <td>1.605980</td>\n",
       "    </tr>\n",
       "    <tr>\n",
       "      <th>1295</th>\n",
       "      <td>-1.463221</td>\n",
       "      <td>-0.347806</td>\n",
       "      <td>1.620431</td>\n",
       "      <td>1.472133</td>\n",
       "      <td>-1.098818</td>\n",
       "    </tr>\n",
       "  </tbody>\n",
       "</table>\n",
       "</div>"
      ],
      "text/plain": [
       "      monthly_charges  total_charges  subscribed_days  subscribed_years  \\\n",
       "5705        -0.145762       0.786148         1.500979          1.472133   \n",
       "1295        -1.463221      -0.347806         1.620431          1.472133   \n",
       "\n",
       "      total_internet_services  \n",
       "5705                 1.605980  \n",
       "1295                -1.098818  "
      ]
     },
     "metadata": {},
     "output_type": "display_data"
    }
   ],
   "source": [
    "# Perform feature scaling\n",
    "sc = StandardScaler()\n",
    "X_train[numerical_features] = sc.fit_transform(X_train[numerical_features])\n",
    "X_val[numerical_features] = sc.transform(X_val[numerical_features])\n",
    "X_test[numerical_features] = sc.transform(X_test[numerical_features])\n",
    "\n",
    "# Have a check after feature scaling\n",
    "display(X_train[numerical_features].head(2))\n",
    "display(X_val[numerical_features].head(2))\n",
    "display(X_test[numerical_features].head(2))"
   ]
  },
  {
   "cell_type": "markdown",
   "metadata": {},
   "source": [
    "- The feature scaling process has been done correctly"
   ]
  },
  {
   "cell_type": "markdown",
   "metadata": {},
   "source": [
    "## Upsampling of the Training Set\n",
    "\n",
    "- We identified imbalance in the target classes. \n",
    "- We will perform a Upsampling to adress this issue"
   ]
  },
  {
   "cell_type": "code",
   "execution_count": 724,
   "metadata": {},
   "outputs": [
    {
     "data": {
      "text/plain": [
       "churn\n",
       "1    4125\n",
       "0    4125\n",
       "Name: count, dtype: int64"
      ]
     },
     "execution_count": 724,
     "metadata": {},
     "output_type": "execute_result"
    }
   ],
   "source": [
    "# Separate the training set into majority class and minority class\n",
    "X_major = X_train[y_train == 0]\n",
    "y_major = y_train[y_train == 0]\n",
    "\n",
    "X_minor = X_train[y_train == 1]\n",
    "y_minor = y_train[y_train == 1]\n",
    "\n",
    "# Get the required size for upsampling the minority class\n",
    "upsize = len(y_major)\n",
    "\n",
    "# Upsampling the minority class\n",
    "X_minor_up = X_minor.sample(upsize, replace=True, random_state=42)\n",
    "y_minor_up = y_minor.sample(upsize, replace=True, random_state=42)\n",
    "\n",
    "# Combine the majority and minority classes after upsampling and shuffle\n",
    "X_train_up = pd.concat([X_major, X_minor_up])\n",
    "y_train_up = pd.concat([y_major, y_minor_up])\n",
    "\n",
    "X_train_up, y_train_up = shuffle(X_train_up, y_train_up, random_state=42)\n",
    "\n",
    "# Check the count of each class after upsamplint\n",
    "y_train_up.value_counts()"
   ]
  },
  {
   "cell_type": "markdown",
   "metadata": {},
   "source": [
    "- The upsampling has been done correctly. Now the churn target is balanced with 50%:50%"
   ]
  },
  {
   "cell_type": "markdown",
   "metadata": {},
   "source": [
    "## Model Training"
   ]
  },
  {
   "cell_type": "code",
   "execution_count": 725,
   "metadata": {},
   "outputs": [],
   "source": [
    "# Create dictionaries to store various information for later use\n",
    "best_model = {}\n",
    "train_time = {}\n",
    "result = {}\n",
    "\n",
    "# Create a folder to store the model\n",
    "model_folder = 'models'\n",
    "os.makedirs(model_folder, exist_ok=True)"
   ]
  },
  {
   "cell_type": "markdown",
   "metadata": {},
   "source": [
    "### Constante Model\n",
    "\n",
    "- This model will be used as a baseline.\n",
    "- This model always predict the majority class\n",
    "- No hyperparameters will be tuned"
   ]
  },
  {
   "cell_type": "code",
   "execution_count": 726,
   "metadata": {},
   "outputs": [],
   "source": [
    "# Set up for the modeling process\n",
    "model_name = 'Constant'\n",
    "opt_model = DummyClassifier\n",
    "\n",
    "# Create the optuna study objective\n",
    "def objective(trial):\n",
    "    # Define the search space\n",
    "    hyperparameters = {}\n",
    "    \n",
    "    # Train and evaluate the model\n",
    "    model = opt_model(**hyperparameters)\n",
    "    model.fit(X_train_up, y_train_up)\n",
    "    val_roc_auc = roc_auc_score(y_val, model.predict_proba(X_val)[:, 1])\n",
    "\n",
    "    return val_roc_auc\n",
    "\n",
    "# Number of search to find the best model\n",
    "n_trials = 1"
   ]
  },
  {
   "cell_type": "code",
   "execution_count": 727,
   "metadata": {},
   "outputs": [
    {
     "name": "stderr",
     "output_type": "stream",
     "text": [
      "Optimising Constant... : 100%|██████████| 1/1 [00:00<00:00, 288.13it/s]"
     ]
    },
    {
     "name": "stdout",
     "output_type": "stream",
     "text": [
      "Best hyperparameters:\n"
     ]
    },
    {
     "name": "stderr",
     "output_type": "stream",
     "text": [
      "\n"
     ]
    },
    {
     "data": {
      "text/plain": [
       "{}"
      ]
     },
     "metadata": {},
     "output_type": "display_data"
    },
    {
     "name": "stdout",
     "output_type": "stream",
     "text": [
      "\n"
     ]
    },
    {
     "data": {
      "image/png": "[encoded data removed]",
      "text/plain": [
       "<Figure size 600x300 with 2 Axes>"
      ]
     },
     "metadata": {},
     "output_type": "display_data"
    },
    {
     "data": {
      "text/html": [
       "<div>\n",
       "<style scoped>\n",
       "    .dataframe tbody tr th:only-of-type {\n",
       "        vertical-align: middle;\n",
       "    }\n",
       "\n",
       "    .dataframe tbody tr th {\n",
       "        vertical-align: top;\n",
       "    }\n",
       "\n",
       "    .dataframe thead th {\n",
       "        text-align: right;\n",
       "    }\n",
       "</style>\n",
       "<table border=\"1\" class=\"dataframe\">\n",
       "  <thead>\n",
       "    <tr style=\"text-align: right;\">\n",
       "      <th></th>\n",
       "      <th>train</th>\n",
       "      <th>validation</th>\n",
       "    </tr>\n",
       "  </thead>\n",
       "  <tbody>\n",
       "    <tr>\n",
       "      <th>ROC AUC</th>\n",
       "      <td>0.5000</td>\n",
       "      <td>0.5000</td>\n",
       "    </tr>\n",
       "    <tr>\n",
       "      <th>Accuracy</th>\n",
       "      <td>0.7322</td>\n",
       "      <td>0.7443</td>\n",
       "    </tr>\n",
       "  </tbody>\n",
       "</table>\n",
       "</div>"
      ],
      "text/plain": [
       "           train  validation\n",
       "ROC AUC   0.5000      0.5000\n",
       "Accuracy  0.7322      0.7443"
      ]
     },
     "metadata": {},
     "output_type": "display_data"
    },
    {
     "name": "stdout",
     "output_type": "stream",
     "text": [
      "CPU times: total: 172 ms\n",
      "Wall time: 239 ms\n"
     ]
    }
   ],
   "source": [
    "%%time\n",
    "# Search the best possible model\n",
    "best_model[model_name], train_time[model_name] = optimise_model(\n",
    "    opt_model, objective, X_train, y_train, X_val, y_val, n_trials, model_name\n",
    ")\n",
    "\n",
    "# Evaluate the model and save the result\n",
    "result[model_name] = evaluate_model(best_model[model_name], X_train, y_train, X_val, y_val)"
   ]
  },
  {
   "cell_type": "markdown",
   "metadata": {},
   "source": [
    "- The ROC AUC scores for both the training and validation sets are 0.5. \n",
    "- The accuracy is the percentage of class `Active` in the respective dataset."
   ]
  },
  {
   "cell_type": "code",
   "execution_count": 728,
   "metadata": {},
   "outputs": [
    {
     "name": "stdout",
     "output_type": "stream",
     "text": [
      "The Constant model has been successfully saved.\n"
     ]
    }
   ],
   "source": [
    "# Create the model saving path\n",
    "model_path = os.path.join(model_folder, f'{model_name}.pkl')\n",
    "\n",
    "# Save the model\n",
    "save_model(best_model[model_name], model_path, model_name)"
   ]
  },
  {
   "cell_type": "markdown",
   "metadata": {},
   "source": [
    "### Logistic Regression\n",
    "\n",
    "- Hyperparameter to be tuned:\n",
    "    - `C`: The cost of misclassifying labels and it is the inverse of the regularisation strength. The larger the C, the more complex the model is and can possibly lead to overfitting."
   ]
  },
  {
   "cell_type": "code",
   "execution_count": 729,
   "metadata": {},
   "outputs": [],
   "source": [
    "# Set up for the modeling process\n",
    "model_name = 'Logistic Regression'\n",
    "opt_model = LogisticRegression\n",
    "\n",
    "# Create the optuna study objective\n",
    "def objective(trial):\n",
    "    # Define the search space\n",
    "    hyperparameters = {        \n",
    "        'C': trial.suggest_float('C', 1e-3, 1e3, log=True),\n",
    "    }\n",
    "    \n",
    "    # Train and evaluate the model\n",
    "    model = opt_model(**hyperparameters)\n",
    "    model.fit(X_train_up, y_train_up)\n",
    "    val_roc_auc = roc_auc_score(y_val, model.predict_proba(X_val)[:, 1])\n",
    "\n",
    "    return val_roc_auc\n",
    "\n",
    "# Number of search to find the best model\n",
    "n_trials = 100"
   ]
  },
  {
   "cell_type": "code",
   "execution_count": 730,
   "metadata": {},
   "outputs": [
    {
     "name": "stderr",
     "output_type": "stream",
     "text": [
      "Optimising Logistic Regression... : 100%|██████████| 100/100 [00:06<00:00, 16.64it/s]"
     ]
    },
    {
     "name": "stdout",
     "output_type": "stream",
     "text": [
      "Best hyperparameters:\n"
     ]
    },
    {
     "name": "stderr",
     "output_type": "stream",
     "text": [
      "\n"
     ]
    },
    {
     "data": {
      "text/plain": [
       "{'C': 54.5584970285496}"
      ]
     },
     "metadata": {},
     "output_type": "display_data"
    },
    {
     "name": "stdout",
     "output_type": "stream",
     "text": [
      "\n"
     ]
    },
    {
     "data": {
      "image/png": "[encoded data removed]",
      "text/plain": [
       "<Figure size 600x300 with 2 Axes>"
      ]
     },
     "metadata": {},
     "output_type": "display_data"
    },
    {
     "data": {
      "text/html": [
       "<div>\n",
       "<style scoped>\n",
       "    .dataframe tbody tr th:only-of-type {\n",
       "        vertical-align: middle;\n",
       "    }\n",
       "\n",
       "    .dataframe tbody tr th {\n",
       "        vertical-align: top;\n",
       "    }\n",
       "\n",
       "    .dataframe thead th {\n",
       "        text-align: right;\n",
       "    }\n",
       "</style>\n",
       "<table border=\"1\" class=\"dataframe\">\n",
       "  <thead>\n",
       "    <tr style=\"text-align: right;\">\n",
       "      <th></th>\n",
       "      <th>train</th>\n",
       "      <th>validation</th>\n",
       "    </tr>\n",
       "  </thead>\n",
       "  <tbody>\n",
       "    <tr>\n",
       "      <th>ROC AUC</th>\n",
       "      <td>0.9074</td>\n",
       "      <td>0.8933</td>\n",
       "    </tr>\n",
       "    <tr>\n",
       "      <th>Accuracy</th>\n",
       "      <td>0.8148</td>\n",
       "      <td>0.7756</td>\n",
       "    </tr>\n",
       "  </tbody>\n",
       "</table>\n",
       "</div>"
      ],
      "text/plain": [
       "           train  validation\n",
       "ROC AUC   0.9074      0.8933\n",
       "Accuracy  0.8148      0.7756"
      ]
     },
     "metadata": {},
     "output_type": "display_data"
    },
    {
     "name": "stdout",
     "output_type": "stream",
     "text": [
      "CPU times: total: 1.22 s\n",
      "Wall time: 6.29 s\n"
     ]
    }
   ],
   "source": [
    "%%time\n",
    "# Search the best possible model\n",
    "best_model[model_name], train_time[model_name] = optimise_model(\n",
    "    opt_model, objective, X_train_up, y_train_up, X_val, y_val, n_trials, model_name\n",
    ")\n",
    "\n",
    "# Evaluate the model and save the result\n",
    "result[model_name] = evaluate_model(best_model[model_name], X_train_up, y_train_up, X_val, y_val)"
   ]
  },
  {
   "cell_type": "markdown",
   "metadata": {},
   "source": [
    "- The logistic regression model has a validation ROC AUC score of 0.8933. \n",
    "- From the confusion matrix, it can be seen that the model does not have a good performance in predicting the majority class 0."
   ]
  },
  {
   "cell_type": "code",
   "execution_count": 731,
   "metadata": {},
   "outputs": [
    {
     "name": "stdout",
     "output_type": "stream",
     "text": [
      "The Logistic Regression model has been successfully saved.\n"
     ]
    }
   ],
   "source": [
    "# Create the model saving path\n",
    "model_path = os.path.join(model_folder, f'{model_name}.pkl')\n",
    "\n",
    "# Save the model\n",
    "save_model(best_model[model_name], model_path, model_name)"
   ]
  },
  {
   "cell_type": "markdown",
   "metadata": {},
   "source": [
    "### Decision Tree\n",
    "\n",
    "- The hyperparameter to be tuned:\n",
    "    - `max_depth`: The maximum depth of the decision tree. If the value is too low, the model might not be able to generalise well. However, a high value might cause overfitting."
   ]
  },
  {
   "cell_type": "code",
   "execution_count": 732,
   "metadata": {},
   "outputs": [],
   "source": [
    "# Set up for the modeling process\n",
    "model_name = 'Decision Tree'\n",
    "opt_model = DecisionTreeClassifier\n",
    "\n",
    "# Create the optuna study objective\n",
    "def objective(trial):\n",
    "    # Define the search space\n",
    "    hyperparameters = {        \n",
    "        'max_depth': trial.suggest_int('max_depth', 2, 30)\n",
    "    }\n",
    "    \n",
    "    # Train and evaluate the model\n",
    "    model = opt_model(**hyperparameters)\n",
    "    model.fit(X_train_up, y_train_up)\n",
    "    val_roc_auc = roc_auc_score(y_val, model.predict_proba(X_val)[:, 1])\n",
    "\n",
    "    return val_roc_auc\n",
    "\n",
    "# Number of search to find the best model\n",
    "n_trials = 20"
   ]
  },
  {
   "cell_type": "code",
   "execution_count": 733,
   "metadata": {},
   "outputs": [
    {
     "name": "stderr",
     "output_type": "stream",
     "text": [
      "Optimising Decision Tree... : 100%|██████████| 20/20 [00:00<00:00, 27.72it/s]"
     ]
    },
    {
     "name": "stdout",
     "output_type": "stream",
     "text": [
      "Best hyperparameters:\n"
     ]
    },
    {
     "name": "stderr",
     "output_type": "stream",
     "text": [
      "\n"
     ]
    },
    {
     "data": {
      "text/plain": [
       "{'max_depth': 8}"
      ]
     },
     "metadata": {},
     "output_type": "display_data"
    },
    {
     "name": "stdout",
     "output_type": "stream",
     "text": [
      "\n"
     ]
    },
    {
     "data": {
      "image/png": "[encoded data removed]",
      "text/plain": [
       "<Figure size 600x300 with 2 Axes>"
      ]
     },
     "metadata": {},
     "output_type": "display_data"
    },
    {
     "data": {
      "text/html": [
       "<div>\n",
       "<style scoped>\n",
       "    .dataframe tbody tr th:only-of-type {\n",
       "        vertical-align: middle;\n",
       "    }\n",
       "\n",
       "    .dataframe tbody tr th {\n",
       "        vertical-align: top;\n",
       "    }\n",
       "\n",
       "    .dataframe thead th {\n",
       "        text-align: right;\n",
       "    }\n",
       "</style>\n",
       "<table border=\"1\" class=\"dataframe\">\n",
       "  <thead>\n",
       "    <tr style=\"text-align: right;\">\n",
       "      <th></th>\n",
       "      <th>train</th>\n",
       "      <th>validation</th>\n",
       "    </tr>\n",
       "  </thead>\n",
       "  <tbody>\n",
       "    <tr>\n",
       "      <th>ROC AUC</th>\n",
       "      <td>0.9512</td>\n",
       "      <td>0.9021</td>\n",
       "    </tr>\n",
       "    <tr>\n",
       "      <th>Accuracy</th>\n",
       "      <td>0.8673</td>\n",
       "      <td>0.8480</td>\n",
       "    </tr>\n",
       "  </tbody>\n",
       "</table>\n",
       "</div>"
      ],
      "text/plain": [
       "           train  validation\n",
       "ROC AUC   0.9512      0.9021\n",
       "Accuracy  0.8673      0.8480"
      ]
     },
     "metadata": {},
     "output_type": "display_data"
    },
    {
     "name": "stdout",
     "output_type": "stream",
     "text": [
      "CPU times: total: 766 ms\n",
      "Wall time: 977 ms\n"
     ]
    }
   ],
   "source": [
    "%%time\n",
    "# Search the best possible model\n",
    "best_model[model_name], train_time[model_name] = optimise_model(\n",
    "    opt_model, objective, X_train_up, y_train_up, X_val, y_val, n_trials, model_name\n",
    ")\n",
    "\n",
    "# Evaluate the model and save the result\n",
    "result[model_name] = evaluate_model(best_model[model_name], X_train_up, y_train_up, X_val, y_val)"
   ]
  },
  {
   "cell_type": "markdown",
   "metadata": {},
   "source": [
    "- The decision tree model has a validation ROC AUC score of 0.9021 which is better than the logistic regression model. \n",
    "- The model has a overfitting issue."
   ]
  },
  {
   "cell_type": "code",
   "execution_count": 734,
   "metadata": {},
   "outputs": [
    {
     "name": "stdout",
     "output_type": "stream",
     "text": [
      "The Decision Tree model has been successfully saved.\n"
     ]
    }
   ],
   "source": [
    "# Create the model saving path\n",
    "model_path = os.path.join(model_folder, f'{model_name}.pkl')\n",
    "\n",
    "# Save the model\n",
    "save_model(best_model[model_name], model_path, model_name)"
   ]
  },
  {
   "cell_type": "markdown",
   "metadata": {},
   "source": [
    "### LightGBM\n",
    "\n",
    "- The hyperparameters to tuned are:\n",
    "    - `num_leaves`: The complexity of the model increases with the number of leaves. Therefore, a high number of leaves may lead to overfitting.\n",
    "    - `max_depth`: The maximum depth of a single tree.\n",
    "    - `n_estimators`: The total number of trees. This number should be large enough to reduce the variance and prevent model from being overfitting. However, it will be computational expensive for a large number of trees.\n",
    "    - `learning_rate`: This parameter decides the step size of the gradient descent in the optimisaton process. A small value may not find the optimised value if the number of trees is not large enough. A large value speeds up the training speed but may overshoot the optimised value.\n",
    "    - `reg_alpha`: The L1 regularisation which penalise large weights on the features and thus prevent overfitting. L1 regularisation encourages the sparsity in the features (the weight can be zero)\n",
    "    - `reg_lambda`: The L2 regularisation. This L2 regularisation is similar to the L1 regularisation but does not enforce sparsity."
   ]
  },
  {
   "cell_type": "code",
   "execution_count": 744,
   "metadata": {},
   "outputs": [],
   "source": [
    "# Set up for the modeling process\n",
    "model_name = 'LightGBM'\n",
    "opt_model = LGBMClassifier\n",
    "\n",
    "# Create the optuna study objective\n",
    "def objective(trial):\n",
    "    # Define the search space\n",
    "    hyperparameters = {       \n",
    "        'num_leaves': trial.suggest_int('num_leaves', 4, 256),\n",
    "        'max_depth': trial.suggest_int('max_depth', 5, 500),     \n",
    "        'n_estimators': trial.suggest_int('n_estimators', 100, 300),\n",
    "        'learning_rate': trial.suggest_float('learning_rate', 1e-3, 1e0, log=True),\n",
    "        'reg_alpha': trial.suggest_float('reg_alpha', 1e-3, 1e3, log=True),\n",
    "        'reg_lambda': trial.suggest_float('reg_lambda', 1e-3, 1e3, log=True),        \n",
    "        'verbose': trial.suggest_int('verbose', -1, -1)\n",
    "    }\n",
    "    \n",
    "    # Train and evaluate the model\n",
    "    model = opt_model(**hyperparameters)\n",
    "    model.fit(X_train_up, y_train_up)\n",
    "    val_roc_auc = roc_auc_score(y_val, model.predict_proba(X_val)[:, 1])\n",
    "\n",
    "    return val_roc_auc\n",
    "\n",
    "# Number of search to find the best model\n",
    "n_trials = 100"
   ]
  },
  {
   "cell_type": "code",
   "execution_count": 745,
   "metadata": {},
   "outputs": [
    {
     "name": "stderr",
     "output_type": "stream",
     "text": [
      "Optimising LightGBM... : 100%|██████████| 100/100 [00:42<00:00,  2.35it/s]"
     ]
    },
    {
     "name": "stdout",
     "output_type": "stream",
     "text": [
      "Best hyperparameters:\n"
     ]
    },
    {
     "name": "stderr",
     "output_type": "stream",
     "text": [
      "\n"
     ]
    },
    {
     "data": {
      "text/plain": [
       "{'num_leaves': 46,\n",
       " 'max_depth': 459,\n",
       " 'n_estimators': 144,\n",
       " 'learning_rate': 0.28011252362691835,\n",
       " 'reg_alpha': 1.1534383868211915,\n",
       " 'reg_lambda': 0.04480691652004276,\n",
       " 'verbose': -1}"
      ]
     },
     "metadata": {},
     "output_type": "display_data"
    },
    {
     "name": "stdout",
     "output_type": "stream",
     "text": [
      "\n"
     ]
    },
    {
     "data": {
      "image/png": "[encoded data removed]",
      "text/plain": [
       "<Figure size 600x300 with 2 Axes>"
      ]
     },
     "metadata": {},
     "output_type": "display_data"
    },
    {
     "data": {
      "text/html": [
       "<div>\n",
       "<style scoped>\n",
       "    .dataframe tbody tr th:only-of-type {\n",
       "        vertical-align: middle;\n",
       "    }\n",
       "\n",
       "    .dataframe tbody tr th {\n",
       "        vertical-align: top;\n",
       "    }\n",
       "\n",
       "    .dataframe thead th {\n",
       "        text-align: right;\n",
       "    }\n",
       "</style>\n",
       "<table border=\"1\" class=\"dataframe\">\n",
       "  <thead>\n",
       "    <tr style=\"text-align: right;\">\n",
       "      <th></th>\n",
       "      <th>train</th>\n",
       "      <th>validation</th>\n",
       "    </tr>\n",
       "  </thead>\n",
       "  <tbody>\n",
       "    <tr>\n",
       "      <th>ROC AUC</th>\n",
       "      <td>1.0000</td>\n",
       "      <td>0.9627</td>\n",
       "    </tr>\n",
       "    <tr>\n",
       "      <th>Accuracy</th>\n",
       "      <td>0.9988</td>\n",
       "      <td>0.9332</td>\n",
       "    </tr>\n",
       "  </tbody>\n",
       "</table>\n",
       "</div>"
      ],
      "text/plain": [
       "           train  validation\n",
       "ROC AUC   1.0000      0.9627\n",
       "Accuracy  0.9988      0.9332"
      ]
     },
     "metadata": {},
     "output_type": "display_data"
    },
    {
     "name": "stdout",
     "output_type": "stream",
     "text": [
      "CPU times: total: 1min 30s\n",
      "Wall time: 43.3 s\n"
     ]
    }
   ],
   "source": [
    "%%time\n",
    "# Search the best possible model\n",
    "best_model[model_name], train_time[model_name] = optimise_model(\n",
    "    opt_model, objective, X_train_up, y_train_up, X_val, y_val, n_trials, model_name\n",
    ")\n",
    "\n",
    "# Evaluate the model and save the result\n",
    "result[model_name] = evaluate_model(best_model[model_name], X_train_up, y_train_up, X_val, y_val)"
   ]
  },
  {
   "cell_type": "markdown",
   "metadata": {},
   "source": [
    "- The LightGBM model has a validation ROC AUC score of 0.9627, which make it the best model at the moment. \n",
    "- The performance on both the majority and minority classes are also improved."
   ]
  },
  {
   "cell_type": "code",
   "execution_count": 746,
   "metadata": {},
   "outputs": [
    {
     "name": "stdout",
     "output_type": "stream",
     "text": [
      "The LightGBM model has been successfully saved.\n"
     ]
    }
   ],
   "source": [
    "# Create the model saving path\n",
    "model_path = os.path.join(model_folder, f'{model_name}.pkl')\n",
    "\n",
    "# Save the model\n",
    "save_model(best_model[model_name], model_path, model_name)"
   ]
  },
  {
   "cell_type": "markdown",
   "metadata": {},
   "source": [
    "### CatBoost\n",
    "\n",
    "- The hyperparameters to be tuned are:\n",
    "    - max_depth\n",
    "    - n_estimators\n",
    "    - learning_rate\n",
    "    - reg_lambda"
   ]
  },
  {
   "cell_type": "code",
   "execution_count": 737,
   "metadata": {},
   "outputs": [],
   "source": [
    "# Set up for the modeling process\n",
    "model_name = 'CatBoost'\n",
    "opt_model = CatBoostClassifier\n",
    "\n",
    "# Create the optuna study objective\n",
    "def objective(trial):\n",
    "    # Define the search space\n",
    "    hyperparameters = {       \n",
    "        'max_depth': trial.suggest_int('max_depth', 3, 16),     \n",
    "        'n_estimators': trial.suggest_int('n_estimators', 100, 300),\n",
    "        'learning_rate': trial.suggest_float('learning_rate', 1e-3, 1e0, log=True),        \n",
    "        'reg_lambda': trial.suggest_float('reg_lambda', 1e-3, 1e3, log=True),        \n",
    "        'verbose': trial.suggest_categorical('verbose', [False])\n",
    "    }\n",
    "    \n",
    "    # Train and evaluate the model\n",
    "    model = opt_model(**hyperparameters)\n",
    "    model.fit(X_train_up, y_train_up)\n",
    "    val_roc_auc = roc_auc_score(y_val, model.predict_proba(X_val)[:, 1])\n",
    "\n",
    "    return val_roc_auc\n",
    "\n",
    "# Number of search to find the best model\n",
    "n_trials = 100"
   ]
  },
  {
   "cell_type": "code",
   "execution_count": 738,
   "metadata": {},
   "outputs": [
    {
     "name": "stderr",
     "output_type": "stream",
     "text": [
      "Optimising CatBoost... : 100%|██████████| 100/100 [10:40<00:00,  6.41s/it]"
     ]
    },
    {
     "name": "stdout",
     "output_type": "stream",
     "text": [
      "Best hyperparameters:\n"
     ]
    },
    {
     "name": "stderr",
     "output_type": "stream",
     "text": [
      "\n"
     ]
    },
    {
     "data": {
      "text/plain": [
       "{'max_depth': 3,\n",
       " 'n_estimators': 284,\n",
       " 'learning_rate': 0.15473492846120235,\n",
       " 'reg_lambda': 0.029135277554386885,\n",
       " 'verbose': False}"
      ]
     },
     "metadata": {},
     "output_type": "display_data"
    },
    {
     "name": "stdout",
     "output_type": "stream",
     "text": [
      "\n"
     ]
    },
    {
     "data": {
      "image/png": "[encoded data removed]",
      "text/plain": [
       "<Figure size 600x300 with 2 Axes>"
      ]
     },
     "metadata": {},
     "output_type": "display_data"
    },
    {
     "data": {
      "text/html": [
       "<div>\n",
       "<style scoped>\n",
       "    .dataframe tbody tr th:only-of-type {\n",
       "        vertical-align: middle;\n",
       "    }\n",
       "\n",
       "    .dataframe tbody tr th {\n",
       "        vertical-align: top;\n",
       "    }\n",
       "\n",
       "    .dataframe thead th {\n",
       "        text-align: right;\n",
       "    }\n",
       "</style>\n",
       "<table border=\"1\" class=\"dataframe\">\n",
       "  <thead>\n",
       "    <tr style=\"text-align: right;\">\n",
       "      <th></th>\n",
       "      <th>train</th>\n",
       "      <th>validation</th>\n",
       "    </tr>\n",
       "  </thead>\n",
       "  <tbody>\n",
       "    <tr>\n",
       "      <th>ROC AUC</th>\n",
       "      <td>0.9948</td>\n",
       "      <td>0.9698</td>\n",
       "    </tr>\n",
       "    <tr>\n",
       "      <th>Accuracy</th>\n",
       "      <td>0.9632</td>\n",
       "      <td>0.9446</td>\n",
       "    </tr>\n",
       "  </tbody>\n",
       "</table>\n",
       "</div>"
      ],
      "text/plain": [
       "           train  validation\n",
       "ROC AUC   0.9948      0.9698\n",
       "Accuracy  0.9632      0.9446"
      ]
     },
     "metadata": {},
     "output_type": "display_data"
    },
    {
     "name": "stdout",
     "output_type": "stream",
     "text": [
      "CPU times: total: 30min 31s\n",
      "Wall time: 10min 42s\n"
     ]
    }
   ],
   "source": [
    "%%time\n",
    "# Search the best possible model\n",
    "best_model[model_name], train_time[model_name] = optimise_model(\n",
    "    opt_model, objective, X_train_up, y_train_up, X_val, y_val, n_trials, model_name\n",
    ")\n",
    "\n",
    "# Evaluate the model and save the result\n",
    "result[model_name] = evaluate_model(best_model[model_name], X_train_up, y_train_up, X_val, y_val)"
   ]
  },
  {
   "cell_type": "markdown",
   "metadata": {},
   "source": [
    "- The CatBoost model achieves an even better validation ROC AUC score of 0.9698 compared to the LightGBM model."
   ]
  },
  {
   "cell_type": "code",
   "execution_count": 740,
   "metadata": {},
   "outputs": [
    {
     "name": "stdout",
     "output_type": "stream",
     "text": [
      "The CatBoost model has been successfully saved.\n"
     ]
    }
   ],
   "source": [
    "# Create the model saving path\n",
    "model_path = os.path.join(model_folder, f'{model_name}.pkl')\n",
    "\n",
    "# Save the model\n",
    "save_model(best_model[model_name], model_path, model_name)"
   ]
  },
  {
   "cell_type": "markdown",
   "metadata": {},
   "source": [
    "### XGBoost\n",
    "\n",
    "- The hyperparameters to be tuned are:\n",
    "    - num_leaves\n",
    "    - max_depth\n",
    "    - n_estimators\n",
    "    - learning_rate\n",
    "    - reg_alpha\n",
    "    - reg_lambda"
   ]
  },
  {
   "cell_type": "code",
   "execution_count": 741,
   "metadata": {},
   "outputs": [],
   "source": [
    "# Set up for the modeling process\n",
    "model_name = 'XGBoost'\n",
    "opt_model = XGBClassifier\n",
    "\n",
    "# Create the optuna study objective\n",
    "def objective(trial):\n",
    "    # Define the search space\n",
    "    hyperparameters = {       \n",
    "        'num_leaves': trial.suggest_int('num_leaves', 4, 256),\n",
    "        'max_depth': trial.suggest_int('max_depth', 5, 500),     \n",
    "        'n_estimators': trial.suggest_int('n_estimators', 100, 300),\n",
    "        'learning_rate': trial.suggest_float('learning_rate', 1e-3, 1e0, log=True),\n",
    "        'reg_alpha': trial.suggest_float('reg_alpha', 1e-3, 1e3, log=True),\n",
    "        'reg_lambda': trial.suggest_float('reg_lambda', 1e-3, 1e3, log=True),        \n",
    "        'verbose': trial.suggest_int('verbose', -1, -1)\n",
    "    }\n",
    "    \n",
    "    # Train and evaluate the model\n",
    "    model = opt_model(**hyperparameters)\n",
    "    model.fit(X_train_up, y_train_up)\n",
    "    val_roc_auc = roc_auc_score(y_val, model.predict_proba(X_val)[:, 1])\n",
    "\n",
    "    return val_roc_auc\n",
    "\n",
    "# Number of search to find the best model\n",
    "n_trials = 100"
   ]
  },
  {
   "cell_type": "code",
   "execution_count": 742,
   "metadata": {},
   "outputs": [
    {
     "name": "stderr",
     "output_type": "stream",
     "text": [
      "Optimising XGBoost... : 100%|██████████| 100/100 [01:48<00:00,  1.09s/it]"
     ]
    },
    {
     "name": "stdout",
     "output_type": "stream",
     "text": [
      "Best hyperparameters:\n"
     ]
    },
    {
     "name": "stderr",
     "output_type": "stream",
     "text": [
      "\n"
     ]
    },
    {
     "data": {
      "text/plain": [
       "{'num_leaves': 47,\n",
       " 'max_depth': 5,\n",
       " 'n_estimators': 285,\n",
       " 'learning_rate': 0.25450697647918435,\n",
       " 'reg_alpha': 0.002460672015811655,\n",
       " 'reg_lambda': 0.0033499971284827504,\n",
       " 'verbose': -1}"
      ]
     },
     "metadata": {},
     "output_type": "display_data"
    },
    {
     "name": "stdout",
     "output_type": "stream",
     "text": [
      "\n"
     ]
    },
    {
     "data": {
      "image/png": "[encoded data removed]",
      "text/plain": [
       "<Figure size 600x300 with 2 Axes>"
      ]
     },
     "metadata": {},
     "output_type": "display_data"
    },
    {
     "data": {
      "text/html": [
       "<div>\n",
       "<style scoped>\n",
       "    .dataframe tbody tr th:only-of-type {\n",
       "        vertical-align: middle;\n",
       "    }\n",
       "\n",
       "    .dataframe tbody tr th {\n",
       "        vertical-align: top;\n",
       "    }\n",
       "\n",
       "    .dataframe thead th {\n",
       "        text-align: right;\n",
       "    }\n",
       "</style>\n",
       "<table border=\"1\" class=\"dataframe\">\n",
       "  <thead>\n",
       "    <tr style=\"text-align: right;\">\n",
       "      <th></th>\n",
       "      <th>train</th>\n",
       "      <th>validation</th>\n",
       "    </tr>\n",
       "  </thead>\n",
       "  <tbody>\n",
       "    <tr>\n",
       "      <th>ROC AUC</th>\n",
       "      <td>1.0000</td>\n",
       "      <td>0.9612</td>\n",
       "    </tr>\n",
       "    <tr>\n",
       "      <th>Accuracy</th>\n",
       "      <td>0.9999</td>\n",
       "      <td>0.9432</td>\n",
       "    </tr>\n",
       "  </tbody>\n",
       "</table>\n",
       "</div>"
      ],
      "text/plain": [
       "           train  validation\n",
       "ROC AUC   1.0000      0.9612\n",
       "Accuracy  0.9999      0.9432"
      ]
     },
     "metadata": {},
     "output_type": "display_data"
    },
    {
     "name": "stdout",
     "output_type": "stream",
     "text": [
      "CPU times: total: 11min 7s\n",
      "Wall time: 1min 49s\n"
     ]
    }
   ],
   "source": [
    "%%time\n",
    "# Search the best possible model\n",
    "best_model[model_name], train_time[model_name] = optimise_model(\n",
    "    opt_model, objective, X_train_up, y_train_up, X_val, y_val, n_trials, model_name\n",
    ")\n",
    "\n",
    "# Evaluate the model and save the result\n",
    "result[model_name] = evaluate_model(best_model[model_name], X_train_up, y_train_up, X_val, y_val)"
   ]
  },
  {
   "cell_type": "markdown",
   "metadata": {},
   "source": [
    "- The XGBoost model has a validation ROC AUC score of 0.9612 which is the lowest among the three gradient boosting ensembles."
   ]
  },
  {
   "cell_type": "code",
   "execution_count": 743,
   "metadata": {},
   "outputs": [
    {
     "name": "stdout",
     "output_type": "stream",
     "text": [
      "The XGBoost model has been successfully saved.\n"
     ]
    }
   ],
   "source": [
    "# Create the model saving path\n",
    "model_path = os.path.join(model_folder, f'{model_name}.pkl')\n",
    "\n",
    "# Save the model\n",
    "save_model(best_model[model_name], model_path, model_name)"
   ]
  },
  {
   "cell_type": "markdown",
   "metadata": {},
   "source": [
    "### Conclusion of Modeling Step\n",
    "\n",
    "#### **Features and Target Selection**\n",
    "- Six machine learning models will be trained, including a **baseline model**, a **logistic regression model**, a **decision tree**, and three **gradient boosting models** (LightGBM, CatBoost, XGBoost).\n",
    "- The dataset will be split into **features** and **target**, removing unnecessary columns such as `customer_id`, `begin_date`, and `end_date`.\n",
    "\n",
    "#### **One-Hot Encoding**\n",
    "- Categorical variables will be transformed using **one-hot encoding** to ensure compatibility with machine learning models.\n",
    "\n",
    "#### **Dataset Splitting and Handling Imbalance**\n",
    "- The dataset will be split into **training (80%)**, **validation (10%)**, and **test (10%)** sets.\n",
    "- As the target variable is **imbalanced**, upsampling will be applied to balance the classes.\n",
    "\n",
    "#### **Feature Scaling**\n",
    "- Feature scaling will be performed to help **gradient boosting models** converge more efficiently.\n",
    "\n",
    "#### **Upsampling of the Training Set**\n",
    "- The **minority class (churned customers)** will be upsampled to achieve a **50:50 balance** in the training set.\n",
    "\n",
    "---\n",
    "\n",
    "### **Model Training and Evaluation**\n",
    "\n",
    "#### **Baseline Model (Constant Model)**\n",
    "- The baseline model always predicts the majority class.\n",
    "- ROC AUC score is **0.5**, setting a benchmark for comparison.\n",
    "\n",
    "#### **Logistic Regression**\n",
    "- The model's **C parameter** (regularization strength) will be tuned.\n",
    "- The validation **ROC AUC score is 0.8933**, but it struggles to predict the majority class.\n",
    "\n",
    "#### **Decision Tree**\n",
    "- The **max_depth** parameter will be tuned to avoid underfitting or overfitting.\n",
    "- The validation **ROC AUC score is 0.9021**, but the model overfits the training data.\n",
    "\n",
    "#### **Gradient Boosting Models**\n",
    "\n",
    "##### **LightGBM**\n",
    "- Key parameters to tune: **num_leaves, max_depth, n_estimators, learning_rate, reg_alpha, reg_lambda**.\n",
    "- Validation **ROC AUC score: 0.9627**, showing improved performance.\n",
    "\n",
    "##### **CatBoost**\n",
    "- Key parameters: **max_depth, n_estimators, learning_rate, reg_lambda**.\n",
    "- **Best validation score: 0.9698**, outperforming all previous models.\n",
    "\n",
    "##### **XGBoost**\n",
    "- Key parameters: **num_leaves, max_depth, n_estimators, learning_rate, reg_alpha, reg_lambda**.\n",
    "- **Validation score: 0.9612**, slightly lower than LightGBM and CatBoost."
   ]
  },
  {
   "cell_type": "markdown",
   "metadata": {},
   "source": [
    "# Model Evaluation"
   ]
  },
  {
   "cell_type": "code",
   "execution_count": 748,
   "metadata": {},
   "outputs": [
    {
     "data": {
      "text/html": [
       "<div>\n",
       "<style scoped>\n",
       "    .dataframe tbody tr th:only-of-type {\n",
       "        vertical-align: middle;\n",
       "    }\n",
       "\n",
       "    .dataframe tbody tr th {\n",
       "        vertical-align: top;\n",
       "    }\n",
       "\n",
       "    .dataframe thead th {\n",
       "        text-align: right;\n",
       "    }\n",
       "</style>\n",
       "<table border=\"1\" class=\"dataframe\">\n",
       "  <thead>\n",
       "    <tr style=\"text-align: right;\">\n",
       "      <th></th>\n",
       "      <th>train_roc_auc</th>\n",
       "      <th>val_roc_auc</th>\n",
       "      <th>train_acc</th>\n",
       "      <th>val_acc</th>\n",
       "      <th>prediction_time (ms)</th>\n",
       "      <th>training_time (ms)</th>\n",
       "    </tr>\n",
       "  </thead>\n",
       "  <tbody>\n",
       "    <tr>\n",
       "      <th>CatBoost</th>\n",
       "      <td>0.9948</td>\n",
       "      <td>0.9698</td>\n",
       "      <td>0.9632</td>\n",
       "      <td>0.9446</td>\n",
       "      <td>2.00</td>\n",
       "      <td>1625.35</td>\n",
       "    </tr>\n",
       "    <tr>\n",
       "      <th>LightGBM</th>\n",
       "      <td>1.0000</td>\n",
       "      <td>0.9627</td>\n",
       "      <td>0.9988</td>\n",
       "      <td>0.9332</td>\n",
       "      <td>15.62</td>\n",
       "      <td>302.69</td>\n",
       "    </tr>\n",
       "    <tr>\n",
       "      <th>XGBoost</th>\n",
       "      <td>1.0000</td>\n",
       "      <td>0.9612</td>\n",
       "      <td>0.9999</td>\n",
       "      <td>0.9432</td>\n",
       "      <td>34.80</td>\n",
       "      <td>626.17</td>\n",
       "    </tr>\n",
       "    <tr>\n",
       "      <th>Decision Tree</th>\n",
       "      <td>0.9512</td>\n",
       "      <td>0.9021</td>\n",
       "      <td>0.8673</td>\n",
       "      <td>0.8480</td>\n",
       "      <td>15.66</td>\n",
       "      <td>41.71</td>\n",
       "    </tr>\n",
       "    <tr>\n",
       "      <th>Logistic Regression</th>\n",
       "      <td>0.9074</td>\n",
       "      <td>0.8933</td>\n",
       "      <td>0.8148</td>\n",
       "      <td>0.7756</td>\n",
       "      <td>0.00</td>\n",
       "      <td>46.97</td>\n",
       "    </tr>\n",
       "    <tr>\n",
       "      <th>Constant</th>\n",
       "      <td>0.5000</td>\n",
       "      <td>0.5000</td>\n",
       "      <td>0.7322</td>\n",
       "      <td>0.7443</td>\n",
       "      <td>0.00</td>\n",
       "      <td>0.00</td>\n",
       "    </tr>\n",
       "  </tbody>\n",
       "</table>\n",
       "</div>"
      ],
      "text/plain": [
       "                     train_roc_auc  val_roc_auc  train_acc  val_acc  \\\n",
       "CatBoost                    0.9948       0.9698     0.9632   0.9446   \n",
       "LightGBM                    1.0000       0.9627     0.9988   0.9332   \n",
       "XGBoost                     1.0000       0.9612     0.9999   0.9432   \n",
       "Decision Tree               0.9512       0.9021     0.8673   0.8480   \n",
       "Logistic Regression         0.9074       0.8933     0.8148   0.7756   \n",
       "Constant                    0.5000       0.5000     0.7322   0.7443   \n",
       "\n",
       "                     prediction_time (ms)  training_time (ms)  \n",
       "CatBoost                             2.00             1625.35  \n",
       "LightGBM                            15.62              302.69  \n",
       "XGBoost                             34.80              626.17  \n",
       "Decision Tree                       15.66               41.71  \n",
       "Logistic Regression                  0.00               46.97  \n",
       "Constant                             0.00                0.00  "
      ]
     },
     "execution_count": 748,
     "metadata": {},
     "output_type": "execute_result"
    }
   ],
   "source": [
    "# Merge the recorded result\n",
    "result_df = pd.merge(\n",
    "    pd.DataFrame(result).transpose(),\n",
    "    pd.DataFrame([train_time]).transpose().rename(columns={0: 'training_time (ms)'}),\n",
    "    left_index = True,\n",
    "    right_index = True\n",
    ").sort_values('val_roc_auc', ascending=False)\n",
    "\n",
    "result_df"
   ]
  },
  {
   "cell_type": "code",
   "execution_count": 749,
   "metadata": {},
   "outputs": [
    {
     "data": {
      "image/png": "[encoded data removed]",
      "text/plain": [
       "<Figure size 800x600 with 6 Axes>"
      ]
     },
     "metadata": {},
     "output_type": "display_data"
    }
   ],
   "source": [
    "# Plot bar charts to visualise the result\n",
    "nrows, ncols = 3, 2\n",
    "sns.set_style('dark')\n",
    "\n",
    "fig, axs = plt.subplots(nrows, ncols, figsize=(8, 6))\n",
    "\n",
    "fig.suptitle('Model Evalaution', fontsize=15, fontweight='bold')\n",
    "\n",
    "# Assign a specific color for each models\n",
    "colors = sns.color_palette('Set1')\n",
    "model_colors = {}\n",
    "for i, model in enumerate(result_df.index):\n",
    "    color = colors[i % len(colors)]\n",
    "    model_colors[model] = color\n",
    "\n",
    "# Plot the bar charts\n",
    "for i in range(nrows):\n",
    "    for j in range(ncols):\n",
    "        col = result_df.columns[i*ncols + j]\n",
    "        if 'time' in col:\n",
    "            col_data = result_df[col].sort_values()\n",
    "        else:\n",
    "            col_data = result_df[col].sort_values(ascending=False)\n",
    "\n",
    "        ax = axs[i][j]\n",
    "        sns.barplot(y=col_data.index, x=col_data.values, hue=col_data.index, palette=model_colors, ax=ax)\n",
    "        title = ' '.join([word.capitalize() for word in col.split('_')])\n",
    "        ax.set_title(title, fontsize=13, fontweight='bold')\n",
    "        ax.set_xlabel('')\n",
    "        ax.set_ylabel('Model', fontweight='bold')\n",
    "\n",
    "plt.tight_layout()\n",
    "plt.show()"
   ]
  },
  {
   "cell_type": "markdown",
   "metadata": {},
   "source": [
    "**Model Evaluation**\n",
    "\n",
    "- All the models outperform the baseline constant model. The gradient boosting ensembles demonstrate superior performance compared to other models.\n",
    "- Each model shows mild to moderate overfitting, especially the XGBoost and decision tree models.\n",
    "- The XGBoost model requires more time for predictions than the other models, while the CatBoost model has the longest training duration.\n",
    "- **The CatBoost model which has the highest validation ROC AUC score of 0.9698 is chosen as the final model. Additonally, the model also has the fastest prediction time among the three gradient boosting ensembles.**"
   ]
  },
  {
   "cell_type": "markdown",
   "metadata": {},
   "source": [
    "**Features Importance**"
   ]
  },
  {
   "cell_type": "code",
   "execution_count": 751,
   "metadata": {},
   "outputs": [
    {
     "data": {
      "image/png": "[encoded data removed]",
      "text/plain": [
       "<Figure size 800x400 with 1 Axes>"
      ]
     },
     "metadata": {},
     "output_type": "display_data"
    }
   ],
   "source": [
    "# Find the feature importances returned by the CatBoost model\n",
    "feature_importance = pd.DataFrame({\n",
    "    'feature': best_model['CatBoost'].feature_names_,\n",
    "    'feature_importance': best_model['CatBoost'].feature_importances_\n",
    "}).sort_values('feature_importance', ascending=False)\n",
    "\n",
    "# Plot a bar chart to visualise the top 10 features\n",
    "sns.set_style('darkgrid')\n",
    "plt.figure(figsize=(8, 4))\n",
    "\n",
    "sns.barplot(data=feature_importance[:10], y='feature', x='feature_importance')\n",
    "plt.title('Feature Importance in Predicting Customer Churn (CatBoost)', x=0.3, y=1.02, fontsize=14, fontweight='bold')\n",
    "plt.xlabel('Feature Importance', fontsize=12, fontweight='bold')\n",
    "plt.ylabel('Feature', fontsize=12, fontweight='bold')\n",
    "\n",
    "plt.show()"
   ]
  },
  {
   "cell_type": "markdown",
   "metadata": {},
   "source": [
    "## Evaluation of the Final Model on the Test Set"
   ]
  },
  {
   "cell_type": "code",
   "execution_count": 752,
   "metadata": {},
   "outputs": [
    {
     "data": {
      "image/png": "[encoded data removed]",
      "text/plain": [
       "<Figure size 600x300 with 2 Axes>"
      ]
     },
     "metadata": {},
     "output_type": "display_data"
    },
    {
     "data": {
      "text/html": [
       "<div>\n",
       "<style scoped>\n",
       "    .dataframe tbody tr th:only-of-type {\n",
       "        vertical-align: middle;\n",
       "    }\n",
       "\n",
       "    .dataframe tbody tr th {\n",
       "        vertical-align: top;\n",
       "    }\n",
       "\n",
       "    .dataframe thead th {\n",
       "        text-align: right;\n",
       "    }\n",
       "</style>\n",
       "<table border=\"1\" class=\"dataframe\">\n",
       "  <thead>\n",
       "    <tr style=\"text-align: right;\">\n",
       "      <th></th>\n",
       "      <th>train</th>\n",
       "      <th>test</th>\n",
       "    </tr>\n",
       "  </thead>\n",
       "  <tbody>\n",
       "    <tr>\n",
       "      <th>ROC AUC</th>\n",
       "      <td>0.9948</td>\n",
       "      <td>0.9897</td>\n",
       "    </tr>\n",
       "    <tr>\n",
       "      <th>Accuracy</th>\n",
       "      <td>0.9632</td>\n",
       "      <td>0.9660</td>\n",
       "    </tr>\n",
       "  </tbody>\n",
       "</table>\n",
       "</div>"
      ],
      "text/plain": [
       "           train    test\n",
       "ROC AUC   0.9948  0.9897\n",
       "Accuracy  0.9632  0.9660"
      ]
     },
     "metadata": {},
     "output_type": "display_data"
    }
   ],
   "source": [
    "# Evaluate the final model on the test set\n",
    "evaluate_model(best_model['CatBoost'], X_train_up, y_train_up, X_test, y_test, test_set=True)"
   ]
  },
  {
   "cell_type": "markdown",
   "metadata": {},
   "source": [
    "- The CatBoost model maintains a consistent performance on the test set with a ROC AUC score of 0.9897 and an accuracy of 0.9660. \n",
    "- The model shows a less satisfactory results in predicting the minority class Left. To verify this, we will examine the classification report."
   ]
  },
  {
   "cell_type": "code",
   "execution_count": 755,
   "metadata": {},
   "outputs": [
    {
     "name": "stdout",
     "output_type": "stream",
     "text": [
      "              precision    recall  f1-score   support\n",
      "\n",
      "           0       0.98      0.98      0.98       525\n",
      "           1       0.93      0.94      0.93       180\n",
      "\n",
      "    accuracy                           0.97       705\n",
      "   macro avg       0.95      0.96      0.96       705\n",
      "weighted avg       0.97      0.97      0.97       705\n",
      "\n"
     ]
    }
   ],
   "source": [
    "# Print the classification report of CatBoost\n",
    "print(classification_report(y_test, best_model['CatBoost'].predict(X_test)))"
   ]
  },
  {
   "cell_type": "markdown",
   "metadata": {},
   "source": [
    "- Comparing the recall and f1-score, the CatBoost model exhibits a slightly inferior performance in predicting the minority class."
   ]
  },
  {
   "cell_type": "code",
   "execution_count": 756,
   "metadata": {},
   "outputs": [
    {
     "name": "stdout",
     "output_type": "stream",
     "text": [
      "The CatBoost model outperforms the linear regression model on test set by 91.41%\n"
     ]
    }
   ],
   "source": [
    "# Sanity check the lgbm model with the linear regression model\n",
    "base_roc_auc = roc_auc_score(y_test, best_model['Constant'].predict(X_test))\n",
    "cat_roc_auc = roc_auc_score(y_test, best_model['CatBoost'].predict(X_test))\n",
    "\n",
    "print('The CatBoost model outperforms the linear regression model on test set by ', end='')\n",
    "print(f'{(cat_roc_auc / base_roc_auc) - 1:.2%}')"
   ]
  },
  {
   "cell_type": "markdown",
   "metadata": {},
   "source": [
    "### **Model Evaluation and Final Selection**\n",
    "- **Gradient boosting models outperform the logistic regression and decision tree.**\n",
    "- **CatBoost achieves the highest validation ROC AUC score (0.9698) and is chosen as the final model.**  \n",
    "- The model maintains strong performance on the **test set (ROC AUC: 0.9897, Accuracy: 0.9660).**\n",
    "- Some limitations: the model struggles with **minority class prediction**, confirmed by the classification report.\n",
    "- Overall, **CatBoost is the best model** due to its **high accuracy and fast prediction time** compared to XGBoost and LightGBM."
   ]
  },
  {
   "cell_type": "markdown",
   "metadata": {},
   "source": [
    "### **Final Conclusion**\n",
    "\n",
    "The analysis and modeling process provided valuable insights into customer churn behavior and led to the development of a high-performing predictive model. \n",
    "\n",
    "1. **Key Business Insights:**  \n",
    "   - Customers paying **higher monthly fees ($70–$100)** are at the highest risk of churn.  \n",
    "   - **Internet service dissatisfaction** appears to be a significant churn driver.  \n",
    "   - **Electronic check and paperless billing methods** are associated with higher churn rates.  \n",
    "   - Customers on **month-to-month contracts** have the highest churn, emphasizing the importance of **long-term subscriptions and bundled services** for retention.  \n",
    "   - **Senior citizens and customers without dependents** are more likely to churn.  \n",
    "\n",
    "2. **Machine Learning Model Performance:**  \n",
    "   - Multiple models were trained and evaluated, with **gradient boosting models outperforming logistic regression and decision trees**.  \n",
    "   - **CatBoost achieved the highest validation ROC AUC score (0.9698)** and demonstrated strong performance in predicting churn.  \n",
    "   - The model performed consistently well on the **test set (ROC AUC: 0.9897, Accuracy: 0.9660)**, confirming its reliability.  \n",
    "\n",
    "3. **Next Steps and Deployment Possibilities:**  \n",
    "   - With the trained and saved models, it is now possible to **deploy the churn prediction model using Streamlit** for future implementations.  \n",
    "   - This deployment will enable real-time churn risk assessment, allowing businesses to take **proactive retention actions**.  \n",
    "   - The model can be **further refined** with additional data and hyperparameter tuning to improve minority class predictions.  \n",
    "\n",
    "By leveraging the insights and predictive capabilities of the CatBoost model, the business can develop targeted **customer retention strategies, optimize pricing plans, and enhance service offerings** to minimize churn and maximize customer lifetime value."
   ]
  },
  {
   "cell_type": "markdown",
   "metadata": {},
   "source": [
    "# Solution Report\n",
    "\n",
    "### **Project Retrospective: Execution and Challenges**  \n",
    "\n",
    "#### **1. Which steps of the plan were executed and which were skipped? Explain why.**  \n",
    "Most steps of the plan were successfully executed, while some were adjusted or deprioritized based on project requirements.  \n",
    "\n",
    "✅ **Executed Steps:**  \n",
    "- **Exploratory Data Analysis (EDA):** Data was cleaned, merged, and preprocessed, ensuring data integrity.  \n",
    "- **Feature Engineering:** New features, such as churn classification and service segmentation, were created.  \n",
    "- **Data Preprocessing:** One-hot encoding, feature scaling, and handling of missing values were implemented.  \n",
    "- **Dataset Splitting:** The dataset was divided into training (80%), validation (10%), and test (10%) sets.  \n",
    "- **Handling Imbalanced Data:** Upsampling was performed to balance the churn classes.  \n",
    "- **Model Training and Evaluation:** Multiple models, including Logistic Regression, Decision Tree, and Gradient Boosting models (LightGBM, CatBoost, XGBoost), were trained and evaluated.  \n",
    "- **Model Selection:** The best-performing model (CatBoost) was chosen based on its ROC AUC score.  \n",
    "\n",
    "⏭ **Skipped or Adjusted Steps:**  \n",
    "- **Predictive Model Deployment:** Although the model was trained and saved, the deployment via Streamlit was suggested for future implementation rather than executed in this phase.  \n",
    "- **Advanced Feature Engineering:** While new features were created, additional interactions between variables could be explored in future iterations.  \n",
    "- **Hyperparameter Fine-Tuning for All Models:** Only essential hyperparameters were tuned, prioritizing models with better baseline performance.  \n",
    "\n",
    "#### **2. What difficulties did you encounter and how did you resolve them?**  \n",
    "-  **Imbalanced Dataset:** The churn data was imbalanced, which could lead to biased predictions. **Solution:** Upsampling was applied to ensure a balanced distribution of classes.  \n",
    "\n",
    "-  **Overfitting in Certain Models:** The Decision Tree model exhibited overfitting, making it unreliable. **Solution:** Regularization techniques were applied in gradient boosting models, which improved generalization.  \n",
    "\n",
    "#### **3. What were the main steps in solving the task?**  \n",
    "1. **Data Preparation and Preprocessing:** Cleaning missing values, merging datasets, feature engineering, and encoding categorical variables.  \n",
    "2. **Handling Imbalanced Data:** Implementing upsampling to balance the churn and active customer classes.  \n",
    "3. **Feature Scaling and Dataset Splitting:** Preparing the data for machine learning training by scaling numerical features and splitting into training, validation, and test sets.  \n",
    "4. **Model Training and Evaluation:** Training multiple models (Logistic Regression, Decision Tree, LightGBM, CatBoost, XGBoost), evaluating performance using ROC AUC scores, and selecting the best-performing model.  \n",
    "5. **Final Model Selection:** Choosing **CatBoost** as the final model based on its superior validation score and predictive power.  \n",
    "\n",
    "#### **4. What is your final model and what is its quality score?**  \n",
    "📌 **Final Model:** **CatBoost**  \n",
    "📊 **Validation ROC AUC Score:** **0.9698**  \n",
    "📊 **Test ROC AUC Score:** **0.9897**  \n",
    "📊 **Test Accuracy:** **0.9660**  \n",
    "\n",
    "The **CatBoost model was chosen as the final model** due to its high performance, ability to handle categorical variables efficiently, and faster prediction times compared to other gradient boosting models. While it showed slight difficulty in predicting the minority class (churned customers), it remains the best model for implementation.  "
   ]
  },
  {
   "cell_type": "markdown",
   "metadata": {},
   "source": []
  },
  {
   "cell_type": "markdown",
   "metadata": {},
   "source": []
  }
 ],
 "metadata": {
  "kernelspec": {
   "display_name": "3.12.1",
   "language": "python",
   "name": "python3"
  },
  "language_info": {
   "codemirror_mode": {
    "name": "ipython",
    "version": 3
   },
   "file_extension": ".py",
   "mimetype": "text/x-python",
   "name": "python",
   "nbconvert_exporter": "python",
   "pygments_lexer": "ipython3",
   "version": "3.12.1"
  }
 },
 "nbformat": 4,
 "nbformat_minor": 2
}
